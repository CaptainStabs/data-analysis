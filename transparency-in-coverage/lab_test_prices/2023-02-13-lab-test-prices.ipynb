{
 "cells": [
  {
   "cell_type": "markdown",
   "id": "b14be1ba-f0d8-445f-b005-cb736ea3ad58",
   "metadata": {},
   "source": [
    "## Finding hospitals with expensive lab tests"
   ]
  },
  {
   "cell_type": "markdown",
   "id": "cc24f0ce-b86b-4775-b2ea-7fb942e7d0da",
   "metadata": {},
   "source": [
    "Let's clone the database and export the data (this might take a sec ;-))"
   ]
  },
  {
   "cell_type": "code",
   "execution_count": null,
   "id": "54f90886-3205-4c10-8558-b93fc32f37fd",
   "metadata": {},
   "outputs": [],
   "source": [
    "!sudo bash -c 'curl -L https://github.com/dolthub/dolt/releases/latest/download/install.sh | sudo bash'\n",
    "!dolt clone dolthub/quest-v3\n",
    "!dolt sql -q \"select billing_code_type, billing_code, billing_code_modifier, reporting_entity_name, negotiated_rate, npi from rate join npi_rate on npi_rate.rate_id = rate.id join code on code.id = rate.code_id join price_metadata on price_metadata.id = rate.price_metadata_id join insurer on insurer.id = rate.insurer_id\" -r csv >> outputwnpi.csv"
   ]
  },
  {
   "cell_type": "markdown",
   "id": "ab61140b-aedb-4a1e-998b-8f5d3d66ea21",
   "metadata": {},
   "source": [
    "Our analysis is done in polars, which (imo) has a cleaner API than pandas."
   ]
  },
  {
   "cell_type": "code",
   "execution_count": null,
   "id": "521bb6d0-7cc3-475b-ac2e-a8b5225450cc",
   "metadata": {},
   "outputs": [],
   "source": [
    "import polars as pl\n",
    "from polars import col"
   ]
  },
  {
   "cell_type": "code",
   "execution_count": null,
   "id": "05103b56-6fda-43a6-aced-df6a21c8f655",
   "metadata": {},
   "outputs": [],
   "source": [
    "save_dir = './quest-v3-redux' # change this to '.' if file saved in this dir"
   ]
  },
  {
   "cell_type": "code",
   "execution_count": null,
   "id": "5f72234a-6c9b-4968-a2a3-ce6aa0e8793f",
   "metadata": {},
   "outputs": [],
   "source": [
    "df = pl.read_csv(f'{save_dir}/outputwnpi.csv', infer_schema_length = 10_000)"
   ]
  },
  {
   "cell_type": "code",
   "execution_count": null,
   "id": "51c830ce-b9a4-47b8-9dce-bbd6b2f21fc4",
   "metadata": {},
   "outputs": [],
   "source": [
    "df = df.unique()"
   ]
  },
  {
   "cell_type": "code",
   "execution_count": null,
   "id": "52c864e2-00c3-48bc-a6b8-b87f4da84a84",
   "metadata": {},
   "outputs": [],
   "source": [
    "placeholder_prices = [ # \"suspected...\"\n",
    "    999999.99,         # Sierra Health...\n",
    "    699999.99,         # Blue Cross\n",
    "    99999.99,          # UMR\n",
    "    88888.88,          # United, Medica, Oxford\n",
    "    49999.5,\n",
    "    39999.6,           # Rocky Mountain Health placeholder value\n",
    "    8720.0,            # Aetna\n",
    "    811.0,             # Anthem (?)\n",
    "    458.0,             # Anthem (?)\n",
    "    140.0,             # ?\n",
    "    .01,               # Aetna (?) (internal?)\n",
    "    .02,               # (?)\n",
    "    0]\n",
    "\n",
    "df = df.filter(~col('negotiated_rate').is_in(placeholder_prices))"
   ]
  },
  {
   "cell_type": "markdown",
   "id": "6912b89b-1935-446d-856c-f87c14adc9c7",
   "metadata": {},
   "source": [
    "There's one billing code that consistently comes up as confusingly expensive in this analysis and I'm not sure why. It's a simple blood draw coded CPT 36416 or 36415, and it's usually bundled with other codes, and not billed separately. I'm going to filter it out for the time being."
   ]
  },
  {
   "cell_type": "code",
   "execution_count": null,
   "id": "402b0bbf-44b9-4d9e-a13d-94c325256f79",
   "metadata": {},
   "outputs": [],
   "source": [
    "df = df.filter(~col('billing_code').is_in(['36416', '36415']))"
   ]
  },
  {
   "cell_type": "code",
   "execution_count": null,
   "id": "4f8cde37-7032-4c12-bc61-bfeaf5e076db",
   "metadata": {},
   "outputs": [],
   "source": [
    "def compute_means_and_ratios(df) -> pl.DataFrame():\n",
    "    \"\"\"Compute the mean of each negotiated rate to get a kind of reference value.\n",
    "    The 'multiplier' is the negotiated_rate/mean.\"\"\"\n",
    "    return (df\n",
    "      .with_column(\n",
    "          pl.mean('negotiated_rate').over(['billing_code_type', 'billing_code', 'billing_code_modifier']).alias('rate_mean')\n",
    "      ).with_column(\n",
    "          (col('negotiated_rate')/col('rate_mean')).alias('multiplier')\n",
    "      ))"
   ]
  },
  {
   "cell_type": "code",
   "execution_count": null,
   "id": "be56d3bc-18d8-4f0e-9810-7df5d25f0070",
   "metadata": {},
   "outputs": [],
   "source": [
    "df = compute_means_and_ratios(df)"
   ]
  },
  {
   "cell_type": "markdown",
   "id": "3e7e41f6-b2a3-4b9c-ad09-5e21a7b1371d",
   "metadata": {},
   "source": [
    "Let's get rid of any prices that are too low which might be skewing our mean downwards. This makes our analysis more robust -- by making the average price as high as reasonably-is-possible, we can say more confidently that prices that are way higher than this are truly outliers."
   ]
  },
  {
   "cell_type": "code",
   "execution_count": null,
   "id": "065582a5-f5c2-4abe-a8a0-088803526137",
   "metadata": {},
   "outputs": [],
   "source": [
    "df = df.filter(col('multiplier') > .01)"
   ]
  },
  {
   "cell_type": "markdown",
   "id": "76606286-6d7f-427d-bd2b-de94e7047eb2",
   "metadata": {},
   "source": [
    "We'll need to compute the means and ratios again."
   ]
  },
  {
   "cell_type": "code",
   "execution_count": null,
   "id": "d8f64c82-3e19-4927-9351-ec74f23c2eb6",
   "metadata": {},
   "outputs": [],
   "source": [
    "df = compute_means_and_ratios(df)"
   ]
  },
  {
   "cell_type": "markdown",
   "id": "122370f5-e950-4472-b13f-64112fc9b4df",
   "metadata": {},
   "source": [
    "Now let's look at hospitals which appear often in this dataset. We'll filter down to rates which are over 20x the average."
   ]
  },
  {
   "cell_type": "code",
   "execution_count": null,
   "id": "07c0130d-8938-415d-9b81-798b56498604",
   "metadata": {},
   "outputs": [],
   "source": [
    "(df\n",
    " .filter(col('multiplier') > 20) # filter down to the highest negotiated rates\n",
    " .select(['npi', 'billing_code_type', 'billing_code', 'billing_code_modifier',])\n",
    " .unique()\n",
    " ['npi']                         # get just the NPI numbers\n",
    " .value_counts()\n",
    " .sort('counts')                 # sort by the NPIs that appear most frequently in this set\n",
    " [-10:]                          # take just the last 10\n",
    ")"
   ]
  },
  {
   "cell_type": "markdown",
   "id": "314ac7b3-a2a0-4469-8315-91551f6c17fe",
   "metadata": {},
   "source": [
    "Let's make this easier to understand by joining this with NPPES, the database of NPIs with provider information."
   ]
  },
  {
   "cell_type": "code",
   "execution_count": null,
   "id": "387aedfc-8a43-4815-b91d-37000819d143",
   "metadata": {},
   "outputs": [],
   "source": [
    "!wget https://download.cms.gov/nppes/NPPES_Data_Dissemination_January_2023.zip\n",
    "!unzip NPPES_Data_Dissemination_January_2023.zip"
   ]
  },
  {
   "cell_type": "code",
   "execution_count": null,
   "id": "3f610882-a886-4b22-b2f1-01848c300b1b",
   "metadata": {},
   "outputs": [],
   "source": [
    "npi = pl.scan_csv(f'{save_dir}/npidata_pfile_20050523-20230108.csv', infer_schema_length = 10_000)"
   ]
  },
  {
   "cell_type": "code",
   "execution_count": null,
   "id": "c9b2c141-f9f9-4dd8-938f-2a9b90ac1d36",
   "metadata": {},
   "outputs": [],
   "source": [
    "npi = npi.select(['NPI', \n",
    "            'Provider Organization Name (Legal Business Name)', \n",
    "            'Provider Business Practice Location Address City Name', \n",
    "            'Provider Business Practice Location Address State Name',])"
   ]
  },
  {
   "cell_type": "code",
   "execution_count": null,
   "id": "a96486f3-8a07-4c04-84fa-9fc25680791a",
   "metadata": {},
   "outputs": [],
   "source": [
    "npi = npi.collect()"
   ]
  },
  {
   "cell_type": "code",
   "execution_count": null,
   "id": "c7f032d7-2d32-46d0-9b7b-ae36f9c07cb3",
   "metadata": {},
   "outputs": [],
   "source": [
    "exp_hosps = (df\n",
    " .filter(col('multiplier') > 20) # filter down to the highest negotiated rates\n",
    " .select(['npi', 'billing_code_type', 'billing_code', 'billing_code_modifier',])\n",
    " .unique()\n",
    " ['npi']                         # get just the NPI numbers\n",
    " .value_counts()\n",
    " .sort('counts')                 # sort by the NPIs that appear most frequently in this set\n",
    " [-10:]                          # take just the last 10\n",
    ").join(npi, left_on = 'npi', right_on = 'NPI').sort('counts').rename({'counts': 'number_disinct_codes_gt_20_times_mean_rate'})"
   ]
  },
  {
   "cell_type": "code",
   "execution_count": null,
   "id": "95f4cf27-38a4-4288-a033-9f8c4d8aacdd",
   "metadata": {},
   "outputs": [],
   "source": [
    "print(exp_hosps.to_pandas().set_index('npi').to_markdown())"
   ]
  },
  {
   "cell_type": "markdown",
   "id": "227f04f1-69ce-4c19-a04f-b1d438e29f50",
   "metadata": {},
   "source": [
    "The last hospital, Havasu Regional, has the highest number of lab tests with a cost ratio of over 20x the mean price. We can look more closely at those rates by filtering down the first dataframe."
   ]
  },
  {
   "cell_type": "code",
   "execution_count": null,
   "id": "57ba2e54-7bb0-443d-8fbd-efe89c1b1906",
   "metadata": {},
   "outputs": [],
   "source": [
    "exp_npi = exp_hosps[-1]['npi'][0]\n",
    "df.filter(col('npi') == exp_npi).sort('multiplier')"
   ]
  },
  {
   "cell_type": "markdown",
   "id": "3d79bf45-cfff-4cb6-a1de-5877174eb144",
   "metadata": {},
   "source": [
    "## Finding the codes with the highest dispersion"
   ]
  },
  {
   "cell_type": "code",
   "execution_count": null,
   "id": "869f64d1-8cc1-48db-85ed-6f91772f134b",
   "metadata": {},
   "outputs": [],
   "source": [
    "df.filter(col('billing_code') == '83903').with_columns([\n",
    "    (pl\n",
    "     .std('negotiated_rate')\n",
    "     .over(['billing_code_type', 'billing_code', 'billing_code_modifier'])/col('rate_mean')).alias('dispersion'),\n",
    "    (col('negotiated_rate')/col('rate_mean')).alias('normalized_rate')\n",
    "])"
   ]
  },
  {
   "cell_type": "code",
   "execution_count": null,
   "id": "ae95cefe-4599-4d94-b683-e99ef92558e5",
   "metadata": {},
   "outputs": [],
   "source": [
    "disp = (df\n",
    " .with_columns([\n",
    "     (pl\n",
    "      .std('negotiated_rate')\n",
    "      .over(['billing_code_type', 'billing_code', 'billing_code_modifier'])\n",
    "      /col('rate_mean')\n",
    "     ).alias('dispersion'),\n",
    "    (col('negotiated_rate')/col('rate_mean')).alias('normalized_rate')\n",
    " ])\n",
    " .filter(col('dispersion') > 0)\n",
    ")"
   ]
  },
  {
   "cell_type": "code",
   "execution_count": null,
   "id": "91a89a5e-7571-4ae7-83bb-684bde16f39b",
   "metadata": {},
   "outputs": [],
   "source": [
    "import altair as alt"
   ]
  },
  {
   "cell_type": "code",
   "execution_count": null,
   "id": "84a2dbe6-365a-4f2b-ab77-7c12c3bd33b1",
   "metadata": {},
   "outputs": [],
   "source": [
    "alt.data_transformers.disable_max_rows()"
   ]
  },
  {
   "cell_type": "code",
   "execution_count": null,
   "id": "2ebe421e-8ad2-4ec5-ae8f-652b3f540bfd",
   "metadata": {},
   "outputs": [],
   "source": [
    "def wordsin(string, wordlist):\n",
    "    if any([w in string for w in wordlist]):\n",
    "        return True \n",
    "    else:\n",
    "        return False\n",
    "\n",
    "from functools import partial"
   ]
  },
  {
   "cell_type": "code",
   "execution_count": null,
   "id": "5c043cb2-23bc-425c-a1e8-b5e9a9e8be6e",
   "metadata": {},
   "outputs": [],
   "source": [
    "def get_insurer(string) -> str:\n",
    "    string = string.lower()\n",
    "    pwordsin = partial(wordsin, string)\n",
    "    if pwordsin(['unitedhealth', 'united health', 'umr']):\n",
    "        return 'UnitedHealthCare'\n",
    "    elif pwordsin(['blue cross', 'bluecross', 'blueshield', 'blue shield', 'anthem', 'florida blue']):\n",
    "        return 'Anthem'\n",
    "    elif pwordsin(['centene']):\n",
    "        return 'Centene'\n",
    "    elif pwordsin(['aetna']):\n",
    "        return 'Aetna'\n",
    "    return 'Other'"
   ]
  },
  {
   "cell_type": "code",
   "execution_count": null,
   "id": "bae0d8d4-d3bf-45a3-a82e-419e7d12485b",
   "metadata": {},
   "outputs": [],
   "source": [
    "source = disp.filter(col('dispersion') > 1.7).filter(col('normalized_rate') < 50)"
   ]
  },
  {
   "cell_type": "code",
   "execution_count": null,
   "id": "1d5b211f-6ac1-41bd-a49b-42ef21e41a62",
   "metadata": {},
   "outputs": [],
   "source": [
    "insurer_table = (pl\n",
    "                 .DataFrame([{'reporting_entity_name':x, 'normalized_name':y} \n",
    "                             for x,y in \n",
    "                                 {x: get_insurer(x) \n",
    "                                      for x in source['reporting_entity_name'].unique()}.items()\n",
    "                            ]))"
   ]
  },
  {
   "cell_type": "code",
   "execution_count": null,
   "id": "f6b55013-df5b-4143-9be9-1760fa00c98b",
   "metadata": {},
   "outputs": [],
   "source": [
    "!wget https://gist.githubusercontent.com/lieldulev/439793dc3c5a6613b661c33d71fdd185/raw/25c3abcc5c24e640a0a5da1ee04198a824bf58fa/cpt4.csv"
   ]
  },
  {
   "cell_type": "code",
   "execution_count": null,
   "id": "a464ac36-5830-42dc-8da0-9fdd88a31f62",
   "metadata": {},
   "outputs": [],
   "source": [
    "cpt = pl.read_csv('cpt4.csv')"
   ]
  },
  {
   "cell_type": "code",
   "execution_count": null,
   "id": "937820dd-5fe6-4ffe-a65e-32faf1e2bdcc",
   "metadata": {},
   "outputs": [],
   "source": [
    "cpt.columns = ['billing_code', 'label']"
   ]
  },
  {
   "cell_type": "code",
   "execution_count": null,
   "id": "9912ca3c-fe6b-49c9-acd0-27cb314e7cf7",
   "metadata": {},
   "outputs": [],
   "source": [
    "source = source.join(insurer_table, on = 'reporting_entity_name').join(cpt, on = 'billing_code').to_pandas()"
   ]
  },
  {
   "cell_type": "code",
   "execution_count": null,
   "id": "fe06d3b5-52e9-4aca-b222-b306d0e9ac39",
   "metadata": {},
   "outputs": [],
   "source": [
    "import altair as alt\n",
    "from vega_datasets import data\n",
    "\n",
    "subtitle_text = [\n",
    "    \"\"\"\"\"\",\n",
    "    \"\"\"These are the (normalized) rates that insurance companies have negotiated with hospitals for lab tests.\"\"\",\n",
    "    \"\"\"Because lab tests make up only 3-4% of hospital revenues, they can more freely use \\\"strategic pricing\\\"\"\"\",\n",
    "    \"\"\"to extract more in reimbursements from insurance companies. Rates can vary wildly between hospitals.\"\"\",\n",
    "    \"\"\"Some tests come in at more than 20 times the average price.\"\"\",\n",
    "    \"\"\"\"\"\",\n",
    "    ]\n",
    "\n",
    "alt.Chart(source.sample(100)).mark_tick(opacity = 0.5).encode(\n",
    "    y = alt.Y('label:N', title = None),\n",
    "    x = alt.X('normalized_rate:Q', title = 'Hospital reimbursement, as multiple of mean negotiated price'),\n",
    "    color = alt.Color('normalized_name:N', scale=alt.Scale(scheme='category10'), title = 'Insurance Co.'),\n",
    ").properties(width = 700,\n",
    "             title = {'text': 'Price dispersion for lab tests',\n",
    "                      'subtitle': subtitle_text,\n",
    "                      'anchor': 'start',}\n",
    ").configure_axis(\n",
    "    labelFontSize=16,\n",
    "    titleFontSize=16,\n",
    "    labelLimit = 200,\n",
    ").configure_title(\n",
    "    align = 'right',\n",
    "    fontSize = 20,\n",
    "    subtitleFontSize = 15,\n",
    ").configure_legend(\n",
    "    labelFontSize = 16,\n",
    "    titleFontSize = 16,\n",
    ")\n"
   ]
  },
  {
   "cell_type": "code",
   "execution_count": null,
   "id": "ce9235d8-dfe9-40f6-a454-c5ceed4ccf2c",
   "metadata": {},
   "outputs": [],
   "source": []
  }
 ],
 "metadata": {
  "kernelspec": {
   "display_name": "Python 3 (ipykernel)",
   "language": "python",
   "name": "python3"
  },
  "language_info": {
   "codemirror_mode": {
    "name": "ipython",
    "version": 3
   },
   "file_extension": ".py",
   "mimetype": "text/x-python",
   "name": "python",
   "nbconvert_exporter": "python",
   "pygments_lexer": "ipython3",
   "version": "3.9.12"
  }
 },
 "nbformat": 4,
 "nbformat_minor": 5
}
