{
 "cells": [
  {
   "cell_type": "code",
   "execution_count": null,
   "id": "54f90886-3205-4c10-8558-b93fc32f37fd",
   "metadata": {},
   "outputs": [],
   "source": [
    "!sudo bash -c 'curl -L https://github.com/dolthub/dolt/releases/latest/download/install.sh | sudo bash'\n",
    "!dolt clone dolthub/quest-v3\n",
    "!dolt sql -q \"select billing_code_type, billing_code, billing_code_modifier, reporting_entity_name, negotiated_rate, npi from rate join npi_rate on npi_rate.rate_id = rate.id join code on code.id = rate.code_id join price_metadata on price_metadata.id = rate.price_metadata_id join insurer on insurer.id = rate.insurer_id\" -r csv >> outputwnpi.csv"
   ]
  },
  {
   "cell_type": "code",
   "execution_count": 44,
   "id": "521bb6d0-7cc3-475b-ac2e-a8b5225450cc",
   "metadata": {},
   "outputs": [],
   "source": [
    "import polars as pl\n",
    "from polars import col"
   ]
  },
  {
   "cell_type": "code",
   "execution_count": 45,
   "id": "05103b56-6fda-43a6-aced-df6a21c8f655",
   "metadata": {},
   "outputs": [],
   "source": [
    "save_dir = './quest-v3-redux' # change this to './' if file saved in this dir"
   ]
  },
  {
   "cell_type": "code",
   "execution_count": 46,
   "id": "5f72234a-6c9b-4968-a2a3-ce6aa0e8793f",
   "metadata": {},
   "outputs": [],
   "source": [
    "df = pl.read_csv(f'{save_dir}/outputwnpi.csv', infer_schema_length = 10_000)"
   ]
  },
  {
   "cell_type": "code",
   "execution_count": 47,
   "id": "51c830ce-b9a4-47b8-9dce-bbd6b2f21fc4",
   "metadata": {},
   "outputs": [],
   "source": [
    "df = df.unique()"
   ]
  },
  {
   "cell_type": "code",
   "execution_count": 69,
   "id": "52c864e2-00c3-48bc-a6b8-b87f4da84a84",
   "metadata": {},
   "outputs": [],
   "source": [
    "placeholder_prices = [ # \"suspected...\"\n",
    "    999999.99,         # Sierra Health...\n",
    "    699999.99,         # Blue Cross\n",
    "    99999.99,          # UMR\n",
    "    88888.88,          # United, Medica, Oxford\n",
    "    49999.5,\n",
    "    39999.6,           # Rocky Mountain Health placeholder value\n",
    "    8720.0,            # Aetna\n",
    "    811.0,             # Anthem (?)\n",
    "    458.0,             # Anthem (?)\n",
    "    140.0,             # ?\n",
    "    .01,               # Aetna (?) (internal?)\n",
    "    .02,               # (?)\n",
    "    0]\n",
    "\n",
    "df = df.filter(~col('negotiated_rate').is_in(placeholder_prices))"
   ]
  },
  {
   "cell_type": "markdown",
   "id": "6912b89b-1935-446d-856c-f87c14adc9c7",
   "metadata": {},
   "source": [
    "There's one billing code that consistently comes up as confusingly expensive in this analysis and I'm not sure why. It's a simple blood draw coded CPT 36416 or 36415, and it's usually bundled with other codes, and not billed separately. I'm going to filter it out for the time being."
   ]
  },
  {
   "cell_type": "code",
   "execution_count": 70,
   "id": "402b0bbf-44b9-4d9e-a13d-94c325256f79",
   "metadata": {},
   "outputs": [],
   "source": [
    "df = df.filter(~col('billing_code').is_in(['36416', '36415']))"
   ]
  },
  {
   "cell_type": "code",
   "execution_count": 71,
   "id": "4f8cde37-7032-4c12-bc61-bfeaf5e076db",
   "metadata": {},
   "outputs": [],
   "source": [
    "def compute_means_and_ratios(df) -> pl.DataFrame():\n",
    "    \"\"\"Compute the mean of each negotiated rate to get a kind of reference value.\n",
    "    The 'multiplier' is the negotiated_rate/mean.\"\"\"\n",
    "    return (df\n",
    "      .with_column(\n",
    "          pl.mean('negotiated_rate').over(['billing_code_type', 'billing_code', 'billing_code_modifier']).alias('rate_mean')\n",
    "      ).with_column(\n",
    "          (col('negotiated_rate')/col('rate_mean')).alias('multiplier')\n",
    "      ))"
   ]
  },
  {
   "cell_type": "code",
   "execution_count": 72,
   "id": "be56d3bc-18d8-4f0e-9810-7df5d25f0070",
   "metadata": {},
   "outputs": [],
   "source": [
    "df = compute_means_and_ratios(df)"
   ]
  },
  {
   "cell_type": "markdown",
   "id": "3e7e41f6-b2a3-4b9c-ad09-5e21a7b1371d",
   "metadata": {},
   "source": [
    "Let's get rid of any prices that are too low which might be skewing our mean downwards. This makes our analysis more robust -- by making the average price as high as reasonably-is-possible, we can say more confidently that prices that are way higher than this are truly outliers."
   ]
  },
  {
   "cell_type": "code",
   "execution_count": 73,
   "id": "065582a5-f5c2-4abe-a8a0-088803526137",
   "metadata": {},
   "outputs": [],
   "source": [
    "df = df.filter(col('multiplier') > .01)"
   ]
  },
  {
   "cell_type": "markdown",
   "id": "76606286-6d7f-427d-bd2b-de94e7047eb2",
   "metadata": {},
   "source": [
    "We'll need to compute the means and ratios again."
   ]
  },
  {
   "cell_type": "code",
   "execution_count": 74,
   "id": "d8f64c82-3e19-4927-9351-ec74f23c2eb6",
   "metadata": {},
   "outputs": [],
   "source": [
    "df = compute_means_and_ratios(df)"
   ]
  },
  {
   "cell_type": "markdown",
   "id": "122370f5-e950-4472-b13f-64112fc9b4df",
   "metadata": {},
   "source": [
    "Now let's look at hospitals which appear often in this dataset. We'll filter down to rates which are over 20x the average."
   ]
  },
  {
   "cell_type": "code",
   "execution_count": 75,
   "id": "07c0130d-8938-415d-9b81-798b56498604",
   "metadata": {},
   "outputs": [
    {
     "data": {
      "text/html": [
       "<div>\n",
       "<style scoped>\n",
       "    .dataframe tbody tr th:only-of-type {\n",
       "        vertical-align: middle;\n",
       "    }\n",
       "\n",
       "    .dataframe tbody tr th {\n",
       "        vertical-align: top;\n",
       "    }\n",
       "\n",
       "    .dataframe thead th {\n",
       "        text-align: right;\n",
       "    }\n",
       "\n",
       "    .dataframe td {\n",
       "        white-space: pre;\n",
       "    }\n",
       "\n",
       "    .dataframe td {\n",
       "        padding-top: 0;\n",
       "    }\n",
       "\n",
       "    .dataframe td {\n",
       "        padding-bottom: 0;\n",
       "    }\n",
       "\n",
       "    .dataframe td {\n",
       "        line-height: 95%;\n",
       "    }\n",
       "</style>\n",
       "<table border=\"1\" class=\"dataframe\" >\n",
       "<small>shape: (10, 2)</small>\n",
       "<thead>\n",
       "<tr>\n",
       "<th>\n",
       "npi\n",
       "</th>\n",
       "<th>\n",
       "counts\n",
       "</th>\n",
       "</tr>\n",
       "<tr>\n",
       "<td>\n",
       "i64\n",
       "</td>\n",
       "<td>\n",
       "u32\n",
       "</td>\n",
       "</tr>\n",
       "</thead>\n",
       "<tbody>\n",
       "<tr>\n",
       "<td>\n",
       "1831140979\n",
       "</td>\n",
       "<td>\n",
       "9\n",
       "</td>\n",
       "</tr>\n",
       "<tr>\n",
       "<td>\n",
       "1649273434\n",
       "</td>\n",
       "<td>\n",
       "9\n",
       "</td>\n",
       "</tr>\n",
       "<tr>\n",
       "<td>\n",
       "1285798918\n",
       "</td>\n",
       "<td>\n",
       "9\n",
       "</td>\n",
       "</tr>\n",
       "<tr>\n",
       "<td>\n",
       "1699770149\n",
       "</td>\n",
       "<td>\n",
       "9\n",
       "</td>\n",
       "</tr>\n",
       "<tr>\n",
       "<td>\n",
       "1326079534\n",
       "</td>\n",
       "<td>\n",
       "10\n",
       "</td>\n",
       "</tr>\n",
       "<tr>\n",
       "<td>\n",
       "1154618742\n",
       "</td>\n",
       "<td>\n",
       "10\n",
       "</td>\n",
       "</tr>\n",
       "<tr>\n",
       "<td>\n",
       "1881697878\n",
       "</td>\n",
       "<td>\n",
       "13\n",
       "</td>\n",
       "</tr>\n",
       "<tr>\n",
       "<td>\n",
       "1902897820\n",
       "</td>\n",
       "<td>\n",
       "15\n",
       "</td>\n",
       "</tr>\n",
       "<tr>\n",
       "<td>\n",
       "1194706655\n",
       "</td>\n",
       "<td>\n",
       "47\n",
       "</td>\n",
       "</tr>\n",
       "<tr>\n",
       "<td>\n",
       "1780761866\n",
       "</td>\n",
       "<td>\n",
       "49\n",
       "</td>\n",
       "</tr>\n",
       "</tbody>\n",
       "</table>\n",
       "</div>"
      ],
      "text/plain": [
       "shape: (10, 2)\n",
       "┌────────────┬────────┐\n",
       "│ npi        ┆ counts │\n",
       "│ ---        ┆ ---    │\n",
       "│ i64        ┆ u32    │\n",
       "╞════════════╪════════╡\n",
       "│ 1831140979 ┆ 9      │\n",
       "├╌╌╌╌╌╌╌╌╌╌╌╌┼╌╌╌╌╌╌╌╌┤\n",
       "│ 1649273434 ┆ 9      │\n",
       "├╌╌╌╌╌╌╌╌╌╌╌╌┼╌╌╌╌╌╌╌╌┤\n",
       "│ 1285798918 ┆ 9      │\n",
       "├╌╌╌╌╌╌╌╌╌╌╌╌┼╌╌╌╌╌╌╌╌┤\n",
       "│ 1699770149 ┆ 9      │\n",
       "├╌╌╌╌╌╌╌╌╌╌╌╌┼╌╌╌╌╌╌╌╌┤\n",
       "│ ...        ┆ ...    │\n",
       "├╌╌╌╌╌╌╌╌╌╌╌╌┼╌╌╌╌╌╌╌╌┤\n",
       "│ 1881697878 ┆ 13     │\n",
       "├╌╌╌╌╌╌╌╌╌╌╌╌┼╌╌╌╌╌╌╌╌┤\n",
       "│ 1902897820 ┆ 15     │\n",
       "├╌╌╌╌╌╌╌╌╌╌╌╌┼╌╌╌╌╌╌╌╌┤\n",
       "│ 1194706655 ┆ 47     │\n",
       "├╌╌╌╌╌╌╌╌╌╌╌╌┼╌╌╌╌╌╌╌╌┤\n",
       "│ 1780761866 ┆ 49     │\n",
       "└────────────┴────────┘"
      ]
     },
     "execution_count": 75,
     "metadata": {},
     "output_type": "execute_result"
    }
   ],
   "source": [
    "(df\n",
    " .filter(col('multiplier') > 20) # filter down to the highest negotiated rates\n",
    " .select(['npi', 'billing_code_type', 'billing_code', 'billing_code_modifier',])\n",
    " .unique()\n",
    " ['npi']                         # get just the NPI numbers\n",
    " .value_counts()\n",
    " .sort('counts')                 # sort by the NPIs that appear most frequently in this set\n",
    " [-10:]                          # take just the last 10\n",
    ")"
   ]
  },
  {
   "cell_type": "markdown",
   "id": "314ac7b3-a2a0-4469-8315-91551f6c17fe",
   "metadata": {},
   "source": [
    "Let's make this easier to understand by joining this with NPPES, the database of NPIs with provider information."
   ]
  },
  {
   "cell_type": "code",
   "execution_count": null,
   "id": "387aedfc-8a43-4815-b91d-37000819d143",
   "metadata": {},
   "outputs": [],
   "source": [
    "!wget https://download.cms.gov/nppes/NPPES_Data_Dissemination_January_2023.zip\n",
    "!unzip NPPES_Data_Dissemination_January_2023.zip"
   ]
  },
  {
   "cell_type": "code",
   "execution_count": 56,
   "id": "3f610882-a886-4b22-b2f1-01848c300b1b",
   "metadata": {},
   "outputs": [],
   "source": [
    "npi = pl.scan_csv(f'{save_dir}/npidata_pfile_20050523-20230108.csv', infer_schema_length = 10_000)"
   ]
  },
  {
   "cell_type": "code",
   "execution_count": 57,
   "id": "c9b2c141-f9f9-4dd8-938f-2a9b90ac1d36",
   "metadata": {},
   "outputs": [],
   "source": [
    "npi = npi.select(['NPI', \n",
    "            'Entity Type Code',\n",
    "            'Provider Organization Name (Legal Business Name)', \n",
    "            'Provider First Line Business Practice Location Address', \n",
    "            'Provider Business Practice Location Address City Name', \n",
    "            'Provider Business Practice Location Address State Name',\n",
    "            'Healthcare Provider Taxonomy Code_1',])"
   ]
  },
  {
   "cell_type": "code",
   "execution_count": 58,
   "id": "a96486f3-8a07-4c04-84fa-9fc25680791a",
   "metadata": {},
   "outputs": [],
   "source": [
    "npi = npi.collect()"
   ]
  },
  {
   "cell_type": "code",
   "execution_count": 88,
   "id": "c7f032d7-2d32-46d0-9b7b-ae36f9c07cb3",
   "metadata": {},
   "outputs": [],
   "source": [
    "exp_hosps = (df\n",
    " .filter(col('multiplier') > 20) # filter down to the highest negotiated rates\n",
    " .select(['npi', 'billing_code_type', 'billing_code', 'billing_code_modifier',])\n",
    " .unique()\n",
    " ['npi']                         # get just the NPI numbers\n",
    " .value_counts()\n",
    " .sort('counts')                 # sort by the NPIs that appear most frequently in this set\n",
    " [-20:]                          # take just the last 10\n",
    ").join(npi, left_on = 'npi', right_on = 'NPI').sort('counts').rename({'counts': 'number_disinct_codes_gt_20_times_mean_rate'})"
   ]
  },
  {
   "cell_type": "code",
   "execution_count": 89,
   "id": "95f4cf27-38a4-4288-a033-9f8c4d8aacdd",
   "metadata": {},
   "outputs": [
    {
     "name": "stdout",
     "output_type": "stream",
     "text": [
      "shape: (20, 8)\n",
      "┌───────┬────────────┬────────────┬────────────┬────────────┬────────────┬────────────┬────────────┐\n",
      "│ npi   ┆ number_dis ┆ Entity     ┆ Provider   ┆ Provider   ┆ Provider   ┆ Provider   ┆ Healthcare │\n",
      "│ ---   ┆ inct_codes ┆ Type Code  ┆ Organizati ┆ First Line ┆ Business   ┆ Business   ┆ Provider   │\n",
      "│ i64   ┆ _gt_20_tim ┆ ---        ┆ on Name    ┆ Business   ┆ Practice   ┆ Practice   ┆ Taxonomy   │\n",
      "│       ┆ es...      ┆ str        ┆ (Lega...   ┆ Pra...     ┆ Locat...   ┆ Locat...   ┆ Cod...     │\n",
      "│       ┆ ---        ┆            ┆ ---        ┆ ---        ┆ ---        ┆ ---        ┆ ---        │\n",
      "│       ┆ u32        ┆            ┆ str        ┆ str        ┆ str        ┆ str        ┆ str        │\n",
      "╞═══════╪════════════╪════════════╪════════════╪════════════╪════════════╪════════════╪════════════╡\n",
      "│ 17806 ┆ 5          ┆ 2          ┆ QUEST DIAG ┆ 33608      ┆ SAN JUAN   ┆ CA         ┆ 291U00000X │\n",
      "│ 20526 ┆            ┆            ┆ NOSTICS    ┆ ORTEGA HWY ┆ CAPISTRANO ┆            ┆            │\n",
      "│       ┆            ┆            ┆ NICHOLS    ┆            ┆            ┆            ┆            │\n",
      "│       ┆            ┆            ┆ INSTIT...  ┆            ┆            ┆            ┆            │\n",
      "├╌╌╌╌╌╌╌┼╌╌╌╌╌╌╌╌╌╌╌╌┼╌╌╌╌╌╌╌╌╌╌╌╌┼╌╌╌╌╌╌╌╌╌╌╌╌┼╌╌╌╌╌╌╌╌╌╌╌╌┼╌╌╌╌╌╌╌╌╌╌╌╌┼╌╌╌╌╌╌╌╌╌╌╌╌┼╌╌╌╌╌╌╌╌╌╌╌╌┤\n",
      "│ 14472 ┆ 5          ┆ 2          ┆ QUEST DIAG ┆ 14225      ┆ CHANTILLY  ┆ VA         ┆ 291U00000X │\n",
      "│ 96272 ┆            ┆            ┆ NOSTICS    ┆ NEWBROOK   ┆            ┆            ┆            │\n",
      "│       ┆            ┆            ┆ NICHOLS    ┆ DR         ┆            ┆            ┆            │\n",
      "│       ┆            ┆            ┆ INSTIT...  ┆            ┆            ┆            ┆            │\n",
      "├╌╌╌╌╌╌╌┼╌╌╌╌╌╌╌╌╌╌╌╌┼╌╌╌╌╌╌╌╌╌╌╌╌┼╌╌╌╌╌╌╌╌╌╌╌╌┼╌╌╌╌╌╌╌╌╌╌╌╌┼╌╌╌╌╌╌╌╌╌╌╌╌┼╌╌╌╌╌╌╌╌╌╌╌╌┼╌╌╌╌╌╌╌╌╌╌╌╌┤\n",
      "│ 19922 ┆ 7          ┆ 2          ┆ NHCI OF    ┆ 101 CIRCLE ┆ HILLSBORO  ┆ TX         ┆ 282NC0060X │\n",
      "│ 85282 ┆            ┆            ┆ HILLSBORO  ┆ DR         ┆            ┆            ┆            │\n",
      "│       ┆            ┆            ┆ INC        ┆            ┆            ┆            ┆            │\n",
      "├╌╌╌╌╌╌╌┼╌╌╌╌╌╌╌╌╌╌╌╌┼╌╌╌╌╌╌╌╌╌╌╌╌┼╌╌╌╌╌╌╌╌╌╌╌╌┼╌╌╌╌╌╌╌╌╌╌╌╌┼╌╌╌╌╌╌╌╌╌╌╌╌┼╌╌╌╌╌╌╌╌╌╌╌╌┼╌╌╌╌╌╌╌╌╌╌╌╌┤\n",
      "│ 12356 ┆ 7          ┆ 2          ┆ FAIRFIELD  ┆ 125 NEWMAN ┆ FAIRFIELD  ┆ TX         ┆ 282N00000X │\n",
      "│ 85892 ┆            ┆            ┆ HOSPITAL   ┆ ST         ┆            ┆            ┆            │\n",
      "│       ┆            ┆            ┆ DISTRICT   ┆            ┆            ┆            ┆            │\n",
      "├╌╌╌╌╌╌╌┼╌╌╌╌╌╌╌╌╌╌╌╌┼╌╌╌╌╌╌╌╌╌╌╌╌┼╌╌╌╌╌╌╌╌╌╌╌╌┼╌╌╌╌╌╌╌╌╌╌╌╌┼╌╌╌╌╌╌╌╌╌╌╌╌┼╌╌╌╌╌╌╌╌╌╌╌╌┼╌╌╌╌╌╌╌╌╌╌╌╌┤\n",
      "│ ...   ┆ ...        ┆ ...        ┆ ...        ┆ ...        ┆ ...        ┆ ...        ┆ ...        │\n",
      "├╌╌╌╌╌╌╌┼╌╌╌╌╌╌╌╌╌╌╌╌┼╌╌╌╌╌╌╌╌╌╌╌╌┼╌╌╌╌╌╌╌╌╌╌╌╌┼╌╌╌╌╌╌╌╌╌╌╌╌┼╌╌╌╌╌╌╌╌╌╌╌╌┼╌╌╌╌╌╌╌╌╌╌╌╌┼╌╌╌╌╌╌╌╌╌╌╌╌┤\n",
      "│ 18816 ┆ 13         ┆ 2          ┆ YOAKUM     ┆ 1200 CARL  ┆ YOAKUM     ┆ TX         ┆ 282NC0060X │\n",
      "│ 97878 ┆            ┆            ┆ COMMUNITY  ┆ RAMERT DR  ┆            ┆            ┆            │\n",
      "│       ┆            ┆            ┆ HOSPITAL   ┆            ┆            ┆            ┆            │\n",
      "├╌╌╌╌╌╌╌┼╌╌╌╌╌╌╌╌╌╌╌╌┼╌╌╌╌╌╌╌╌╌╌╌╌┼╌╌╌╌╌╌╌╌╌╌╌╌┼╌╌╌╌╌╌╌╌╌╌╌╌┼╌╌╌╌╌╌╌╌╌╌╌╌┼╌╌╌╌╌╌╌╌╌╌╌╌┼╌╌╌╌╌╌╌╌╌╌╌╌┤\n",
      "│ 19028 ┆ 15         ┆ 2          ┆ YAVAPAI    ┆ 1003       ┆ PRESCOTT   ┆ AZ         ┆ 282N00000X │\n",
      "│ 97820 ┆            ┆            ┆ COMMUNITY  ┆ WILLOW     ┆            ┆            ┆            │\n",
      "│       ┆            ┆            ┆ HOSPITAL   ┆ CREEK ROAD ┆            ┆            ┆            │\n",
      "│       ┆            ┆            ┆ ASSOC...   ┆            ┆            ┆            ┆            │\n",
      "├╌╌╌╌╌╌╌┼╌╌╌╌╌╌╌╌╌╌╌╌┼╌╌╌╌╌╌╌╌╌╌╌╌┼╌╌╌╌╌╌╌╌╌╌╌╌┼╌╌╌╌╌╌╌╌╌╌╌╌┼╌╌╌╌╌╌╌╌╌╌╌╌┼╌╌╌╌╌╌╌╌╌╌╌╌┼╌╌╌╌╌╌╌╌╌╌╌╌┤\n",
      "│ 11947 ┆ 47         ┆ 2          ┆ YUMA       ┆ 2400 S AVE ┆ YUMA       ┆ AZ         ┆ 282N00000X │\n",
      "│ 06655 ┆            ┆            ┆ REGIONAL   ┆ A          ┆            ┆            ┆            │\n",
      "│       ┆            ┆            ┆ MEDICAL    ┆            ┆            ┆            ┆            │\n",
      "│       ┆            ┆            ┆ CENTER     ┆            ┆            ┆            ┆            │\n",
      "├╌╌╌╌╌╌╌┼╌╌╌╌╌╌╌╌╌╌╌╌┼╌╌╌╌╌╌╌╌╌╌╌╌┼╌╌╌╌╌╌╌╌╌╌╌╌┼╌╌╌╌╌╌╌╌╌╌╌╌┼╌╌╌╌╌╌╌╌╌╌╌╌┼╌╌╌╌╌╌╌╌╌╌╌╌┼╌╌╌╌╌╌╌╌╌╌╌╌┤\n",
      "│ 17807 ┆ 49         ┆ 2          ┆ HAVASU     ┆ 101 CIVIC  ┆ LAKE       ┆ AZ         ┆ 282NR1301X │\n",
      "│ 61866 ┆            ┆            ┆ REGIONAL   ┆ CENTER LN  ┆ HAVASU     ┆            ┆            │\n",
      "│       ┆            ┆            ┆ MEDICAL    ┆            ┆ CITY       ┆            ┆            │\n",
      "│       ┆            ┆            ┆ CENTER     ┆            ┆            ┆            ┆            │\n",
      "│       ┆            ┆            ┆ L...       ┆            ┆            ┆            ┆            │\n",
      "└───────┴────────────┴────────────┴────────────┴────────────┴────────────┴────────────┴────────────┘\n"
     ]
    }
   ],
   "source": [
    "print(exp_hosps)"
   ]
  },
  {
   "cell_type": "markdown",
   "id": "227f04f1-69ce-4c19-a04f-b1d438e29f50",
   "metadata": {},
   "source": [
    "The last hospital, Havasu Regional, has the highest number of lab tests with a cost ratio of over 20x the mean price. We can look more closely at those rates by filtering down the first dataframe."
   ]
  },
  {
   "cell_type": "code",
   "execution_count": 80,
   "id": "57ba2e54-7bb0-443d-8fbd-efe89c1b1906",
   "metadata": {},
   "outputs": [],
   "source": [
    "exp_npi = exp_hosps[-1]['npi'][0]\n",
    "df.filter(col('npi') == exp_npi).sort('multiplier')"
   ]
  }
 ],
 "metadata": {
  "kernelspec": {
   "display_name": "Python 3 (ipykernel)",
   "language": "python",
   "name": "python3"
  },
  "language_info": {
   "codemirror_mode": {
    "name": "ipython",
    "version": 3
   },
   "file_extension": ".py",
   "mimetype": "text/x-python",
   "name": "python",
   "nbconvert_exporter": "python",
   "pygments_lexer": "ipython3",
   "version": "3.9.12"
  }
 },
 "nbformat": 4,
 "nbformat_minor": 5
}
