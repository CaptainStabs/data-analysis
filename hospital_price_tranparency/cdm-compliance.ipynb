{
 "cells": [
  {
   "cell_type": "markdown",
   "metadata": {
    "id": "CIkEGLOgKqbS"
   },
   "source": [
    "## Figuring out which hospitals are following the price transparency laws\n",
    "\n",
    "We're going to do a quick-and-dirty analysis of hospital chargemasters. It's reminiscent of my earlier work, but probably more accurate.\n",
    "\n",
    "> Disclaimer! Compliance is a nuanced issue. This isn't a perfect compliance checker, nor is it able to check whether the rows in the files actually have the right prices (or even make sense!) It's looking at the file metadata to see which values are in them. This data is just a quick test to replicate and improve on existing work on hospital compliance.\n",
    "\n",
    "## Known Issues\n",
    "* Many `.head()` requests are failing for some reason\n",
    "* Content reads are failing for some reason\n",
    "* Lots of reads are timing out in `get_chunk()`, during `r.read()` and `r.json()`. Why?\n",
    "\n",
    "### Downloading the Dolt database and reading in the data"
   ]
  },
  {
   "cell_type": "code",
   "execution_count": 2,
   "metadata": {
    "id": "M-2nabK6Nb3w"
   },
   "outputs": [],
   "source": [
    "%%capture\n",
    "!sudo curl -L https://github.com/dolthub/dolt/releases/latest/download/install.sh | sudo bash\n",
    "!pip install polars\n",
    "!pip install --upgrade pandas\n",
    "!pip install --upgrade xlrd\n",
    "!pip install pyxslb\n",
    "!dolt clone onefact/paylesshealth\n",
    "!cd paylesshealth && dolt table export hospitals hospitals.csv"
   ]
  },
  {
   "cell_type": "code",
   "execution_count": 2,
   "metadata": {
    "id": "2fVNLocUKqbU"
   },
   "outputs": [],
   "source": [
    "import aiohttp\n",
    "import asyncio\n",
    "import re\n",
    "import cgi\n",
    "import zipfile\n",
    "import io\n",
    "import json\n",
    "import traceback\n",
    "import logging\n",
    "log = logging.getLogger(__name__)\n",
    "import warnings\n",
    "import requests\n",
    "requests.packages.urllib3.disable_warnings() \n",
    "\n",
    "import polars     as pl\n",
    "import pandas     as pd\n",
    "import openpyxl\n",
    "\n",
    "from io           import BytesIO\n",
    "from glob         import glob\n",
    "from pathlib      import Path\n",
    "from urllib.parse import urlparse"
   ]
  },
  {
   "cell_type": "code",
   "execution_count": 3,
   "metadata": {
    "id": "PUENkAZiKqbV"
   },
   "outputs": [],
   "source": [
    "def read_data(filename: str) -> pl.DataFrame:\n",
    "    df = pl.read_csv(filename, infer_schema_length = 0)\n",
    "    return (df.with_column(\n",
    "        pl.col('cdm_url').str.split('|').alias('split_urls')\n",
    "    ))"
   ]
  },
  {
   "cell_type": "code",
   "execution_count": 4,
   "metadata": {
    "colab": {
     "base_uri": "https://localhost:8080/",
     "height": 231
    },
    "id": "t2eHYzw1vUKt",
    "outputId": "7691eef0-b58a-4d91-992e-439690fd701d"
   },
   "outputs": [],
   "source": [
    "df = read_data('paylesshealth/hospitals.csv')"
   ]
  },
  {
   "cell_type": "code",
   "execution_count": 5,
   "metadata": {},
   "outputs": [
    {
     "name": "stdout",
     "output_type": "stream",
     "text": [
      "25% of our hospitals are missing their price list\n"
     ]
    }
   ],
   "source": [
    "frac_null = 100*len(df.filter(pl.col(\"cdm_url\").is_null()))//len(df)\n",
    "print(f'{frac_null}% of our hospitals are missing their price list')"
   ]
  },
  {
   "cell_type": "markdown",
   "metadata": {},
   "source": [
    "## Pulling in the JAMA study data\n",
    "\n",
    "\n",
    "We'll also add a column to our dataframe to compare our study to [this hospital compliance study from JAMA](https://jamanetwork.com/journals/jama-health-forum/fullarticle/2793645)) (the data is here: https://www.yunanji.com/data\n",
    "https://www.yunanji.com/data)"
   ]
  },
  {
   "cell_type": "code",
   "execution_count": 6,
   "metadata": {},
   "outputs": [
    {
     "data": {
      "text/html": [
       "<div>\n",
       "<style scoped>\n",
       "    .dataframe tbody tr th:only-of-type {\n",
       "        vertical-align: middle;\n",
       "    }\n",
       "\n",
       "    .dataframe tbody tr th {\n",
       "        vertical-align: top;\n",
       "    }\n",
       "\n",
       "    .dataframe thead th {\n",
       "        text-align: right;\n",
       "    }\n",
       "</style>\n",
       "<table border=\"1 \"class=\"dataframe \">\n",
       "<thead>\n",
       "<tr>\n",
       "<th>\n",
       "ccn\n",
       "</th>\n",
       "<th>\n",
       "jama_compliance\n",
       "</th>\n",
       "</tr>\n",
       "<tr>\n",
       "<td>\n",
       "str\n",
       "</td>\n",
       "<td>\n",
       "i64\n",
       "</td>\n",
       "</tr>\n",
       "</thead>\n",
       "<tbody>\n",
       "<tr>\n",
       "<td>\n",
       "\"010001\"\n",
       "</td>\n",
       "<td>\n",
       "1\n",
       "</td>\n",
       "</tr>\n",
       "<tr>\n",
       "<td>\n",
       "\"010005\"\n",
       "</td>\n",
       "<td>\n",
       "0\n",
       "</td>\n",
       "</tr>\n",
       "<tr>\n",
       "<td>\n",
       "\"010006\"\n",
       "</td>\n",
       "<td>\n",
       "1\n",
       "</td>\n",
       "</tr>\n",
       "<tr>\n",
       "<td>\n",
       "\"010007\"\n",
       "</td>\n",
       "<td>\n",
       "0\n",
       "</td>\n",
       "</tr>\n",
       "<tr>\n",
       "<td>\n",
       "\"010008\"\n",
       "</td>\n",
       "<td>\n",
       "0\n",
       "</td>\n",
       "</tr>\n",
       "</tbody>\n",
       "</table>\n",
       "</div>"
      ],
      "text/plain": [
       "shape: (5, 2)\n",
       "┌────────┬─────────────────┐\n",
       "│ ccn    ┆ jama_compliance │\n",
       "│ ---    ┆ ---             │\n",
       "│ str    ┆ i64             │\n",
       "╞════════╪═════════════════╡\n",
       "│ 010001 ┆ 1               │\n",
       "├╌╌╌╌╌╌╌╌┼╌╌╌╌╌╌╌╌╌╌╌╌╌╌╌╌╌┤\n",
       "│ 010005 ┆ 0               │\n",
       "├╌╌╌╌╌╌╌╌┼╌╌╌╌╌╌╌╌╌╌╌╌╌╌╌╌╌┤\n",
       "│ 010006 ┆ 1               │\n",
       "├╌╌╌╌╌╌╌╌┼╌╌╌╌╌╌╌╌╌╌╌╌╌╌╌╌╌┤\n",
       "│ 010007 ┆ 0               │\n",
       "├╌╌╌╌╌╌╌╌┼╌╌╌╌╌╌╌╌╌╌╌╌╌╌╌╌╌┤\n",
       "│ 010008 ┆ 0               │\n",
       "└────────┴─────────────────┘"
      ]
     },
     "execution_count": 6,
     "metadata": {},
     "output_type": "execute_result"
    }
   ],
   "source": [
    "study_url= 'https://scholar.harvard.edu/files/ekong/files/ji_kong_2022_price_transparency_compliance_data.csv'\n",
    "df_2 = pl.read_csv(study_url, dtypes = {'ccn': str})\n",
    "df_2 = df_2.select(['ccn', 'compliance']).rename({'compliance': 'jama_compliance'})\n",
    "df_2.head()"
   ]
  },
  {
   "cell_type": "code",
   "execution_count": 7,
   "metadata": {},
   "outputs": [],
   "source": [
    "df = df.join(df_2, on = 'ccn', how = 'outer')"
   ]
  },
  {
   "cell_type": "markdown",
   "metadata": {},
   "source": [
    "### A quick check -- reproducible science\n",
    "\n",
    "Do the hospitals which are marked as compliant have URLs in our database?"
   ]
  },
  {
   "cell_type": "code",
   "execution_count": 8,
   "metadata": {},
   "outputs": [
    {
     "name": "stdout",
     "output_type": "stream",
     "text": [
      "There are 319 hospitals marked as compliant in the original JAMA article which we don't have URLs for.\n",
      "There are 1076 hospitals marked as non-compliant in the original JAMA article which we DO have URLs for.\n"
     ]
    }
   ],
   "source": [
    "v1 = len(df.filter(pl.col('jama_compliance') == 1).filter(pl.col('cdm_url').is_null()))\n",
    "print(f\"\"\"There are {v1} hospitals marked as compliant in the original JAMA article which we don't have URLs for.\"\"\")\n",
    "\n",
    "v2 = len(df.filter(pl.col('jama_compliance') == 0).filter(pl.col('cdm_url').is_not_null()))\n",
    "print(f\"\"\"There are {v2} hospitals marked as non-compliant in the original JAMA article which we DO have URLs for.\"\"\")"
   ]
  },
  {
   "cell_type": "markdown",
   "metadata": {},
   "source": [
    "We'll see how many of those non-compliant hospitals end up non-compliant in our later analysis."
   ]
  },
  {
   "cell_type": "code",
   "execution_count": 9,
   "metadata": {},
   "outputs": [],
   "source": [
    "# this part splits URLs which are like\n",
    "# url1|url2\n",
    "# into different rows\n",
    "df = (df.explode(pl.col('split_urls'))\n",
    "      .drop('cdm_url')\n",
    "      .rename({'split_urls':'cdm_url'}))"
   ]
  },
  {
   "cell_type": "markdown",
   "metadata": {
    "id": "8Apj1JqVKqbW"
   },
   "source": [
    "### Machine-readable files\n",
    "\n",
    "The price lists are required to be machine-readable. We'll look for extensions that match that requirement."
   ]
  },
  {
   "cell_type": "code",
   "execution_count": 10,
   "metadata": {
    "id": "agMcMUUHKqbW"
   },
   "outputs": [],
   "source": [
    "#.ashx is currently an odd one, but usually returns a csv\n",
    "excel_exts = ['.xls', '.xlsx', '.xlsm', '.xlsb']\n",
    "text_exts  = ['.csv', '.txt', '.xml', '.json', '.ashx']\n",
    "zip_exts   = ['.zip']\n",
    "\n",
    "mrf_exts = excel_exts + text_exts + zip_exts"
   ]
  },
  {
   "cell_type": "markdown",
   "metadata": {
    "id": "2IqO98ntKqbX"
   },
   "source": [
    "### Checking compliance with simple functions\n",
    "\n",
    "We're checking compliance based on the rules here:\n",
    "\n",
    "https://www.federalregister.gov/d/2019-24931/p-1010https://www.federalregister.gov/d/2019-24931/p-1010\n",
    "\n",
    "Our main tool is a blunt one: whether one string is in another.\n"
   ]
  },
  {
   "cell_type": "code",
   "execution_count": 11,
   "metadata": {
    "id": "4XdRP_1lR2HA"
   },
   "outputs": [],
   "source": [
    "def isin(chunk: str, *args) -> bool:\n",
    "    \"checks if any of args are in the chunk\"\n",
    "    return any([s in chunk for s in args])\n",
    "\n",
    "assert isin('apple', 'a')\n",
    "assert isin('Peter Piper picked a peck', *['Peter', 'randomstring'])"
   ]
  },
  {
   "cell_type": "markdown",
   "metadata": {
    "id": "_qg9kRMN4f7k"
   },
   "source": [
    "### The strategy: string-matching on the first little bit of each file\n",
    "\n",
    "The functions defined below check a chunk of text to see if that chunk contains complaince information. (The function `filename_check()` is a special case: it checks whether the name of the file is compliant with the legal guidelines.)\n",
    "\n",
    "What we do is download a little bit of each file (Excel and tree-like files are a special case) and see if they contain the \"magic words.\"\n",
    "\n",
    "If a requirement is satisfied, the function returns a (compliant) otherwise -1 (noncompliant). A \"zero\" value is used as a placeholder for things we weren't able to compute.\n",
    "\n",
    "#### Example\n",
    "\n",
    "```py\n",
    "def generic_code_check(chunk):\n",
    "    \n",
    "    if isin(chunk, 'drg', 'hcpcs', 'cpt', 'cmg'):\n",
    "        return 1\n",
    "    return -1\n",
    "```\n",
    "\n",
    "If any of the words `drg`, `hcpcs`, etc. are in the chunk of text, that very likely means the chargemaster has itemized HCPCS and CPT codes. So we mark that price list as compliant on that dimension. That's it!"
   ]
  },
  {
   "cell_type": "code",
   "execution_count": 12,
   "metadata": {
    "id": "x0DfFGiMv7Mi"
   },
   "outputs": [],
   "source": [
    "def filename_check(filename: str) -> int:\n",
    "    \"Checks if filename meets requirements\"\n",
    "    \n",
    "    rex = re.compile('[0-9]{2}-?[0-9]{7}_?.*_?standardcharges.*')\n",
    "    if re.match(rex, filename):\n",
    "        return 1\n",
    "    return -1\n",
    "\n",
    "def generic_code_check(chunk: str) -> int:\n",
    "    \"Checks if the chunk contains generic code info\"\n",
    "    \n",
    "    if isin(chunk, 'drg', 'hcpcs', 'cpt', 'cmg'):\n",
    "        return 1\n",
    "    return -1\n",
    "\n",
    "def gross_charges_check(chunk: str) -> int:\n",
    "    \"Checks if a chunk contains gross charge info\"\"\"\n",
    "    \n",
    "    words = ['gross', 'charge', 'price', 'rate', \n",
    "             'pricing', 'amount', 'case rate']\n",
    "    if isin(chunk, *words):\n",
    "        return 1\n",
    "    return -1\n",
    "\n",
    "def minmax_check(chunk: str) -> int:\n",
    "    \"\"\"Checks if a chunk contains information on minimum\n",
    "    maximum negotiated charges\"\"\"\n",
    "    \n",
    "    words = ['minimum', 'min neg ', 'max neg', 'minnegotiated',\n",
    "            'de-identified', 'maxofop', 'maxop', 'min_neg', 'max_neg',\n",
    "            'maxnegotiated', 'min_negotiated', 'max_negotiated']\n",
    "    \n",
    "    if isin(chunk, *words):\n",
    "        return 1\n",
    "    return -1\n",
    "\n",
    "def cash_check(chunk: str) -> int:\n",
    "    \"Checks if a chunk contains information on cash prices\"\n",
    "    \n",
    "    words = ['cash', 'default cost', 'self pay', 'selfpay', 'discounted']\n",
    "    if isin(chunk, *words):\n",
    "        return 1\n",
    "    return -1\n",
    "\n",
    "def insurer_check(chunk: str) -> int:\n",
    "    \"Checks if a chunk contains insurer-specific information\"\n",
    "    \n",
    "    words = ['anthem', 'bcbs', 'united', 'ambetter', 'aetna',\n",
    "            'healthlink', 'umr', 'tricare', \n",
    "            'uhc', 'cigna', 'kaiser', 'permanente', 'molina', \n",
    "            'centene', 'blue cross', 'blue shield', 'caresource', \n",
    "            'upmc', 'carefirst', 'cvs health',]\n",
    "    \n",
    "    if isin(chunk, *words):\n",
    "        return 1\n",
    "    return -1"
   ]
  },
  {
   "cell_type": "code",
   "execution_count": 13,
   "metadata": {
    "id": "ghAqXOJEpc4Z"
   },
   "outputs": [],
   "source": [
    "def score_chunk(url: str, chunk: str) -> tuple:\n",
    "    \"\"\"Given a URL, check compliance on a bunch of dimensions\n",
    "    and give it a final tally (total)\"\"\"\n",
    "    \n",
    "    filename = urlparse(url).path.split('/')[-1].lower()\n",
    "    filename_score= filename_check(filename)\n",
    "    \n",
    "    chunk = str(chunk).lower()\n",
    "    \n",
    "    gross_score = gross_charges_check(chunk)\n",
    "    minmax_score = minmax_check(chunk)\n",
    "    cash_score = cash_check(chunk)\n",
    "    generic_score = generic_code_check(chunk)\n",
    "    insurer_score = insurer_check(chunk)\n",
    "    \n",
    "    scores = gross_score, minmax_score, cash_score, generic_score, insurer_score, filename_score\n",
    "    \n",
    "    total = sum([s for s in scores if s == 1])\n",
    "    \n",
    "    return *scores, total"
   ]
  },
  {
   "cell_type": "code",
   "execution_count": 14,
   "metadata": {},
   "outputs": [],
   "source": [
    "def extension(filename: str) -> str:\n",
    "    \"Get the extension of a file\"\n",
    "\n",
    "    ext = (Path(str(filename))\n",
    "           .suffix\n",
    "           .lower()\n",
    "           .split('%')[0]\n",
    "           .split('?')[0]\n",
    "           .split('#')[0]\n",
    "          )\n",
    "    return ext"
   ]
  },
  {
   "cell_type": "markdown",
   "metadata": {
    "id": "_1O1dmmQKqba"
   },
   "source": [
    "### Special cases: Excel, JSON, zip\n",
    "\n",
    "Excel, JSON, and zip files all present special cases. The basic idea is to extract the header information. For JSON, that's the tree keys, or whatever's at the top of the file. For Excel, it's whatever's at the top of the sheets. Etc. These functions could definitely be more robust but they work ok for now."
   ]
  },
  {
   "cell_type": "code",
   "execution_count": 15,
   "metadata": {
    "id": "TtDjLOvkxDEA"
   },
   "outputs": [],
   "source": [
    "def excel_to_chunk(data: bytes, chunk_len: int) -> str:\n",
    "    \"\"\"Return a string with n_bytes from \n",
    "    each sheet in the .xlsx file. Basically just converts\n",
    "    the dataframe to JSON and reads the first n_bytes of that.\n",
    "    Total hack.\n",
    "\n",
    "    sheet_name = None makes sure that we return all sheets\n",
    "    \"\"\"\n",
    "    f = BytesIO(data)\n",
    "    book = openpyxl.load_workbook(filename=f, read_only = True, data_only = True)\n",
    "    sheets = book.worksheets\n",
    "    chunk = ''\n",
    "    for sheet in sheets:\n",
    "        for i, row in enumerate(sheet.values):\n",
    "            _chunk = ' '.join(str(v) for v in row if v)\n",
    "            chunk += chunk\n",
    "            if i == 5:\n",
    "                break\n",
    "            \n",
    "\n",
    "    return chunk"
   ]
  },
  {
   "cell_type": "code",
   "execution_count": 16,
   "metadata": {
    "colab": {
     "base_uri": "https://localhost:8080/",
     "height": 134
    },
    "id": "5ee37eIf5ckK",
    "outputId": "4fc88001-a003-453a-db72-3a1daad57c66"
   },
   "outputs": [],
   "source": [
    "def json_to_chunk(data: bytes, chunk_len: int) -> str:\n",
    "    \"Hackjob for reading in 'header' information from JSON\"\n",
    "    if type(data) == list:\n",
    "        data = data[0]\n",
    "\n",
    "    keys = data.keys()\n",
    "\n",
    "    chunk = ''.join([k.lower() for k in keys])\n",
    "    chunk += str(data).lower()[:chunk_len]\n",
    "    \n",
    "    return chunk"
   ]
  },
  {
   "cell_type": "code",
   "execution_count": 17,
   "metadata": {
    "id": "41KlaZf2u0We"
   },
   "outputs": [],
   "source": [
    "def zip_to_chunk(data: bytes, chunk_len: int) -> str:\n",
    "    \"Hackjob for reading in zip files\"\n",
    "    z = zipfile.ZipFile(io.BytesIO(data))\n",
    "\n",
    "    # log.debug('Opening zipfile...')\n",
    "\n",
    "    chunk = ''\n",
    "    for file in z.namelist():\n",
    "        with z.open(file) as f:\n",
    "            \n",
    "            ext = extension(file)\n",
    "            \n",
    "            if ext == '.json':\n",
    "                data = json.load(f)\n",
    "                _chunk = json_to_chunk(data, chunk_len)\n",
    "            \n",
    "            elif ext in ('.csv', '.xml', '.txt'):\n",
    "                _chunk = str(f.read(chunk_len))\n",
    "\n",
    "            elif ext in excel_exts:\n",
    "                _chunk = excel_to_chunk(f, chunk_len)\n",
    "            \n",
    "            else:\n",
    "                # Haven't implemented this yet\n",
    "                continue\n",
    "            chunk += _chunk\n",
    "            \n",
    "    # log.debug('Closed zip file.')\n",
    "            \n",
    "    return chunk"
   ]
  },
  {
   "cell_type": "markdown",
   "metadata": {
    "id": "g8lfOqUYKqbb"
   },
   "source": [
    "### Async python for getting the data\n",
    "\n",
    "Making thousands of requests would take all day if we did them one at a time, so we use async to speed things up a couple orders of magnitude.\n",
    "\n",
    "### Steps:\n",
    "1. First we make a request to get the filename (to get its suffix and check that the name is compliant with the guidelienes) and a cookie (since many web requests require them)\n",
    "2. Then we get a chunk of data using that cookie"
   ]
  },
  {
   "cell_type": "code",
   "execution_count": 18,
   "metadata": {
    "id": "2wKy2o4VKqbc"
   },
   "outputs": [],
   "source": [
    "async def get_cookies_and_filename(session: aiohttp.ClientSession, url: str, headers: dict) -> tuple:\n",
    "    \"\"\"\n",
    "    In one request, fetch cookies needed to make second request\n",
    "    and filename needed to figure out how to process the chunk \n",
    "    we get.\n",
    "    \"\"\"\n",
    "    \n",
    "    filename = Path(url)\n",
    "    cookies = None\n",
    "    \n",
    "    async with session.head(url, ssl = False, headers = headers) as r:\n",
    "\n",
    "        cookies = r.cookies\n",
    "        header_data = r.headers.get('Content-Disposition')\n",
    "\n",
    "        if header_data:\n",
    "            _, params = cgi.parse_header(header_data)\n",
    "            if params.get('filename'):\n",
    "                filename = params.get('filename')\n",
    "                \n",
    "    return cookies, filename"
   ]
  },
  {
   "cell_type": "code",
   "execution_count": 19,
   "metadata": {
    "id": "rABQcxMtKqbc"
   },
   "outputs": [],
   "source": [
    "async def get_chunk(session: aiohttp.ClientSession, \n",
    "                    url: str, headers: dict, cookies: dict, \n",
    "                    ext: str, chunk_len: int) -> str:\n",
    "    \"\"\"Get the first chunk of data from a url\"\"\"\n",
    "    \n",
    "    async with session.get(url, ssl = False, headers = headers, cookies = cookies) as r:\n",
    "\n",
    "        if ext in ('.csv', '.txt', '.xml', '.ashx'):\n",
    "            async for _chunk in r.content.iter_chunked(chunk_len):\n",
    "                chunk = _chunk\n",
    "                break\n",
    "\n",
    "        elif ext in ('.xlsx', '.xls', '.xlsb', '.xlsm'):\n",
    "            data = await r.read()\n",
    "            chunk = excel_to_chunk(data, chunk_len)\n",
    "\n",
    "        elif ext == '.json':\n",
    "            data = await r.json()\n",
    "            chunk = json_to_chunk(data, chunk_len)\n",
    "\n",
    "        elif ext == '.zip':\n",
    "            data = await r.read()      \n",
    "            chunk = zip_to_chunk(data, chunk_len)\n",
    "            \n",
    "        else:\n",
    "            raise NotImplementedError\n",
    "\n",
    "        return chunk"
   ]
  },
  {
   "cell_type": "markdown",
   "metadata": {
    "id": "PlGPN1WfKqbc"
   },
   "source": [
    "### The checker - the last step\n",
    "\n",
    "Now we just put it all together."
   ]
  },
  {
   "cell_type": "code",
   "execution_count": 20,
   "metadata": {
    "id": "-s1TVWxsxEJR"
   },
   "outputs": [],
   "source": [
    "async def checker(session: aiohttp.ClientSession, url: str, headers: dict) -> tuple:\n",
    "    \"\"\"\n",
    "    Returns scores, an array\n",
    "    The parameters are:\n",
    "    -1: noncompliant\n",
    "     0: unknown\n",
    "     1: compliant\n",
    "\n",
    "    \"err\" is either\n",
    "    0: no error\n",
    "    1: no url or invalid URL\n",
    "    2: server error\n",
    "    3: 404\n",
    "    4: got a url, but didn't know what to do with it\n",
    "    5: something else\n",
    "    \"\"\"\n",
    "    \n",
    "    err = None\n",
    "    scores = [0]*7\n",
    "    cookies = None\n",
    "    filename = url\n",
    "    chunk = None\n",
    "\n",
    "    if not url:\n",
    "        err = 1\n",
    "        return *scores, err\n",
    "    \n",
    "    if (\n",
    "        ('cdmpricing.com' in url) or\n",
    "        ('hospitalpriceindex.com' in url and 'machineReadable' in url) or\n",
    "        ('claraprice.net' in url)):\n",
    "        \"\"\"\n",
    "        Special cases: these URLs host\n",
    "        only compliant chargemasters.\n",
    "        \"\"\"\n",
    "        scores = (1, 1, 1, 1, 1, 1, 6)\n",
    "        err = 0\n",
    "        return *scores, err\n",
    "    \n",
    "    # Some of these may be in error\n",
    "    elif ('hospitalpriceindex.com' in url):\n",
    "        err = 5\n",
    "        # we don't have a way of checking this site yet\n",
    "        # scores = (1, -1, -1, -1, -1, -1, 1)\n",
    "        return *scores, err\n",
    "    \n",
    "    elif ('allowed-amounts.json' in url or\n",
    "        ('_index.json') in url):\n",
    "        \"\"\"\n",
    "        These are known to be mistakes.\n",
    "        \"\"\"\n",
    "        err = 1\n",
    "        return *scores, err\n",
    "\n",
    "    try:\n",
    "        cookies, filename = await get_cookies_and_filename(session, url, headers)\n",
    "    except Exception as e:\n",
    "        pass\n",
    "        \n",
    "    ext = extension(filename)\n",
    "\n",
    "    try:\n",
    "        err = 0\n",
    "        chunk = await get_chunk(session, url, headers, cookies, ext, chunk_len = 5_000)\n",
    "        scores = score_chunk(url, chunk)\n",
    "        \n",
    "    except aiohttp.InvalidURL:\n",
    "        \"Raised if the URL is invalid\"\n",
    "        err = 1\n",
    "            \n",
    "    except (aiohttp.ClientPayloadError,\n",
    "            aiohttp.ClientConnectorError,\n",
    "            aiohttp.ClientConnectionError,\n",
    "            aiohttp.ServerDisconnectedError,\n",
    "            ValueError):\n",
    "        \"Raised for a server error\"\n",
    "        err = 2\n",
    "        \n",
    "    except aiohttp.ClientResponseError as e:\n",
    "        \"Raised for a 404 or 400\"\n",
    "        err = 3\n",
    "        \n",
    "    except NotImplementedError:\n",
    "        \"Raised for .pdf, .html, and other files of uknown type\"\n",
    "        err = 4\n",
    "        \n",
    "    except asyncio.TimeoutError:\n",
    "        err = 5\n",
    "        \n",
    "    except TimeoutError:\n",
    "        err = 6\n",
    "                \n",
    "    except Exception as e:\n",
    "        log.exception(e)\n",
    "        \"Catches all other errors\"\n",
    "        err = 7\n",
    "        \n",
    "    finally:\n",
    "        return *scores, err"
   ]
  },
  {
   "cell_type": "code",
   "execution_count": 21,
   "metadata": {
    "id": "Jla4P4ikxIGH"
   },
   "outputs": [],
   "source": [
    "from tqdm.asyncio import tqdm\n",
    "from tqdm.contrib.logging import logging_redirect_tqdm\n",
    "log.setLevel(logging.DEBUG)\n",
    "\n",
    "headers = {'Accept': '*/*',\n",
    "           'Connection': 'keep-alive',\n",
    "           'User-Agent': 'Mozilla/5.0 (Windows NT 6.0; Win64; x64) AppleWebKit/537.36 (KHTML, like Gecko) Chrome/68.0.3440.1805 Safari/537.36',\n",
    "           'Accept-Language': 'en-US;q=0.5,en;q=0.3',\n",
    "           'DNT': '1',\n",
    "           'Referer': 'https://google.com'}\n",
    "\n",
    "async def check_compliance(df, sample_size = None):\n",
    "    \n",
    "    cols = ['gross_score', \n",
    "            'minmax_score', \n",
    "            'cash_score', \n",
    "            'generic_score', \n",
    "            'insurer_score', \n",
    "            'filename_score', \n",
    "            'total', \n",
    "            'err']\n",
    "    \n",
    "    if not sample_size:\n",
    "        t = df\n",
    "    else:\n",
    "        t = df.sample(sample_size)\n",
    "        \n",
    "    timeout = aiohttp.ClientTimeout(total = 0)\n",
    "    \n",
    "    async with aiohttp.ClientSession(raise_for_status = True, timeout = timeout) as session:\n",
    "        with logging_redirect_tqdm():\n",
    "            t[cols] = await tqdm.gather(*(checker(session, url, headers) for url in t['cdm_url']))\n",
    "            t = t.sort('total')\n",
    "        return t"
   ]
  },
  {
   "cell_type": "code",
   "execution_count": null,
   "metadata": {
    "tags": []
   },
   "outputs": [
    {
     "name": "stderr",
     "output_type": "stream",
     "text": [
      "a bytes-like object is required, not 'ZipExtFile'                                                                                                                                             \n",
      "Traceback (most recent call last):\n",
      "  File \"/var/folders/90/q2ntyz_j4j9bgd0w1v1xdmgw0000gn/T/ipykernel_97351/2600718812.py\", line 64, in checker\n",
      "    chunk = await get_chunk(session, url, headers, cookies, ext, chunk_len = 5_000)\n",
      "  File \"/var/folders/90/q2ntyz_j4j9bgd0w1v1xdmgw0000gn/T/ipykernel_97351/1588881796.py\", line 23, in get_chunk\n",
      "    chunk = zip_to_chunk(data, chunk_len)\n",
      "  File \"/var/folders/90/q2ntyz_j4j9bgd0w1v1xdmgw0000gn/T/ipykernel_97351/1761105929.py\", line 21, in zip_to_chunk\n",
      "    _chunk = excel_to_chunk(f, chunk_len)\n",
      "  File \"/var/folders/90/q2ntyz_j4j9bgd0w1v1xdmgw0000gn/T/ipykernel_97351/3296755251.py\", line 9, in excel_to_chunk\n",
      "    f = BytesIO(data)\n",
      "TypeError: a bytes-like object is required, not 'ZipExtFile'\n",
      "File is not a zip file                                                                                                                                                                        \n",
      "Traceback (most recent call last):\n",
      "  File \"/var/folders/90/q2ntyz_j4j9bgd0w1v1xdmgw0000gn/T/ipykernel_97351/2600718812.py\", line 64, in checker\n",
      "    chunk = await get_chunk(session, url, headers, cookies, ext, chunk_len = 5_000)\n",
      "  File \"/var/folders/90/q2ntyz_j4j9bgd0w1v1xdmgw0000gn/T/ipykernel_97351/1588881796.py\", line 15, in get_chunk\n",
      "    chunk = excel_to_chunk(data, chunk_len)\n",
      "  File \"/var/folders/90/q2ntyz_j4j9bgd0w1v1xdmgw0000gn/T/ipykernel_97351/3296755251.py\", line 10, in excel_to_chunk\n",
      "    book = openpyxl.load_workbook(filename=f, read_only = True, data_only = True)\n",
      "  File \"/Users/alecstein/opt/miniconda3/lib/python3.9/site-packages/openpyxl/reader/excel.py\", line 315, in load_workbook\n",
      "    reader = ExcelReader(filename, read_only, keep_vba,\n",
      "  File \"/Users/alecstein/opt/miniconda3/lib/python3.9/site-packages/openpyxl/reader/excel.py\", line 124, in __init__\n",
      "    self.archive = _validate_archive(fn)\n",
      "  File \"/Users/alecstein/opt/miniconda3/lib/python3.9/site-packages/openpyxl/reader/excel.py\", line 96, in _validate_archive\n",
      "    archive = ZipFile(filename, 'r')\n",
      "  File \"/Users/alecstein/opt/miniconda3/lib/python3.9/zipfile.py\", line 1257, in __init__\n",
      "    self._RealGetContents()\n",
      "  File \"/Users/alecstein/opt/miniconda3/lib/python3.9/zipfile.py\", line 1324, in _RealGetContents\n",
      "    raise BadZipFile(\"File is not a zip file\")\n",
      "zipfile.BadZipFile: File is not a zip file\n",
      "File is not a zip file                                                                                                                                                                        \n",
      "Traceback (most recent call last):\n",
      "  File \"/var/folders/90/q2ntyz_j4j9bgd0w1v1xdmgw0000gn/T/ipykernel_97351/2600718812.py\", line 64, in checker\n",
      "    chunk = await get_chunk(session, url, headers, cookies, ext, chunk_len = 5_000)\n",
      "  File \"/var/folders/90/q2ntyz_j4j9bgd0w1v1xdmgw0000gn/T/ipykernel_97351/1588881796.py\", line 15, in get_chunk\n",
      "    chunk = excel_to_chunk(data, chunk_len)\n",
      "  File \"/var/folders/90/q2ntyz_j4j9bgd0w1v1xdmgw0000gn/T/ipykernel_97351/3296755251.py\", line 10, in excel_to_chunk\n",
      "    book = openpyxl.load_workbook(filename=f, read_only = True, data_only = True)\n",
      "  File \"/Users/alecstein/opt/miniconda3/lib/python3.9/site-packages/openpyxl/reader/excel.py\", line 315, in load_workbook\n",
      "    reader = ExcelReader(filename, read_only, keep_vba,\n",
      "  File \"/Users/alecstein/opt/miniconda3/lib/python3.9/site-packages/openpyxl/reader/excel.py\", line 124, in __init__\n",
      "    self.archive = _validate_archive(fn)\n",
      "  File \"/Users/alecstein/opt/miniconda3/lib/python3.9/site-packages/openpyxl/reader/excel.py\", line 96, in _validate_archive\n",
      "    archive = ZipFile(filename, 'r')\n",
      "  File \"/Users/alecstein/opt/miniconda3/lib/python3.9/zipfile.py\", line 1257, in __init__\n",
      "    self._RealGetContents()\n",
      "  File \"/Users/alecstein/opt/miniconda3/lib/python3.9/zipfile.py\", line 1324, in _RealGetContents\n",
      "    raise BadZipFile(\"File is not a zip file\")\n",
      "zipfile.BadZipFile: File is not a zip file\n",
      "File is not a zip file                                                                                                                                                                        \n",
      "Traceback (most recent call last):\n",
      "  File \"/var/folders/90/q2ntyz_j4j9bgd0w1v1xdmgw0000gn/T/ipykernel_97351/2600718812.py\", line 64, in checker\n",
      "    chunk = await get_chunk(session, url, headers, cookies, ext, chunk_len = 5_000)\n",
      "  File \"/var/folders/90/q2ntyz_j4j9bgd0w1v1xdmgw0000gn/T/ipykernel_97351/1588881796.py\", line 15, in get_chunk\n",
      "    chunk = excel_to_chunk(data, chunk_len)\n",
      "  File \"/var/folders/90/q2ntyz_j4j9bgd0w1v1xdmgw0000gn/T/ipykernel_97351/3296755251.py\", line 10, in excel_to_chunk\n",
      "    book = openpyxl.load_workbook(filename=f, read_only = True, data_only = True)\n",
      "  File \"/Users/alecstein/opt/miniconda3/lib/python3.9/site-packages/openpyxl/reader/excel.py\", line 315, in load_workbook\n",
      "    reader = ExcelReader(filename, read_only, keep_vba,\n",
      "  File \"/Users/alecstein/opt/miniconda3/lib/python3.9/site-packages/openpyxl/reader/excel.py\", line 124, in __init__\n",
      "    self.archive = _validate_archive(fn)\n",
      "  File \"/Users/alecstein/opt/miniconda3/lib/python3.9/site-packages/openpyxl/reader/excel.py\", line 96, in _validate_archive\n",
      "    archive = ZipFile(filename, 'r')\n",
      "  File \"/Users/alecstein/opt/miniconda3/lib/python3.9/zipfile.py\", line 1257, in __init__\n",
      "    self._RealGetContents()\n",
      "  File \"/Users/alecstein/opt/miniconda3/lib/python3.9/zipfile.py\", line 1324, in _RealGetContents\n",
      "    raise BadZipFile(\"File is not a zip file\")\n",
      "zipfile.BadZipFile: File is not a zip file\n",
      "File is not a zip file                                                                                                                                                                        \n",
      "Traceback (most recent call last):\n",
      "  File \"/var/folders/90/q2ntyz_j4j9bgd0w1v1xdmgw0000gn/T/ipykernel_97351/2600718812.py\", line 64, in checker\n",
      "    chunk = await get_chunk(session, url, headers, cookies, ext, chunk_len = 5_000)\n",
      "  File \"/var/folders/90/q2ntyz_j4j9bgd0w1v1xdmgw0000gn/T/ipykernel_97351/1588881796.py\", line 15, in get_chunk\n",
      "    chunk = excel_to_chunk(data, chunk_len)\n",
      "  File \"/var/folders/90/q2ntyz_j4j9bgd0w1v1xdmgw0000gn/T/ipykernel_97351/3296755251.py\", line 10, in excel_to_chunk\n",
      "    book = openpyxl.load_workbook(filename=f, read_only = True, data_only = True)\n",
      "  File \"/Users/alecstein/opt/miniconda3/lib/python3.9/site-packages/openpyxl/reader/excel.py\", line 315, in load_workbook\n",
      "    reader = ExcelReader(filename, read_only, keep_vba,\n",
      "  File \"/Users/alecstein/opt/miniconda3/lib/python3.9/site-packages/openpyxl/reader/excel.py\", line 124, in __init__\n",
      "    self.archive = _validate_archive(fn)\n",
      "  File \"/Users/alecstein/opt/miniconda3/lib/python3.9/site-packages/openpyxl/reader/excel.py\", line 96, in _validate_archive\n",
      "    archive = ZipFile(filename, 'r')\n",
      "  File \"/Users/alecstein/opt/miniconda3/lib/python3.9/zipfile.py\", line 1257, in __init__\n",
      "    self._RealGetContents()\n",
      "  File \"/Users/alecstein/opt/miniconda3/lib/python3.9/zipfile.py\", line 1324, in _RealGetContents\n",
      "    raise BadZipFile(\"File is not a zip file\")\n",
      "zipfile.BadZipFile: File is not a zip file\n",
      "a bytes-like object is required, not 'ZipExtFile'                                                                                                                                             \n",
      "Traceback (most recent call last):\n",
      "  File \"/var/folders/90/q2ntyz_j4j9bgd0w1v1xdmgw0000gn/T/ipykernel_97351/2600718812.py\", line 64, in checker\n",
      "    chunk = await get_chunk(session, url, headers, cookies, ext, chunk_len = 5_000)\n",
      "  File \"/var/folders/90/q2ntyz_j4j9bgd0w1v1xdmgw0000gn/T/ipykernel_97351/1588881796.py\", line 23, in get_chunk\n",
      "    chunk = zip_to_chunk(data, chunk_len)\n",
      "  File \"/var/folders/90/q2ntyz_j4j9bgd0w1v1xdmgw0000gn/T/ipykernel_97351/1761105929.py\", line 21, in zip_to_chunk\n",
      "    _chunk = excel_to_chunk(f, chunk_len)\n",
      "  File \"/var/folders/90/q2ntyz_j4j9bgd0w1v1xdmgw0000gn/T/ipykernel_97351/3296755251.py\", line 9, in excel_to_chunk\n",
      "    f = BytesIO(data)\n",
      "TypeError: a bytes-like object is required, not 'ZipExtFile'\n",
      "File is not a zip file                                                                                                                                                                        \n",
      "Traceback (most recent call last):\n",
      "  File \"/var/folders/90/q2ntyz_j4j9bgd0w1v1xdmgw0000gn/T/ipykernel_97351/2600718812.py\", line 64, in checker\n",
      "    chunk = await get_chunk(session, url, headers, cookies, ext, chunk_len = 5_000)\n",
      "  File \"/var/folders/90/q2ntyz_j4j9bgd0w1v1xdmgw0000gn/T/ipykernel_97351/1588881796.py\", line 15, in get_chunk\n",
      "    chunk = excel_to_chunk(data, chunk_len)\n",
      "  File \"/var/folders/90/q2ntyz_j4j9bgd0w1v1xdmgw0000gn/T/ipykernel_97351/3296755251.py\", line 10, in excel_to_chunk\n",
      "    book = openpyxl.load_workbook(filename=f, read_only = True, data_only = True)\n",
      "  File \"/Users/alecstein/opt/miniconda3/lib/python3.9/site-packages/openpyxl/reader/excel.py\", line 315, in load_workbook\n",
      "    reader = ExcelReader(filename, read_only, keep_vba,\n",
      "  File \"/Users/alecstein/opt/miniconda3/lib/python3.9/site-packages/openpyxl/reader/excel.py\", line 124, in __init__\n",
      "    self.archive = _validate_archive(fn)\n",
      "  File \"/Users/alecstein/opt/miniconda3/lib/python3.9/site-packages/openpyxl/reader/excel.py\", line 96, in _validate_archive\n",
      "    archive = ZipFile(filename, 'r')\n",
      "  File \"/Users/alecstein/opt/miniconda3/lib/python3.9/zipfile.py\", line 1257, in __init__\n",
      "    self._RealGetContents()\n",
      "  File \"/Users/alecstein/opt/miniconda3/lib/python3.9/zipfile.py\", line 1324, in _RealGetContents\n",
      "    raise BadZipFile(\"File is not a zip file\")\n",
      "zipfile.BadZipFile: File is not a zip file\n",
      "File is not a zip file                                                                                                                                                                        \n",
      "Traceback (most recent call last):\n",
      "  File \"/var/folders/90/q2ntyz_j4j9bgd0w1v1xdmgw0000gn/T/ipykernel_97351/2600718812.py\", line 64, in checker\n",
      "    chunk = await get_chunk(session, url, headers, cookies, ext, chunk_len = 5_000)\n",
      "  File \"/var/folders/90/q2ntyz_j4j9bgd0w1v1xdmgw0000gn/T/ipykernel_97351/1588881796.py\", line 15, in get_chunk\n",
      "    chunk = excel_to_chunk(data, chunk_len)\n",
      "  File \"/var/folders/90/q2ntyz_j4j9bgd0w1v1xdmgw0000gn/T/ipykernel_97351/3296755251.py\", line 10, in excel_to_chunk\n",
      "    book = openpyxl.load_workbook(filename=f, read_only = True, data_only = True)\n",
      "  File \"/Users/alecstein/opt/miniconda3/lib/python3.9/site-packages/openpyxl/reader/excel.py\", line 315, in load_workbook\n",
      "    reader = ExcelReader(filename, read_only, keep_vba,\n",
      "  File \"/Users/alecstein/opt/miniconda3/lib/python3.9/site-packages/openpyxl/reader/excel.py\", line 124, in __init__\n",
      "    self.archive = _validate_archive(fn)\n",
      "  File \"/Users/alecstein/opt/miniconda3/lib/python3.9/site-packages/openpyxl/reader/excel.py\", line 96, in _validate_archive\n",
      "    archive = ZipFile(filename, 'r')\n",
      "  File \"/Users/alecstein/opt/miniconda3/lib/python3.9/zipfile.py\", line 1257, in __init__\n",
      "    self._RealGetContents()\n",
      "  File \"/Users/alecstein/opt/miniconda3/lib/python3.9/zipfile.py\", line 1324, in _RealGetContents\n",
      "    raise BadZipFile(\"File is not a zip file\")\n",
      "zipfile.BadZipFile: File is not a zip file\n",
      "File is not a zip file                                                                                                                                                                        \n",
      "Traceback (most recent call last):\n",
      "  File \"/var/folders/90/q2ntyz_j4j9bgd0w1v1xdmgw0000gn/T/ipykernel_97351/2600718812.py\", line 64, in checker\n",
      "    chunk = await get_chunk(session, url, headers, cookies, ext, chunk_len = 5_000)\n",
      "  File \"/var/folders/90/q2ntyz_j4j9bgd0w1v1xdmgw0000gn/T/ipykernel_97351/1588881796.py\", line 15, in get_chunk\n",
      "    chunk = excel_to_chunk(data, chunk_len)\n",
      "  File \"/var/folders/90/q2ntyz_j4j9bgd0w1v1xdmgw0000gn/T/ipykernel_97351/3296755251.py\", line 10, in excel_to_chunk\n",
      "    book = openpyxl.load_workbook(filename=f, read_only = True, data_only = True)\n",
      "  File \"/Users/alecstein/opt/miniconda3/lib/python3.9/site-packages/openpyxl/reader/excel.py\", line 315, in load_workbook\n",
      "    reader = ExcelReader(filename, read_only, keep_vba,\n",
      "  File \"/Users/alecstein/opt/miniconda3/lib/python3.9/site-packages/openpyxl/reader/excel.py\", line 124, in __init__\n",
      "    self.archive = _validate_archive(fn)\n",
      "  File \"/Users/alecstein/opt/miniconda3/lib/python3.9/site-packages/openpyxl/reader/excel.py\", line 96, in _validate_archive\n",
      "    archive = ZipFile(filename, 'r')\n",
      "  File \"/Users/alecstein/opt/miniconda3/lib/python3.9/zipfile.py\", line 1257, in __init__\n",
      "    self._RealGetContents()\n",
      "  File \"/Users/alecstein/opt/miniconda3/lib/python3.9/zipfile.py\", line 1324, in _RealGetContents\n",
      "    raise BadZipFile(\"File is not a zip file\")\n",
      "zipfile.BadZipFile: File is not a zip file\n",
      "File contains no valid workbook part                                                                                                                                                          \n",
      "Traceback (most recent call last):\n",
      "  File \"/var/folders/90/q2ntyz_j4j9bgd0w1v1xdmgw0000gn/T/ipykernel_97351/2600718812.py\", line 64, in checker\n",
      "    chunk = await get_chunk(session, url, headers, cookies, ext, chunk_len = 5_000)\n",
      "  File \"/var/folders/90/q2ntyz_j4j9bgd0w1v1xdmgw0000gn/T/ipykernel_97351/1588881796.py\", line 15, in get_chunk\n",
      "    chunk = excel_to_chunk(data, chunk_len)\n",
      "  File \"/var/folders/90/q2ntyz_j4j9bgd0w1v1xdmgw0000gn/T/ipykernel_97351/3296755251.py\", line 10, in excel_to_chunk\n",
      "    book = openpyxl.load_workbook(filename=f, read_only = True, data_only = True)\n",
      "  File \"/Users/alecstein/opt/miniconda3/lib/python3.9/site-packages/openpyxl/reader/excel.py\", line 317, in load_workbook\n",
      "    reader.read()\n",
      "  File \"/Users/alecstein/opt/miniconda3/lib/python3.9/site-packages/openpyxl/reader/excel.py\", line 278, in read\n",
      "    self.read_workbook()\n",
      "  File \"/Users/alecstein/opt/miniconda3/lib/python3.9/site-packages/openpyxl/reader/excel.py\", line 148, in read_workbook\n",
      "    wb_part = _find_workbook_part(self.package)\n",
      "  File \"/Users/alecstein/opt/miniconda3/lib/python3.9/site-packages/openpyxl/reader/excel.py\", line 113, in _find_workbook_part\n",
      "    raise IOError(\"File contains no valid workbook part\")\n",
      "OSError: File contains no valid workbook part\n",
      "File is not a zip file                                                                                                                                                                        \n",
      "Traceback (most recent call last):\n",
      "  File \"/var/folders/90/q2ntyz_j4j9bgd0w1v1xdmgw0000gn/T/ipykernel_97351/2600718812.py\", line 64, in checker\n",
      "    chunk = await get_chunk(session, url, headers, cookies, ext, chunk_len = 5_000)\n",
      "  File \"/var/folders/90/q2ntyz_j4j9bgd0w1v1xdmgw0000gn/T/ipykernel_97351/1588881796.py\", line 15, in get_chunk\n",
      "    chunk = excel_to_chunk(data, chunk_len)\n",
      "  File \"/var/folders/90/q2ntyz_j4j9bgd0w1v1xdmgw0000gn/T/ipykernel_97351/3296755251.py\", line 10, in excel_to_chunk\n",
      "    book = openpyxl.load_workbook(filename=f, read_only = True, data_only = True)\n",
      "  File \"/Users/alecstein/opt/miniconda3/lib/python3.9/site-packages/openpyxl/reader/excel.py\", line 315, in load_workbook\n",
      "    reader = ExcelReader(filename, read_only, keep_vba,\n",
      "  File \"/Users/alecstein/opt/miniconda3/lib/python3.9/site-packages/openpyxl/reader/excel.py\", line 124, in __init__\n",
      "    self.archive = _validate_archive(fn)\n",
      "  File \"/Users/alecstein/opt/miniconda3/lib/python3.9/site-packages/openpyxl/reader/excel.py\", line 96, in _validate_archive\n",
      "    archive = ZipFile(filename, 'r')\n",
      "  File \"/Users/alecstein/opt/miniconda3/lib/python3.9/zipfile.py\", line 1257, in __init__\n",
      "    self._RealGetContents()\n",
      "  File \"/Users/alecstein/opt/miniconda3/lib/python3.9/zipfile.py\", line 1324, in _RealGetContents\n",
      "    raise BadZipFile(\"File is not a zip file\")\n",
      "zipfile.BadZipFile: File is not a zip file\n",
      "File is not a zip file                                                                                                                                                                        \n",
      "Traceback (most recent call last):\n",
      "  File \"/var/folders/90/q2ntyz_j4j9bgd0w1v1xdmgw0000gn/T/ipykernel_97351/2600718812.py\", line 64, in checker\n",
      "    chunk = await get_chunk(session, url, headers, cookies, ext, chunk_len = 5_000)\n",
      "  File \"/var/folders/90/q2ntyz_j4j9bgd0w1v1xdmgw0000gn/T/ipykernel_97351/1588881796.py\", line 15, in get_chunk\n",
      "    chunk = excel_to_chunk(data, chunk_len)\n",
      "  File \"/var/folders/90/q2ntyz_j4j9bgd0w1v1xdmgw0000gn/T/ipykernel_97351/3296755251.py\", line 10, in excel_to_chunk\n",
      "    book = openpyxl.load_workbook(filename=f, read_only = True, data_only = True)\n",
      "  File \"/Users/alecstein/opt/miniconda3/lib/python3.9/site-packages/openpyxl/reader/excel.py\", line 315, in load_workbook\n",
      "    reader = ExcelReader(filename, read_only, keep_vba,\n",
      "  File \"/Users/alecstein/opt/miniconda3/lib/python3.9/site-packages/openpyxl/reader/excel.py\", line 124, in __init__\n",
      "    self.archive = _validate_archive(fn)\n",
      "  File \"/Users/alecstein/opt/miniconda3/lib/python3.9/site-packages/openpyxl/reader/excel.py\", line 96, in _validate_archive\n",
      "    archive = ZipFile(filename, 'r')\n",
      "  File \"/Users/alecstein/opt/miniconda3/lib/python3.9/zipfile.py\", line 1257, in __init__\n",
      "    self._RealGetContents()\n",
      "  File \"/Users/alecstein/opt/miniconda3/lib/python3.9/zipfile.py\", line 1324, in _RealGetContents\n",
      "    raise BadZipFile(\"File is not a zip file\")\n",
      "zipfile.BadZipFile: File is not a zip file\n",
      "File is not a zip file                                                                                                                                                                        \n",
      "Traceback (most recent call last):\n",
      "  File \"/var/folders/90/q2ntyz_j4j9bgd0w1v1xdmgw0000gn/T/ipykernel_97351/2600718812.py\", line 64, in checker\n",
      "    chunk = await get_chunk(session, url, headers, cookies, ext, chunk_len = 5_000)\n",
      "  File \"/var/folders/90/q2ntyz_j4j9bgd0w1v1xdmgw0000gn/T/ipykernel_97351/1588881796.py\", line 15, in get_chunk\n",
      "    chunk = excel_to_chunk(data, chunk_len)\n",
      "  File \"/var/folders/90/q2ntyz_j4j9bgd0w1v1xdmgw0000gn/T/ipykernel_97351/3296755251.py\", line 10, in excel_to_chunk\n",
      "    book = openpyxl.load_workbook(filename=f, read_only = True, data_only = True)\n",
      "  File \"/Users/alecstein/opt/miniconda3/lib/python3.9/site-packages/openpyxl/reader/excel.py\", line 315, in load_workbook\n",
      "    reader = ExcelReader(filename, read_only, keep_vba,\n",
      "  File \"/Users/alecstein/opt/miniconda3/lib/python3.9/site-packages/openpyxl/reader/excel.py\", line 124, in __init__\n",
      "    self.archive = _validate_archive(fn)\n",
      "  File \"/Users/alecstein/opt/miniconda3/lib/python3.9/site-packages/openpyxl/reader/excel.py\", line 96, in _validate_archive\n",
      "    archive = ZipFile(filename, 'r')\n",
      "  File \"/Users/alecstein/opt/miniconda3/lib/python3.9/zipfile.py\", line 1257, in __init__\n",
      "    self._RealGetContents()\n",
      "  File \"/Users/alecstein/opt/miniconda3/lib/python3.9/zipfile.py\", line 1324, in _RealGetContents\n",
      "    raise BadZipFile(\"File is not a zip file\")\n",
      "zipfile.BadZipFile: File is not a zip file\n",
      " 46%|████████████████████████████████████████████████████████████████████▍                                                                                 | 456/1000 [02:16<03:21,  2.70it/s]"
     ]
    }
   ],
   "source": [
    "t = await check_compliance(df, sample_size = 1000)"
   ]
  },
  {
   "cell_type": "code",
   "execution_count": null,
   "metadata": {},
   "outputs": [],
   "source": [
    "t"
   ]
  },
  {
   "cell_type": "code",
   "execution_count": null,
   "metadata": {},
   "outputs": [],
   "source": [
    "t['err'].value_counts()"
   ]
  },
  {
   "cell_type": "markdown",
   "metadata": {},
   "source": [
    "## Checking whether results correlate with the JAMA paper results"
   ]
  },
  {
   "cell_type": "code",
   "execution_count": 62,
   "metadata": {},
   "outputs": [
    {
     "name": "stdout",
     "output_type": "stream",
     "text": [
      "Our mean score for hospitals marked as \"compliant\" by the JAMA paper is 4.3\n",
      "Our mean score for hospitals marked as \"noncompliant\" by the JAMA paper is 3.5\n"
     ]
    }
   ],
   "source": [
    "tmp1 = t.filter(pl.col('jama_compliance') == 1).filter(pl.col('err') == 0)['total'].mean()\n",
    "print(f'Our mean score for hospitals marked as \"compliant\" by the JAMA paper is {round(tmp1,1)}')\n",
    "\n",
    "tmp2 = t.filter(pl.col('jama_compliance') == 0).filter(pl.col('err') == 0)['total'].mean()\n",
    "print(f'Our mean score for hospitals marked as \"noncompliant\" by the JAMA paper is {round(tmp2,1)}')"
   ]
  },
  {
   "cell_type": "markdown",
   "metadata": {},
   "source": [
    "In other words, there's not a strong correlation here."
   ]
  },
  {
   "cell_type": "code",
   "execution_count": 67,
   "metadata": {},
   "outputs": [
    {
     "data": {
      "text/plain": [
       "<AxesSubplot:>"
      ]
     },
     "execution_count": 67,
     "metadata": {},
     "output_type": "execute_result"
    },
    {
     "data": {
      "image/png": "[encoded data removed]",
      "text/plain": [
       "<Figure size 432x288 with 1 Axes>"
      ]
     },
     "metadata": {
      "needs_background": "light"
     },
     "output_type": "display_data"
    }
   ],
   "source": [
    "source = (t\n",
    "    .filter(pl.col('err').is_in([0, 4]))\n",
    "    .to_pandas()\n",
    ")\n",
    "\n",
    "source['total'].hist(bins = 6)"
   ]
  },
  {
   "cell_type": "code",
   "execution_count": 65,
   "metadata": {
    "colab": {
     "base_uri": "https://localhost:8080/",
     "height": 365
    },
    "id": "zJbI241DXxsi",
    "outputId": "fd840492-08e9-4314-efef-179537faa358"
   },
   "outputs": [],
   "source": [
    "source = (t\n",
    "    .filter(pl.col('err').is_in([0, 4]))\n",
    "    .to_pandas()\n",
    ")"
   ]
  },
  {
   "cell_type": "code",
   "execution_count": 66,
   "metadata": {
    "id": "q0pgeySLEtgi"
   },
   "outputs": [
    {
     "data": {
      "text/html": [
       "\n",
       "<div id=\"altair-viz-42822776cde7450a92a62e715ea90050\"></div>\n",
       "<script type=\"text/javascript\">\n",
       "  var VEGA_DEBUG = (typeof VEGA_DEBUG == \"undefined\") ? {} : VEGA_DEBUG;\n",
       "  (function(spec, embedOpt){\n",
       "    let outputDiv = document.currentScript.previousElementSibling;\n",
       "    if (outputDiv.id !== \"altair-viz-42822776cde7450a92a62e715ea90050\") {\n",
       "      outputDiv = document.getElementById(\"altair-viz-42822776cde7450a92a62e715ea90050\");\n",
       "    }\n",
       "    const paths = {\n",
       "      \"vega\": \"https://cdn.jsdelivr.net/npm//vega@5?noext\",\n",
       "      \"vega-lib\": \"https://cdn.jsdelivr.net/npm//vega-lib?noext\",\n",
       "      \"vega-lite\": \"https://cdn.jsdelivr.net/npm//vega-lite@4.17.0?noext\",\n",
       "      \"vega-embed\": \"https://cdn.jsdelivr.net/npm//vega-embed@6?noext\",\n",
       "    };\n",
       "\n",
       "    function maybeLoadScript(lib, version) {\n",
       "      var key = `${lib.replace(\"-\", \"\")}_version`;\n",
       "      return (VEGA_DEBUG[key] == version) ?\n",
       "        Promise.resolve(paths[lib]) :\n",
       "        new Promise(function(resolve, reject) {\n",
       "          var s = document.createElement('script');\n",
       "          document.getElementsByTagName(\"head\")[0].appendChild(s);\n",
       "          s.async = true;\n",
       "          s.onload = () => {\n",
       "            VEGA_DEBUG[key] = version;\n",
       "            return resolve(paths[lib]);\n",
       "          };\n",
       "          s.onerror = () => reject(`Error loading script: ${paths[lib]}`);\n",
       "          s.src = paths[lib];\n",
       "        });\n",
       "    }\n",
       "\n",
       "    function showError(err) {\n",
       "      outputDiv.innerHTML = `<div class=\"error\" style=\"color:red;\">${err}</div>`;\n",
       "      throw err;\n",
       "    }\n",
       "\n",
       "    function displayChart(vegaEmbed) {\n",
       "      vegaEmbed(outputDiv, spec, embedOpt)\n",
       "        .catch(err => showError(`Javascript Error: ${err.message}<br>This usually means there's a typo in your chart specification. See the javascript console for the full traceback.`));\n",
       "    }\n",
       "\n",
       "    if(typeof define === \"function\" && define.amd) {\n",
       "      requirejs.config({paths});\n",
       "      require([\"vega-embed\"], displayChart, err => showError(`Error loading script: ${err.message}`));\n",
       "    } else {\n",
       "      maybeLoadScript(\"vega\", \"5\")\n",
       "        .then(() => maybeLoadScript(\"vega-lite\", \"4.17.0\"))\n",
       "        .then(() => maybeLoadScript(\"vega-embed\", \"6\"))\n",
       "        .catch(showError)\n",
       "        .then(() => displayChart(vegaEmbed));\n",
       "    }\n",
       "  })({\"config\": {\"view\": {\"continuousWidth\": 400, \"continuousHeight\": 300}}, \"data\": {\"name\": \"data-33d863b98465257ec46b6546e99e035c\"}, \"mark\": \"bar\", \"encoding\": {\"x\": {\"field\": \"total\", \"title\": \"Hospital price list compliance scores\", \"type\": \"nominal\"}, \"y\": {\"aggregate\": \"sum\", \"field\": \"pct\", \"title\": \"Fraction in dataset\", \"type\": \"quantitative\"}}, \"transform\": [{\"joinaggregate\": [{\"op\": \"count\", \"field\": \"*\", \"as\": \"t\"}]}, {\"calculate\": \"1 / datum.t\", \"as\": \"pct\"}], \"width\": 400, \"$schema\": \"https://vega.github.io/schema/vega-lite/v4.17.0.json\", \"datasets\": {\"data-33d863b98465257ec46b6546e99e035c\": [{\"ccn\": \"140063\", \"name\": \"RUSH OAK PARK HOSPITAL\", \"state\": \"IL\", \"city\": \"OAK PARK\", \"homepage\": \"https://www.rush.edu/\", \"cdm_indirect_url\": \"https://www.rush.edu/patients-visitors/billing/transparency-coverage\", \"cdm_url\": \"https://www.allegiancecosttransparency.com/2022-07-01_RUSH_OAK_PARK_HOSPITAL_index.json\", \"jama_compliance\": 1, \"gross_score\": 0, \"minmax_score\": 0, \"cash_score\": 0, \"generic_score\": 0, \"insurer_score\": 0, \"filename_score\": 0, \"total\": 0, \"err\": 1}, {\"ccn\": \"450044\", \"name\": \"UT SOUTHWESTERN UNIVERSITY HOSPITAL\", \"state\": \"TX\", \"city\": \"DALLAS\", \"homepage\": \"https://utswmed.org/\", \"cdm_indirect_url\": \"https://utswmed.org/patient-resources/billing-and-insurance/pricing-transparency/\", \"cdm_url\": \"http:/profiles.utsouthwestern.edu/documents/1738/UT_Southwestern_Hospital_Chargemaster_2022_04_06.xlsb\", \"jama_compliance\": 1, \"gross_score\": 0, \"minmax_score\": 0, \"cash_score\": 0, \"generic_score\": 0, \"insurer_score\": 0, \"filename_score\": 0, \"total\": 0, \"err\": 1}, {\"ccn\": \"041308\", \"name\": \"MCGEHEE HOSPITAL\", \"state\": \"AR\", \"city\": \"MCGEHEE\", \"homepage\": \"https://mcgeheehospital.org/\", \"cdm_indirect_url\": \"https://mcgeheehospital.org/price-transparency/\", \"cdm_url\": \"https://mcgeheehospital.org/wp-content/uploads/2021/07/TRUBRIDGE-FINISHED-CHARGEMASTER.xlsx\", \"jama_compliance\": 1, \"gross_score\": -1, \"minmax_score\": -1, \"cash_score\": -1, \"generic_score\": -1, \"insurer_score\": -1, \"filename_score\": -1, \"total\": 0, \"err\": 0}, {\"ccn\": \"230053\", \"name\": \"HENRY FORD HEALTH HOSPITAL\", \"state\": \"MI\", \"city\": \"DETROIT\", \"homepage\": \"https://www.henryford.com/\", \"cdm_indirect_url\": \"https://www.henryford.com/visitors/billing/cost-of-care/hospital-standard-charges\", \"cdm_url\": \"https://www.henryford.com/-/media/files/henry-ford/patients-visitors/billing/2022-standard-charges/101000-parent-hfhs-henry-ford-hospital-and-health-network-standardcharges.zip\", \"jama_compliance\": 1, \"gross_score\": -1, \"minmax_score\": -1, \"cash_score\": -1, \"generic_score\": -1, \"insurer_score\": -1, \"filename_score\": -1, \"total\": 0, \"err\": 0}, {\"ccn\": \"151326\", \"name\": \"UNION HOSPITAL CLINTON\", \"state\": \"IN\", \"city\": \"CLINTON\", \"homepage\": \"https://www.myunionhealth.org/\", \"cdm_indirect_url\": \"https://www.myunionhealth.org/patients-and-visitors/for-patients/billing-and-insurance/machine-readable-files-and-price-comparison-tool\", \"cdm_url\": \"https://mrf.mmsanalytics.com/siho-ihp_union-hospital-ihp--unions-hosp-phys-hsa-family-plan--6140276848_allowed-amounts.json\", \"jama_compliance\": 1, \"gross_score\": 0, \"minmax_score\": 0, \"cash_score\": 0, \"generic_score\": 0, \"insurer_score\": 0, \"filename_score\": 0, \"total\": 0, \"err\": 1}, {\"ccn\": \"150023\", \"name\": \"UNION HOSPITAL INC\", \"state\": \"IN\", \"city\": \"TERRE HAUTE\", \"homepage\": \"https://www.myunionhealth.org/\", \"cdm_indirect_url\": \"https://www.myunionhealth.org/patients-and-visitors/for-patients/billing-and-insurance/machine-readable-files-and-price-comparison-tool\", \"cdm_url\": \"https://mrf.mmsanalytics.com/siho-ihp_union-hospital-ihp--unions-hosp-phys-hsa-single-plan--6140298465_allowed-amounts.json\", \"jama_compliance\": 1, \"gross_score\": 0, \"minmax_score\": 0, \"cash_score\": 0, \"generic_score\": 0, \"insurer_score\": 0, \"filename_score\": 0, \"total\": 0, \"err\": 1}, {\"ccn\": \"140084\", \"name\": \"VISTA MEDICAL CENTER EAST\", \"state\": \"IL\", \"city\": \"WAUKEGAN\", \"homepage\": \"https://vistahealth.com/\", \"cdm_indirect_url\": \"https://vistahealth.com/pricing-transparency/\", \"cdm_url\": \"https://vistahealth.com/wp-content/uploads/2022/01/Vista_CMList_01_10_2022.csv\", \"jama_compliance\": 1, \"gross_score\": 1, \"minmax_score\": -1, \"cash_score\": -1, \"generic_score\": -1, \"insurer_score\": -1, \"filename_score\": -1, \"total\": 1, \"err\": 0}, {\"ccn\": \"140114\", \"name\": \"SWEDISH HOSPITAL\", \"state\": \"IL\", \"city\": \"CHICAGO\", \"homepage\": \"https://swedishcovenant.org/home\", \"cdm_indirect_url\": \"https://swedishcovenant.org/for-patients-and-visitors/pay-your-bill/patient-price-information\", \"cdm_url\": \"https://www.northshore.org/globalassets/about-us/billing/standard-charges/362179813_swedishhospital_standardcharges.xml\", \"jama_compliance\": 1, \"gross_score\": -1, \"minmax_score\": -1, \"cash_score\": -1, \"generic_score\": -1, \"insurer_score\": -1, \"filename_score\": 1, \"total\": 1, \"err\": 0}, {\"ccn\": \"451378\", \"name\": \"BIG BEND REGIONAL MEDICAL CENTER\", \"state\": \"TX\", \"city\": \"ALPINE\", \"homepage\": \"https://www.bigbendhealthcare.com/\", \"cdm_indirect_url\": \"https://bigbendhealthcare.com/pricing-transparency/\", \"cdm_url\": \"https://bigbendhealthcare.com/wp-content/uploads/2022/04/BigBend_CMList_01_10_2022.csv\", \"jama_compliance\": 1, \"gross_score\": 1, \"minmax_score\": -1, \"cash_score\": -1, \"generic_score\": -1, \"insurer_score\": -1, \"filename_score\": -1, \"total\": 1, \"err\": 0}, {\"ccn\": \"360036\", \"name\": \"WOOSTER COMMUNITY HOSPITAL\", \"state\": \"OH\", \"city\": \"WOOSTER\", \"homepage\": \"https://www.woosterhospital.org/\", \"cdm_indirect_url\": \"https://www.woosterhospital.org/patients-visitors/package-pricing/\", \"cdm_url\": \"https://wp03-media.cdn.ihealthspot.com/wp-content/uploads/sites/210/2020/12/28155724/2021_Chargemaster_For_Website_Posting-2.xlsx\", \"jama_compliance\": 1, \"gross_score\": -1, \"minmax_score\": -1, \"cash_score\": -1, \"generic_score\": 1, \"insurer_score\": -1, \"filename_score\": -1, \"total\": 1, \"err\": 0}, {\"ccn\": \"310038\", \"name\": \"ROBERT WOOD JOHNSON UNIVERSITY HOSPITAL\", \"state\": \"NJ\", \"city\": \"NEW BRUNSWICK\", \"homepage\": \"https://www.rwjbh.org/\", \"cdm_indirect_url\": \"https://www.rwjbh.org/rwj-university-hospital-new-brunswick/billing/charges/\", \"cdm_url\": \"https://www.rwjbh.org/documents/billing/charge%20master/RWJ-New-Brunswick.xlsx\", \"jama_compliance\": 1, \"gross_score\": 1, \"minmax_score\": -1, \"cash_score\": -1, \"generic_score\": -1, \"insurer_score\": -1, \"filename_score\": -1, \"total\": 1, \"err\": 0}, {\"ccn\": \"301311\", \"name\": \"SPEARE MEMORIAL HOSPITAL\", \"state\": \"NH\", \"city\": \"PLYMOUTH\", \"homepage\": \"https://spearehospital.com/\", \"cdm_indirect_url\": \"https://spearehospital.com/patients-visitors/cost-estimates-and-charges/\", \"cdm_url\": \"https://spearehospital.com/wp-content/uploads/2020/07/FY_2020_Price_Transparency_File.csv\", \"jama_compliance\": 1, \"gross_score\": 1, \"minmax_score\": -1, \"cash_score\": -1, \"generic_score\": -1, \"insurer_score\": -1, \"filename_score\": -1, \"total\": 1, \"err\": 0}, {\"ccn\": \"150113\", \"name\": \"COMMUNITY HOSPITAL OF ANDERSON AND MADISON COUNTY\", \"state\": \"IN\", \"city\": \"ANDERSON\", \"homepage\": \"https://www.ecommunity.com/\", \"cdm_indirect_url\": \"https://www.ecommunity.com/central-pricing-office/list-of-standard-charges\", \"cdm_url\": \"https://search.hospitalpriceindex.com/hpi2/hospital/Community%20Hospital%20Anderson/8129\", \"jama_compliance\": 1, \"gross_score\": 1, \"minmax_score\": -1, \"cash_score\": -1, \"generic_score\": -1, \"insurer_score\": -1, \"filename_score\": -1, \"total\": 1, \"err\": 0}, {\"ccn\": \"040020\", \"name\": \"ST BERNARDS MEDICAL CENTER\", \"state\": \"AR\", \"city\": \"JONESBORO\", \"homepage\": \"https://www.stbernards.info/\", \"cdm_indirect_url\": \"https://www.stbernards.info/patients-visitors/cost-of-care\", \"cdm_url\": \"https://search.hospitalpriceindex.com/hpi2/hospital/St.%20Bernards%20Medical%20Center/8121\", \"jama_compliance\": 1, \"gross_score\": 1, \"minmax_score\": -1, \"cash_score\": -1, \"generic_score\": -1, \"insurer_score\": -1, \"filename_score\": -1, \"total\": 1, \"err\": 0}, {\"ccn\": \"390096\", \"name\": \"PENN STATE HEALTH ST. JOSEPH\", \"state\": \"PA\", \"city\": \"READING\", \"homepage\": \"https://www.pennstatehealth.org/\", \"cdm_indirect_url\": \"https://www.pennstatehealth.org/patients-visitors/billing-medical-records/understanding-cost-your-care/holy-spirit-medical-center\", \"cdm_url\": \"https://www.pennstatehealth.org/sites/default/files/2020-10/CDMGEISINGERHOLYSPIRITHOSPITAL-101220_0.csv\", \"jama_compliance\": 1, \"gross_score\": 1, \"minmax_score\": -1, \"cash_score\": -1, \"generic_score\": -1, \"insurer_score\": -1, \"filename_score\": -1, \"total\": 1, \"err\": 0}, {\"ccn\": \"520177\", \"name\": \"FROEDTERT MEMORIAL LUTHERAN HOSPITAL\", \"state\": \"WI\", \"city\": \"MILWAUKEE\", \"homepage\": \"https://www.froedtert.com/\", \"cdm_indirect_url\": \"https://www.froedtert.com/price-transparency\", \"cdm_url\": \"https://search.hospitalpriceindex.com/hpi2/hospital/Froedtert%20Hospital/4934\", \"jama_compliance\": 1, \"gross_score\": 1, \"minmax_score\": -1, \"cash_score\": -1, \"generic_score\": -1, \"insurer_score\": -1, \"filename_score\": -1, \"total\": 1, \"err\": 0}, {\"ccn\": \"110192\", \"name\": \"PIEDMONT EASTSIDE MEDICAL CENTER\", \"state\": \"GA\", \"city\": \"SNELLVILLE\", \"homepage\": \"https://www.piedmont.org/\", \"cdm_indirect_url\": \"https://www.piedmont.org/patient-tools/hospital-price-transparency\", \"cdm_url\": \"https://www.piedmont.org/media/file/Price-List-Piedmont-Eastside.txt\", \"jama_compliance\": 1, \"gross_score\": -1, \"minmax_score\": -1, \"cash_score\": -1, \"generic_score\": 1, \"insurer_score\": -1, \"filename_score\": -1, \"total\": 1, \"err\": 0}, {\"ccn\": \"431333\", \"name\": \"SANFORD CANTON-INWOOD MEDICAL CENTER - CAH\", \"state\": \"SD\", \"city\": \"CANTON\", \"homepage\": \"https://www.sanfordhealth.org/\", \"cdm_indirect_url\": \"https://www.sanfordhealth.org/patients-and-visitors/billing-and-insurance/price-estimates\", \"cdm_url\": \"https://search.hospitalpriceindex.com/hpi2/hospital/Sanford%20Canton%20Inwood%20Medical%20Center/8376\", \"jama_compliance\": 1, \"gross_score\": 1, \"minmax_score\": -1, \"cash_score\": -1, \"generic_score\": -1, \"insurer_score\": -1, \"filename_score\": -1, \"total\": 1, \"err\": 0}, {\"ccn\": \"360145\", \"name\": \"UNIVERSITY HOSPITALS - ELYRIA MEDICAL CENTER\", \"state\": \"OH\", \"city\": \"ELYRIA\", \"homepage\": \"https://www.uhhospitals.org/\", \"cdm_indirect_url\": \"https://www.uhhospitals.org/patients-and-visitors/billing-insurance-and-medical-records/cms-medicare-price-transparency-initiative\", \"cdm_url\": \"https://www.uhhospitals.org/-/media/Files/Patient-and-Visitors/Patient-Pricing-Information/ELYRIA-CDM-20201228.csv\", \"jama_compliance\": 1, \"gross_score\": 1, \"minmax_score\": -1, \"cash_score\": -1, \"generic_score\": -1, \"insurer_score\": -1, \"filename_score\": -1, \"total\": 1, \"err\": 0}, {\"ccn\": \"050135\", \"name\": \"SOUTHERN CALIFORNIA HOSPITAL AT HOLLYWOOD\", \"state\": \"CA\", \"city\": \"HOLLYWOOD\", \"homepage\": \"https://www.sch-hollywood.com/\", \"cdm_indirect_url\": \"https://www.sch-hollywood.com/hospital-price-transparency/\", \"cdm_url\": \"https://search.hospitalpriceindex.com/hpi2/hospital/Southern%20California%20Hospital%20at%20Hollywood/7923\", \"jama_compliance\": 1, \"gross_score\": 1, \"minmax_score\": -1, \"cash_score\": -1, \"generic_score\": -1, \"insurer_score\": -1, \"filename_score\": -1, \"total\": 1, \"err\": 0}, {\"ccn\": \"260025\", \"name\": \"HANNIBAL REGIONAL HOSPITAL\", \"state\": \"MO\", \"city\": \"HANNIBAL\", \"homepage\": \"https://www.hannibalregional.org/\", \"cdm_indirect_url\": \"https://www.hannibalregional.org/patients-and-visitors/procedure-price-estimate/\", \"cdm_url\": \"https://search.hospitalpriceindex.com/hpi2/hospital/Hannibal%20Regional%20Healthcare%20System/8042\", \"jama_compliance\": 1, \"gross_score\": 1, \"minmax_score\": -1, \"cash_score\": -1, \"generic_score\": -1, \"insurer_score\": -1, \"filename_score\": -1, \"total\": 1, \"err\": 0}, {\"ccn\": \"301303\", \"name\": \"WEEKS MEDICAL CENTER\", \"state\": \"NH\", \"city\": \"LANCASTER\", \"homepage\": \"https://weeksmedical.org/\", \"cdm_indirect_url\": \"https://weeksmedical.org/patients-visitors/financial-information/\", \"cdm_url\": \"https://weeksmedical.org/wp-content/uploads/sites/2/2022/04/Chargemaster-10-1-19-for-website-posting.xls\", \"jama_compliance\": 1, \"gross_score\": 1, \"minmax_score\": -1, \"cash_score\": -1, \"generic_score\": -1, \"insurer_score\": -1, \"filename_score\": -1, \"total\": 1, \"err\": 0}, {\"ccn\": \"240044\", \"name\": \"WINONA HEALTH SERVICES\", \"state\": \"MN\", \"city\": \"WINONA\", \"homepage\": \"https://www.winonahealth.org/\", \"cdm_indirect_url\": \"https://www.winonahealth.org/patient-information/billing/pricing-guides/chargemaster-inpatient-services-standard-pricing/\", \"cdm_url\": \"https://search.hospitalpriceindex.com/allServices/Winona%20Health/8165/all\", \"jama_compliance\": 1, \"gross_score\": 1, \"minmax_score\": -1, \"cash_score\": -1, \"generic_score\": -1, \"insurer_score\": -1, \"filename_score\": -1, \"total\": 1, \"err\": 0}, {\"ccn\": \"300012\", \"name\": \"ELLIOT HOSPITAL\", \"state\": \"NH\", \"city\": \"MANCHESTER\", \"homepage\": \"https://www.elliothospital.org/website/\", \"cdm_indirect_url\": \"https://www.elliothospital.org/website/price-list-and-price-transparency.php\", \"cdm_url\": \"https://search.hospitalpriceindex.com/hpi2/hospital/Elliot%20Hospital/7855\", \"jama_compliance\": 1, \"gross_score\": 1, \"minmax_score\": -1, \"cash_score\": -1, \"generic_score\": -1, \"insurer_score\": -1, \"filename_score\": -1, \"total\": 1, \"err\": 0}, {\"ccn\": \"340188\", \"name\": \"CAPE FEAR VALLEY HOKE HOSPITAL\", \"state\": \"NC\", \"city\": \"RAEFORD\", \"homepage\": \"https://www.capefearvalley.com/\", \"cdm_indirect_url\": \"https://www.capefearvalley.com/patients/financial-assistance.html\", \"cdm_url\": \"https://www.capefearvalley.com/patients/forms/CFVMC_Charge_Master.csv\", \"jama_compliance\": 1, \"gross_score\": 1, \"minmax_score\": -1, \"cash_score\": -1, \"generic_score\": -1, \"insurer_score\": -1, \"filename_score\": -1, \"total\": 1, \"err\": 0}, {\"ccn\": \"230075\", \"name\": \"BRONSON BATTLE CREEK HOSPITAL\", \"state\": \"MI\", \"city\": \"BATTLE CREEK\", \"homepage\": \"https://www.bronsonhealth.com/\", \"cdm_indirect_url\": \"https://www.bronsonhealth.com/help/billing/standard-charges/\", \"cdm_url\": \"https://search.hospitalpriceindex.com/hpi2/hospital/Bronson%20Battle%20Creek%20Hospital/7808\", \"jama_compliance\": 1, \"gross_score\": 1, \"minmax_score\": -1, \"cash_score\": -1, \"generic_score\": -1, \"insurer_score\": -1, \"filename_score\": -1, \"total\": 1, \"err\": 0}, {\"ccn\": \"281313\", \"name\": \"GOTHENBURG HEALTH\", \"state\": \"NE\", \"city\": \"GOTHENBURG\", \"homepage\": \"https://www.gothenburghealth.org/\", \"cdm_indirect_url\": \"https://www.gothenburghealth.org/patients-visitors/patient-resources-and-financial-services\", \"cdm_url\": \"https://search.hospitalpriceindex.com/hpi2/hospital/Gothenburg%20Memorial%20Hospital/7909\", \"jama_compliance\": 1, \"gross_score\": 1, \"minmax_score\": -1, \"cash_score\": -1, \"generic_score\": -1, \"insurer_score\": -1, \"filename_score\": -1, \"total\": 1, \"err\": 0}, {\"ccn\": \"390146\", \"name\": \"WARREN GENERAL HOSPITAL\", \"state\": \"PA\", \"city\": \"WARREN\", \"homepage\": \"https://www.wgh.org/#gsc.tab=0\", \"cdm_indirect_url\": \"https://www.wgh.org/pricing-for-healthcare-services#gsc.tab=0\", \"cdm_url\": \"https://search.hospitalpriceindex.com/hpi2/hospital/Warren%20General%20Hospital/8133\", \"jama_compliance\": 1, \"gross_score\": 1, \"minmax_score\": -1, \"cash_score\": -1, \"generic_score\": -1, \"insurer_score\": -1, \"filename_score\": -1, \"total\": 1, \"err\": 0}, {\"ccn\": \"240100\", \"name\": \"SANFORD BEMIDJI MEDICAL CENTER\", \"state\": \"MN\", \"city\": \"BEMIDJI\", \"homepage\": \"https://www.sanfordhealth.org/\", \"cdm_indirect_url\": \"https://www.sanfordhealth.org/patients-and-visitors/billing-and-insurance/price-estimates\", \"cdm_url\": \"https://search.hospitalpriceindex.com/hpi2/hospital/Sanford%20Bemidji%20Medical%20Center/8385\", \"jama_compliance\": 1, \"gross_score\": 1, \"minmax_score\": -1, \"cash_score\": -1, \"generic_score\": -1, \"insurer_score\": -1, \"filename_score\": -1, \"total\": 1, \"err\": 0}, {\"ccn\": \"340173\", \"name\": \"WAKEMED\", \"state\": \"NC\", \"city\": \"CARY\", \"homepage\": \"https://www.wakemed.org/\", \"cdm_indirect_url\": \"https://www.wakemed.org/patients-and-visitors/billing-and-insurance/price-transparency/\", \"cdm_url\": \"https://search.hospitalpriceindex.com/hpi2/hospital/WakeMed%20Cary%20Hospital/8232\", \"jama_compliance\": 1, \"gross_score\": 1, \"minmax_score\": -1, \"cash_score\": -1, \"generic_score\": -1, \"insurer_score\": -1, \"filename_score\": -1, \"total\": 1, \"err\": 0}, {\"ccn\": \"170110\", \"name\": \"BOB WILSON MEMORIAL HOSPITAL\", \"state\": \"KS\", \"city\": \"ULYSSES\", \"homepage\": \"https://www.centura.org/\", \"cdm_indirect_url\": \"https://www.centura.org/patient-tools/pricing/costs-common-procedures\", \"cdm_url\": \"https://search.hospitalpriceindex.com/hpi2/hospital/Bob%20Wilson%20Memorial%20Grant%20County%20Hospital/8265\", \"jama_compliance\": 1, \"gross_score\": 1, \"minmax_score\": -1, \"cash_score\": -1, \"generic_score\": -1, \"insurer_score\": -1, \"filename_score\": -1, \"total\": 1, \"err\": 0}, {\"ccn\": \"060064\", \"name\": \"CENTURA PORTER ADVENTIST HOSPITAL\", \"state\": \"CO\", \"city\": \"DENVER\", \"homepage\": \"https://www.centura.org/\", \"cdm_indirect_url\": \"https://www.centura.org/patient-tools/pricing/costs-common-procedures\", \"cdm_url\": \"https://search.hospitalpriceindex.com/allServices/Porter%20Adventist%20Hospital/8273/all\", \"jama_compliance\": 1, \"gross_score\": 1, \"minmax_score\": -1, \"cash_score\": -1, \"generic_score\": -1, \"insurer_score\": -1, \"filename_score\": -1, \"total\": 1, \"err\": 0}, {\"ccn\": \"241302\", \"name\": \"SANFORD WESTBROOK HOSPITAL\", \"state\": \"MN\", \"city\": \"WESTBROOK\", \"homepage\": \"https://www.sanfordhealth.org/\", \"cdm_indirect_url\": \"https://www.sanfordhealth.org/patients-and-visitors/billing-and-insurance/price-estimates\", \"cdm_url\": \"https://search.hospitalpriceindex.com/hpi2/hospital/Sanford%20Westbrook%20Hospital/8377\", \"jama_compliance\": 1, \"gross_score\": 1, \"minmax_score\": -1, \"cash_score\": -1, \"generic_score\": -1, \"insurer_score\": -1, \"filename_score\": -1, \"total\": 1, \"err\": 0}, {\"ccn\": \"241303\", \"name\": \"SANFORD TRACY MEDICAL CENTER\", \"state\": \"MN\", \"city\": \"TRACY\", \"homepage\": \"https://www.sanfordhealth.org/\", \"cdm_indirect_url\": \"https://www.sanfordhealth.org/patients-and-visitors/billing-and-insurance/price-estimates\", \"cdm_url\": \"https://search.hospitalpriceindex.com/hpi2/hospital/Sanford%20Tracy%20Hospital/8378\", \"jama_compliance\": 1, \"gross_score\": 1, \"minmax_score\": -1, \"cash_score\": -1, \"generic_score\": -1, \"insurer_score\": -1, \"filename_score\": -1, \"total\": 1, \"err\": 0}, {\"ccn\": \"150128\", \"name\": \"COMMUNITY HOSPITAL SOUTH\", \"state\": \"IN\", \"city\": \"INDIANAPOLIS\", \"homepage\": \"https://www.ecommunity.com/\", \"cdm_indirect_url\": \"https://www.ecommunity.com/central-pricing-office/list-of-standard-charges\", \"cdm_url\": \"https://search.hospitalpriceindex.com/hpi2/hospital/Community%20Hospital%20South/8126\", \"jama_compliance\": 1, \"gross_score\": 1, \"minmax_score\": -1, \"cash_score\": -1, \"generic_score\": -1, \"insurer_score\": -1, \"filename_score\": -1, \"total\": 1, \"err\": 0}, {\"ccn\": \"310032\", \"name\": \"INSPIRA MEDICAL CENTER VINELAND\", \"state\": \"NJ\", \"city\": \"VINELAND\", \"homepage\": \"https://www.inspirahealthnetwork.org/\", \"cdm_indirect_url\": \"https://www.inspirahealthnetwork.org/patients-visitors/billing-online-payments/bill-transparency\", \"cdm_url\": \"https://search.hospitalpriceindex.com/hpi2/hospital/Inspira%20Medical%20Center%20Vineland/8227\", \"jama_compliance\": 1, \"gross_score\": 1, \"minmax_score\": -1, \"cash_score\": -1, \"generic_score\": -1, \"insurer_score\": -1, \"filename_score\": -1, \"total\": 1, \"err\": 0}, {\"ccn\": \"330194\", \"name\": \"MAIMONIDES MEDICAL CENTER\", \"state\": \"NY\", \"city\": \"BROOKLYN\", \"homepage\": \"https://maimo.org/\", \"cdm_indirect_url\": \"https://maimo.org/\", \"cdm_url\": \"https://maimo.org/wp-content/uploads/2022/10/MMC_CDM.xlsx\", \"jama_compliance\": 1, \"gross_score\": 1, \"minmax_score\": -1, \"cash_score\": -1, \"generic_score\": -1, \"insurer_score\": -1, \"filename_score\": -1, \"total\": 1, \"err\": 0}, {\"ccn\": \"060103\", \"name\": \"CENTURA AVISTA ADVENTIST HOSPITAL\", \"state\": \"CO\", \"city\": \"LOUISVILLE\", \"homepage\": \"https://www.centura.org/\", \"cdm_indirect_url\": \"https://www.centura.org/patient-tools/pricing/costs-common-procedures\", \"cdm_url\": \"https://search.hospitalpriceindex.com/allServices/Avista%20Adventist%20Hospital/8264/all\", \"jama_compliance\": 1, \"gross_score\": 1, \"minmax_score\": -1, \"cash_score\": -1, \"generic_score\": -1, \"insurer_score\": -1, \"filename_score\": -1, \"total\": 1, \"err\": 0}, {\"ccn\": \"250095\", \"name\": \"SOUTH SUNFLOWER COUNTY HOSPITAL\", \"state\": \"MS\", \"city\": \"INDIANOLA\", \"homepage\": \"https://www.southsunflower.com/\", \"cdm_indirect_url\": \"https://www.southsunflower.com/chargemaster\", \"cdm_url\": \"https://97413edb-51aa-4cad-abe1-973403108c4a.filesusr.com/ugd/de338e_fadedb59d4064d12b80a756d31c05858.xls\", \"jama_compliance\": 1, \"gross_score\": 1, \"minmax_score\": -1, \"cash_score\": -1, \"generic_score\": -1, \"insurer_score\": -1, \"filename_score\": -1, \"total\": 1, \"err\": 0}, {\"ccn\": \"060104\", \"name\": \"CENTURA ST ANTHONY NORTH HOSPITAL\", \"state\": \"CO\", \"city\": \"WESTMINSTER\", \"homepage\": \"https://www.centura.org/\", \"cdm_indirect_url\": \"https://www.centura.org/patient-tools/pricing/costs-common-procedures\", \"cdm_url\": \"https://search.hospitalpriceindex.com/hpi2/hospital/St%20Anthony%20North%20Health%20Campus/8275\", \"jama_compliance\": 1, \"gross_score\": 1, \"minmax_score\": -1, \"cash_score\": -1, \"generic_score\": -1, \"insurer_score\": -1, \"filename_score\": -1, \"total\": 1, \"err\": 0}, {\"ccn\": \"340069\", \"name\": \"WAKEMED\", \"state\": \"NC\", \"city\": \"RALEIGH\", \"homepage\": \"https://www.wakemed.org/\", \"cdm_indirect_url\": \"https://www.wakemed.org/patients-and-visitors/billing-and-insurance/price-transparency/\", \"cdm_url\": \"https://search.hospitalpriceindex.com/hpi2/hospital/WakeMed%20Raleigh%20Campus%20and%20North%20Hospital/8233\", \"jama_compliance\": 1, \"gross_score\": 1, \"minmax_score\": -1, \"cash_score\": -1, \"generic_score\": -1, \"insurer_score\": -1, \"filename_score\": -1, \"total\": 1, \"err\": 0}, {\"ccn\": \"200019\", \"name\": \"SOUTHERN MAINE HEALTH CARE\", \"state\": \"ME\", \"city\": \"BIDDEFORD\", \"homepage\": \"https://www.mainehealth.org/\", \"cdm_indirect_url\": \"https://www.mainehealth.org/Patients-Visitors/Billing-Insurance\", \"cdm_url\": \"https://search.hospitalpriceindex.com/hpi2/hospital/SouthernMaineMedicalCenter/8193or\", \"jama_compliance\": 1, \"gross_score\": 1, \"minmax_score\": -1, \"cash_score\": -1, \"generic_score\": -1, \"insurer_score\": -1, \"filename_score\": -1, \"total\": 1, \"err\": 0}, {\"ccn\": \"241328\", \"name\": \"SANFORD BAGLEY MEDICAL CENTER\", \"state\": \"MN\", \"city\": \"BAGLEY\", \"homepage\": \"https://www.sanfordhealth.org/\", \"cdm_indirect_url\": \"https://www.sanfordhealth.org/patients-and-visitors/billing-and-insurance/price-estimates\", \"cdm_url\": \"https://search.hospitalpriceindex.com/hpi2/hospital/Sanford%20Bagley%20Medical%20Center/8387\", \"jama_compliance\": 1, \"gross_score\": 1, \"minmax_score\": -1, \"cash_score\": -1, \"generic_score\": -1, \"insurer_score\": -1, \"filename_score\": -1, \"total\": 1, \"err\": 0}, {\"ccn\": \"431329\", \"name\": \"SANFORD CHAMBERLAIN MEDICAL CENTER\", \"state\": \"SD\", \"city\": \"CHAMBERLAIN\", \"homepage\": \"https://www.sanfordhealth.org/\", \"cdm_indirect_url\": \"https://www.sanfordhealth.org/patients-and-visitors/billing-and-insurance/price-estimates\", \"cdm_url\": \"https://search.hospitalpriceindex.com/hpi2/hospital/Sanford%20Chamberlain%20Medical%20Center/8374\", \"jama_compliance\": 1, \"gross_score\": 1, \"minmax_score\": -1, \"cash_score\": -1, \"generic_score\": -1, \"insurer_score\": -1, \"filename_score\": -1, \"total\": 1, \"err\": 0}, {\"ccn\": \"171301\", \"name\": \"ELLINWOOD DISTRICT HOSPITAL\", \"state\": \"KS\", \"city\": \"ELLINWOOD\", \"homepage\": \"https://www.ellinwooddistricthospital.org/\", \"cdm_indirect_url\": \"https://www.ellinwooddistricthospital.org/pricing\", \"cdm_url\": \"https://35feb668-6bc5-48eb-b0b0-511876b1baa0.filesusr.com/ugd/9ecde6_77ab7c3fc79d4694b744d8b9338bb308.xlsx\", \"jama_compliance\": 1, \"gross_score\": 1, \"minmax_score\": -1, \"cash_score\": -1, \"generic_score\": -1, \"insurer_score\": -1, \"filename_score\": -1, \"total\": 1, \"err\": 0}, {\"ccn\": \"340142\", \"name\": \"CARTERET GENERAL HOSPITAL\", \"state\": \"NC\", \"city\": \"MOREHEAD CITY\", \"homepage\": \"https://www.carterethealth.org/\", \"cdm_indirect_url\": \"https://www.carterethealth.org/patient-resources/about-my-bill/pricing-transparency/\", \"cdm_url\": \"https://www.carterethealth.org/documents/content/CHC-Charge-Description-Master.csv\", \"jama_compliance\": 1, \"gross_score\": 1, \"minmax_score\": -1, \"cash_score\": -1, \"generic_score\": 1, \"insurer_score\": -1, \"filename_score\": -1, \"total\": 2, \"err\": 0}, {\"ccn\": \"451308\", \"name\": \"YOAKUM COUNTY HOSPITAL\", \"state\": \"TX\", \"city\": \"DENVER CITY\", \"homepage\": \"https://ych.us/ych/\", \"cdm_indirect_url\": \"https://ych.us/\", \"cdm_url\": \"https://ych.us/wp-content/uploads/2022/09/Standard-Charges-List-Yoakum-County-Hospital.xlsx\", \"jama_compliance\": 1, \"gross_score\": 1, \"minmax_score\": -1, \"cash_score\": -1, \"generic_score\": 1, \"insurer_score\": -1, \"filename_score\": -1, \"total\": 2, \"err\": 0}, {\"ccn\": \"140242\", \"name\": \"NORTHWESTERN MEDICINE CENTRAL DUPAGE HOSPITAL\", \"state\": \"IL\", \"city\": \"WINFIELD\", \"homepage\": \"https://www.nm.org/\", \"cdm_indirect_url\": \"https://www.nm.org/patients-and-visitors/billing-and-insurance/chargemaster\", \"cdm_url\": \"https://www.nm.org/-/media/northwestern/resources/patients-and-visitors/billing-and-insurance/northwestern-medicine-central-dupage-hospital.xlsx\", \"jama_compliance\": 1, \"gross_score\": 1, \"minmax_score\": -1, \"cash_score\": -1, \"generic_score\": 1, \"insurer_score\": -1, \"filename_score\": -1, \"total\": 2, \"err\": 0}, {\"ccn\": \"180027\", \"name\": \"MURRAY-CALLOWAY COUNTY HOSPITAL\", \"state\": \"KY\", \"city\": \"MURRAY\", \"homepage\": \"https://www.murrayhospital.org/\", \"cdm_indirect_url\": \"https://www.murrayhospital.org/mcch-standard-charges/\", \"cdm_url\": \"https://www.murrayhospital.org/wp-content/uploads/2019/12/Chargemaster-Jan-1-2020.xlsx\", \"jama_compliance\": 1, \"gross_score\": 1, \"minmax_score\": -1, \"cash_score\": -1, \"generic_score\": 1, \"insurer_score\": -1, \"filename_score\": -1, \"total\": 2, \"err\": 0}, {\"ccn\": \"111303\", \"name\": \"JASPER MEMORIAL HOSPITAL\", \"state\": \"GA\", \"city\": \"MONTICELLO\", \"homepage\": \"https://www.jaspermemorialhospital.org/\", \"cdm_indirect_url\": \"https://www.jaspermemorialhospital.org/charge-master/\", \"cdm_url\": \"https://glh.org/wp-content/uploads/2018/12/CDM_11-30-18_for_est.xlsx\", \"jama_compliance\": 1, \"gross_score\": 1, \"minmax_score\": -1, \"cash_score\": -1, \"generic_score\": 1, \"insurer_score\": -1, \"filename_score\": -1, \"total\": 2, \"err\": 0}, {\"ccn\": \"390066\", \"name\": \"WELLSPAN GOOD SAMARITAN HOSPITAL\", \"state\": \"PA\", \"city\": \"LEBANON\", \"homepage\": \"https://www.wellspan.org/\", \"cdm_indirect_url\": \"https://www.wellspan.org/patients-visitors/patient-guide/billing-insurance/cost-of-care/\", \"cdm_url\": \"https://www.wellspan.org/media/2659840/230794160_good-samaritan-hospital_standardcharges.json\", \"jama_compliance\": 1, \"gross_score\": -1, \"minmax_score\": -1, \"cash_score\": -1, \"generic_score\": -1, \"insurer_score\": 1, \"filename_score\": 1, \"total\": 2, \"err\": 0}, {\"ccn\": \"391302\", \"name\": \"CONEMAUGH MEYERSDALE MEDICAL CENTER\", \"state\": \"PA\", \"city\": \"MEYERSDALE\", \"homepage\": \"https://www.conemaugh.org/\", \"cdm_indirect_url\": \"https://www.conemaugh.org/hospital-charges-listing\", \"cdm_url\": \"https://www.conemaugh.org/sites/conemaugh/assets/uploads/finance/Conemaugh%20Meyersdale%20Understanding%20Billing%20and%20Charges%2020181121.xls\", \"jama_compliance\": 1, \"gross_score\": 1, \"minmax_score\": -1, \"cash_score\": -1, \"generic_score\": 1, \"insurer_score\": -1, \"filename_score\": -1, \"total\": 2, \"err\": 0}, {\"ccn\": \"190313\", \"name\": \"NEW ORLEANS EAST HOSPITAL\", \"state\": \"LA\", \"city\": \"NEW ORLEANS\", \"homepage\": \"https://www.lcmchealth.org/\", \"cdm_indirect_url\": \"https://www.lcmchealth.org/new-orleans-east-hospital/patients-visitors/billing-financial-assistance/\", \"cdm_url\": \"https://fluxconsole.com/files/item/403/74803/NOEHListOfCharges.xlsx\", \"jama_compliance\": 1, \"gross_score\": 1, \"minmax_score\": -1, \"cash_score\": -1, \"generic_score\": 1, \"insurer_score\": -1, \"filename_score\": -1, \"total\": 2, \"err\": 0}, {\"ccn\": \"390028\", \"name\": \"UPMC MERCY\", \"state\": \"PA\", \"city\": \"PITTSBURGH\", \"homepage\": \"https://www.upmc.com/\", \"cdm_indirect_url\": \"https://www.upmc.com/locations/hospitals/mercy/patients-visitors/patient-information/cdm\", \"cdm_url\": \"https://cdn.upmc.com/-/media/upmc/locations/hospitals/documents/cdm-excel-files/upmc-mercy-cdm-file.xlsx\", \"jama_compliance\": 1, \"gross_score\": 1, \"minmax_score\": -1, \"cash_score\": -1, \"generic_score\": -1, \"insurer_score\": 1, \"filename_score\": -1, \"total\": 2, \"err\": 0}, {\"ccn\": \"330009\", \"name\": \"BRONXCARE HOSPITAL CENTER\", \"state\": \"NY\", \"city\": \"BRONX\", \"homepage\": \"https://www.bronxcare.org/\", \"cdm_indirect_url\": \"https://www.bronxcare.org/about-us/paying-for-care/charges/\", \"cdm_url\": \"https://info.bronxcare.org/price/131974191_BronxCareHealthSystem_Standardcharges.xlsx\", \"jama_compliance\": 1, \"gross_score\": 1, \"minmax_score\": -1, \"cash_score\": -1, \"generic_score\": -1, \"insurer_score\": 1, \"filename_score\": 1, \"total\": 3, \"err\": 0}, {\"ccn\": \"450723\", \"name\": \"METHODIST CHARLTON MEDICAL CENTER\", \"state\": \"TX\", \"city\": \"DALLAS\", \"homepage\": \"https://www.methodisthealthsystem.org/\", \"cdm_indirect_url\": \"https://www.methodisthealthsystem.org/patients-visitors/patient-tools-support/estimates-charges/\", \"cdm_url\": \"https://www.methodisthealthsystem.org/documents/content%20docs/75-0800661_MethodistCharltonMedicalCenter_standardcharges.1).csv\", \"jama_compliance\": 1, \"gross_score\": 1, \"minmax_score\": -1, \"cash_score\": -1, \"generic_score\": -1, \"insurer_score\": 1, \"filename_score\": 1, \"total\": 3, \"err\": 0}, {\"ccn\": \"241367\", \"name\": \"WELIA HEALTH\", \"state\": \"MN\", \"city\": \"MORA\", \"homepage\": \"https://www.weliahealth.org/\", \"cdm_indirect_url\": \"https://www.weliahealth.org/patient-resources/billing/\", \"cdm_url\": \"https://www.weliahealth.org/wp-content/uploads/2022/01/Charge-Master_Welia-Health_CSV-file_price-transparency_010122.csv\", \"jama_compliance\": 1, \"gross_score\": 1, \"minmax_score\": 1, \"cash_score\": 1, \"generic_score\": -1, \"insurer_score\": 1, \"filename_score\": -1, \"total\": 4, \"err\": 0}, {\"ccn\": \"140133\", \"name\": \"HOLY CROSS HOSPITAL\", \"state\": \"IL\", \"city\": \"CHICAGO\", \"homepage\": \"https://www.sinaichicago.org/en/\", \"cdm_indirect_url\": \"https://www.sinaichicago.org/en/patients-visitors/pricing/\", \"cdm_url\": \"https://standardcharges.blob.core.windows.net/hchstandardcharges/362170133_HCH_HOLY%20CROSS%20HOSPITAL_standardcharges.csv\", \"jama_compliance\": 1, \"gross_score\": 1, \"minmax_score\": -1, \"cash_score\": 1, \"generic_score\": 1, \"insurer_score\": -1, \"filename_score\": 1, \"total\": 4, \"err\": 0}, {\"ccn\": \"171378\", \"name\": \"KINGMAN HEALTHCARE CENTER\", \"state\": \"KS\", \"city\": \"KINGMAN\", \"homepage\": \"https://www.kingmanhc.com/\", \"cdm_indirect_url\": \"https://www.kingmanhc.com/getpage.php?name=Price_Transparency\", \"cdm_url\": \"https://www.kingmanhc.com/docs/Price_Transparency_Machine_Readable_File.csv\", \"jama_compliance\": 1, \"gross_score\": 1, \"minmax_score\": 1, \"cash_score\": 1, \"generic_score\": -1, \"insurer_score\": 1, \"filename_score\": -1, \"total\": 4, \"err\": 0}, {\"ccn\": \"100281\", \"name\": \"MEMORIAL HOSPITAL WEST\", \"state\": \"FL\", \"city\": \"PEMBROKE PINES\", \"homepage\": \"https://www.mhs.net/\", \"cdm_indirect_url\": \"https://www.mhs.net/patients-visitors/billing/charges\", \"cdm_url\": \"https://www.mhs.net/-/media/mhs/files/patients-and-visitors/596014973_memorial_hospital_west_standardcharges.ashx\", \"jama_compliance\": 1, \"gross_score\": 1, \"minmax_score\": -1, \"cash_score\": 1, \"generic_score\": 1, \"insurer_score\": -1, \"filename_score\": 1, \"total\": 4, \"err\": 0}, {\"ccn\": \"230021\", \"name\": \"LAKELAND HOSPITAL, ST JOSEPH\", \"state\": \"MI\", \"city\": \"ST JOSEPH\", \"homepage\": \"https://www.spectrumhealthlakeland.org/\", \"cdm_indirect_url\": \"https://www.spectrumhealth.org/billing/price-estimates\", \"cdm_url\": \"https://assets.contentstack.io/v3/assets/blt7b132cfc09cf5e18/blt5eb9138146b5fb2d/382156872_spectrum-health-lakeland-medical-center_standardcharges.json\", \"jama_compliance\": 1, \"gross_score\": 1, \"minmax_score\": 1, \"cash_score\": 1, \"generic_score\": -1, \"insurer_score\": -1, \"filename_score\": 1, \"total\": 4, \"err\": 0}, {\"ccn\": \"500007\", \"name\": \"ISLAND HOSPITAL\", \"state\": \"WA\", \"city\": \"ANACORTES\", \"homepage\": \"https://islandhealth.org/\", \"cdm_indirect_url\": \"https://islandhealth.org/pricing/\", \"cdm_url\": \"https://islandhealth.org/wp-content/uploads/910729255_IslandHospital_standard_charges-1.csv\", \"jama_compliance\": 1, \"gross_score\": 1, \"minmax_score\": 1, \"cash_score\": -1, \"generic_score\": 1, \"insurer_score\": 1, \"filename_score\": -1, \"total\": 4, \"err\": 0}, {\"ccn\": \"110028\", \"name\": \"PIEDMONT AUGUSTA HOSPITAL\", \"state\": \"GA\", \"city\": \"AUGUSTA\", \"homepage\": \"https://www.universityhealth.org/\", \"cdm_indirect_url\": \"https://www.universityhealth.org/patient-visitor-information/for-patients/billing-information/pricing-transparency/standard-charge-i/\", \"cdm_url\": \"https://www.universityhealth.org/fullpanel/uploads/csv/58-1581103_University-Health-Services-Inc_standardcharges.csv\", \"jama_compliance\": 1, \"gross_score\": 1, \"minmax_score\": -1, \"cash_score\": -1, \"generic_score\": 1, \"insurer_score\": 1, \"filename_score\": 1, \"total\": 4, \"err\": 0}, {\"ccn\": \"010034\", \"name\": \"COMMUNITY HOSPITAL INC\", \"state\": \"AL\", \"city\": \"TALLASSEE\", \"homepage\": \"https://www.chal.org/\", \"cdm_indirect_url\": \"http://www.chal.org/about/resources\", \"cdm_url\": \"http://www.chal.org/Community_Hospital_Machine_Readable_Standard_Charges_12_2020.csv\", \"jama_compliance\": 1, \"gross_score\": 1, \"minmax_score\": 1, \"cash_score\": 1, \"generic_score\": -1, \"insurer_score\": 1, \"filename_score\": -1, \"total\": 4, \"err\": 0}, {\"ccn\": \"271329\", \"name\": \"MADISON VALLEY MEDICAL CENTER\", \"state\": \"MT\", \"city\": \"ENNIS\", \"homepage\": \"https://www.mvmedcenter.org/\", \"cdm_indirect_url\": \"https://www.mvmedcenter.org/patient-information/billing-financial-services\", \"cdm_url\": \"https://www.mvmedcenter.org/sites/default/files/mvmc_price_transparency_01.01.2022.xlsx\", \"jama_compliance\": 1, \"gross_score\": 1, \"minmax_score\": 1, \"cash_score\": 1, \"generic_score\": -1, \"insurer_score\": 1, \"filename_score\": -1, \"total\": 4, \"err\": 0}, {\"ccn\": \"141319\", \"name\": \"HAMMOND HENRY HOSPITAL\", \"state\": \"IL\", \"city\": \"GENESEO\", \"homepage\": \"https://www.hammondhenry.com/\", \"cdm_indirect_url\": \"https://www.hammondhenry.com/media-library/documents/Billing/36-6008003_HammondHenryHospital_StandardCharges.csv\", \"cdm_url\": \"https://www.hammondhenry.com/media-library/documents/Billing/36-6008003_HammondHenryHospital_StandardCharges.csv\", \"jama_compliance\": 1, \"gross_score\": 1, \"minmax_score\": -1, \"cash_score\": -1, \"generic_score\": 1, \"insurer_score\": 1, \"filename_score\": 1, \"total\": 4, \"err\": 0}, {\"ccn\": \"161365\", \"name\": \"GREATER REGIONAL MEDICAL CENTER\", \"state\": \"IA\", \"city\": \"CRESTON\", \"homepage\": \"https://www.greaterregional.org/\", \"cdm_indirect_url\": \"https://www.greaterregional.org/current-patients\", \"cdm_url\": \"https://37276ec3-4a6b-40b8-a595-c8f121e46dd2.filesusr.com/ugd/7c29ba_b9d1cd406b914446b2f1fbeb3c61ccab.csv\", \"jama_compliance\": 1, \"gross_score\": 1, \"minmax_score\": -1, \"cash_score\": 1, \"generic_score\": 1, \"insurer_score\": 1, \"filename_score\": -1, \"total\": 4, \"err\": 0}, {\"ccn\": \"161367\", \"name\": \"PELLA REGIONAL HEALTH CENTER\", \"state\": \"IA\", \"city\": \"PELLA\", \"homepage\": \"https://www.pellahealth.org/\", \"cdm_indirect_url\": \"https://www.pellahealth.org/patients-visitors/billing/price-transparency/\", \"cdm_url\": \"https://www.pellahealth.org/app/files/public/27991142-712b-4916-af06-50d35929b9d7/Pella_Regional_Price_Transparency(12-02-21).xlsx\", \"jama_compliance\": 1, \"gross_score\": 1, \"minmax_score\": -1, \"cash_score\": 1, \"generic_score\": 1, \"insurer_score\": 1, \"filename_score\": -1, \"total\": 4, \"err\": 0}, {\"ccn\": \"061325\", \"name\": \"PIONEERS MEDICAL CENTER\", \"state\": \"CO\", \"city\": \"MEEKER\", \"homepage\": \"https://www.pioneershospital.org/\", \"cdm_indirect_url\": \"https://www.pioneershospital.org/financial-services/\", \"cdm_url\": \"https://www.pioneershospital.org/wp-content/uploads/2022/02/2022-Price-Transparency-File.xlsx\", \"jama_compliance\": 1, \"gross_score\": 1, \"minmax_score\": 1, \"cash_score\": 1, \"generic_score\": -1, \"insurer_score\": 1, \"filename_score\": -1, \"total\": 4, \"err\": 0}, {\"ccn\": \"340116\", \"name\": \"FRYE REGIONAL MEDICAL CENTER\", \"state\": \"NC\", \"city\": \"HICKORY\", \"homepage\": \"https://www.fryemedctr.com/\", \"cdm_indirect_url\": \"https://www.fryemedctr.com/hospital-charges-listing\", \"cdm_url\": \"http://www.fryemedctr.com/sites/frye/assets/uploads/MRF%20-%20FRYE_REGIONAL_MEDICAL_CENTER_StandardCharges_03072022%20352547114.zip\", \"jama_compliance\": 1, \"gross_score\": 1, \"minmax_score\": 1, \"cash_score\": 1, \"generic_score\": 1, \"insurer_score\": -1, \"filename_score\": -1, \"total\": 4, \"err\": 0}, {\"ccn\": \"281305\", \"name\": \"KIMBALL HEALTH SERVICES\", \"state\": \"NE\", \"city\": \"KIMBALL\", \"homepage\": \"https://www.kimballhealth.org/\", \"cdm_indirect_url\": \"https://www.kimballhealth.org/patient-resources/info-for-patients.html\", \"cdm_url\": \"https://www.kimballhealth.org/assets/silver_websites/kimball-health-services/docs/KimballHealthServices_standardcharges.csv\", \"jama_compliance\": 1, \"gross_score\": 1, \"minmax_score\": 1, \"cash_score\": 1, \"generic_score\": -1, \"insurer_score\": 1, \"filename_score\": -1, \"total\": 4, \"err\": 0}, {\"ccn\": \"340123\", \"name\": \"RANDOLPH HOSPITAL\", \"state\": \"NC\", \"city\": \"ASHEBORO\", \"homepage\": \"https://www.randolphhealth.org/\", \"cdm_indirect_url\": \"https://www.randolphhealth.org/patients-and-visitors/billing-and-insurance/hospital-chargemaster/\", \"cdm_url\": \"https://www.randolphhealth.org/media/1572/randolph_final-mr-cdm_fy22.xlsx\", \"jama_compliance\": 1, \"gross_score\": 1, \"minmax_score\": -1, \"cash_score\": 1, \"generic_score\": 1, \"insurer_score\": 1, \"filename_score\": -1, \"total\": 4, \"err\": 0}, {\"ccn\": \"141345\", \"name\": \"SALEM TOWNSHIP HOSPITAL\", \"state\": \"IL\", \"city\": \"SALEM\", \"homepage\": \"https://salemtownhosp.com/\", \"cdm_indirect_url\": \"https://salemtownhosp.com/price-transparency/\", \"cdm_url\": \"https://salemtownhosp.com/wp-content/uploads/2021/01/37-0925318_salemtownshiphospital_StandardCharges.csv\", \"jama_compliance\": 1, \"gross_score\": 1, \"minmax_score\": -1, \"cash_score\": -1, \"generic_score\": 1, \"insurer_score\": 1, \"filename_score\": 1, \"total\": 4, \"err\": 0}, {\"ccn\": \"050180\", \"name\": \"JOHN MUIR MEDICAL CENTER - WALNUT CREEK CAMPUS\", \"state\": \"CA\", \"city\": \"WALNUT CREEK\", \"homepage\": \"https://www.johnmuirhealth.com/\", \"cdm_indirect_url\": \"https://www.johnmuirhealth.com/patients-and-visitors/payment-and-insurance/cost-estimator.html\", \"cdm_url\": \"https://www.johnmuirhealth.com/content/dam/jmh/Documents/payments-and-insurance/941461843_JohnMuirMedicalCenter-WalnutCreek_standardcharges.csv\", \"jama_compliance\": 1, \"gross_score\": 1, \"minmax_score\": 1, \"cash_score\": -1, \"generic_score\": 1, \"insurer_score\": -1, \"filename_score\": 1, \"total\": 4, \"err\": 0}, {\"ccn\": \"360037\", \"name\": \"ST VINCENT CHARITY MEDICAL CENTER\", \"state\": \"OH\", \"city\": \"CLEVELAND\", \"homepage\": \"https://www.stvincentcharity.com/\", \"cdm_indirect_url\": \"https://www.stvincentcharity.com/patients-and-visitors/charges-for-hospital-services\", \"cdm_url\": \"https://www.stvincentcharity.com/media/241kqj5t/copy-of-st-vincent-charity-medical-center_standard-charges_march-2022.xlsx\", \"jama_compliance\": 1, \"gross_score\": 1, \"minmax_score\": -1, \"cash_score\": 1, \"generic_score\": 1, \"insurer_score\": 1, \"filename_score\": -1, \"total\": 4, \"err\": 0}, {\"ccn\": \"301301\", \"name\": \"COTTAGE HOSPITAL\", \"state\": \"NH\", \"city\": \"WOODSVILLE\", \"homepage\": \"https://www.cottagehospital.org/\", \"cdm_indirect_url\": \"https://www.cottagehospital.org/standard-charges\", \"cdm_url\": \"https://www.cottagehospital.org/uploads/files/FY22%20Chargemaster%281%29.xlsx\", \"jama_compliance\": 1, \"gross_score\": 1, \"minmax_score\": 1, \"cash_score\": 1, \"generic_score\": 1, \"insurer_score\": -1, \"filename_score\": -1, \"total\": 4, \"err\": 0}, {\"ccn\": \"050603\", \"name\": \"MEMORIALCARE SADDLEBACK MEDICAL CENTER\", \"state\": \"CA\", \"city\": \"LAGUNA HILLS\", \"homepage\": \"https://www.memorialcare.org/\", \"cdm_indirect_url\": \"https://www.memorialcare.org/patients-visitors/patient-financial-tools-and-resources\", \"cdm_url\": \"https://www.memorialcare.org/sites/default/files/_images/content/Patient-Financial-Services/050603_memorialcare-saddleback-medical-center_standardcharges.json\", \"jama_compliance\": 1, \"gross_score\": 1, \"minmax_score\": 1, \"cash_score\": 1, \"generic_score\": 1, \"insurer_score\": -1, \"filename_score\": -1, \"total\": 4, \"err\": 0}, {\"ccn\": \"390184\", \"name\": \"PENN HIGHLANDS CONNELLSVILLE\", \"state\": \"PA\", \"city\": \"CONNELLSVILLE\", \"homepage\": \"https://www.highlandshospital.org/\", \"cdm_indirect_url\": \"https://www.highlandshospital.org/general-information/hospital-charges\", \"cdm_url\": \"https://www.highlandshospital.org/wp-content/uploads/2021/01/Highlands_Chargemaster_01042021.csv\", \"jama_compliance\": 1, \"gross_score\": 1, \"minmax_score\": 1, \"cash_score\": 1, \"generic_score\": -1, \"insurer_score\": 1, \"filename_score\": -1, \"total\": 4, \"err\": 0}, {\"ccn\": \"171329\", \"name\": \"SUMNER COUNTY HOSPITAL DISTRICT NO 1\", \"state\": \"KS\", \"city\": \"CALDWELL\", \"homepage\": \"https://www.sumnercountyhospital.org/\", \"cdm_indirect_url\": \"https://www.sumnercountyhospital.org/\", \"cdm_url\": \"https://6ecd40bf-22bc-4867-a350-e9f2fe3742ff.filesusr.com/ugd/20552e_9ac823bf35c24035b478f275657e986d.csv\", \"jama_compliance\": 1, \"gross_score\": 1, \"minmax_score\": 1, \"cash_score\": 1, \"generic_score\": -1, \"insurer_score\": 1, \"filename_score\": -1, \"total\": 4, \"err\": 0}, {\"ccn\": \"241306\", \"name\": \"OLIVIA HOSPITAL & CLINIC\", \"state\": \"MN\", \"city\": \"OLIVIA\", \"homepage\": \"https://www.healthpartners.com/\", \"cdm_indirect_url\": \"https://www.healthpartners.com/care/hospitals/olivia/patient-guest/patient-information/financial-support/\", \"cdm_url\": \"https://www.healthpartners.com/content/dam/brand-identity/pdfs/care/olivia-hospital-standard-charges.xlsx\", \"jama_compliance\": 1, \"gross_score\": 1, \"minmax_score\": 1, \"cash_score\": -1, \"generic_score\": 1, \"insurer_score\": 1, \"filename_score\": -1, \"total\": 4, \"err\": 0}, {\"ccn\": \"510048\", \"name\": \"LOGAN REGIONAL MEDICAL CENTER\", \"state\": \"WV\", \"city\": \"LOGAN\", \"homepage\": \"https://www.loganregionalmedicalcenter.com/\", \"cdm_indirect_url\": \"https://www.loganregionalmedicalcenter.com/hospital-charges-listing\", \"cdm_url\": \"http://www.loganregionalmedicalcenter.com/sites/loganregional/assets/uploads/050539357_Logan_Regional_Medical_Center_Standard_Charges_12192020.zip\", \"jama_compliance\": 1, \"gross_score\": 1, \"minmax_score\": 1, \"cash_score\": 1, \"generic_score\": 1, \"insurer_score\": 1, \"filename_score\": -1, \"total\": 5, \"err\": 0}, {\"ccn\": \"140147\", \"name\": \"CARLE RICHLAND MEMORIAL HOSPITAL\", \"state\": \"IL\", \"city\": \"OLNEY\", \"homepage\": \"https://carle.org/\", \"cdm_indirect_url\": \"https://carle.org/Patients-Visitors/Transparent-Pricing-and-Estimates\", \"cdm_url\": \"https://carle.org/getmedia/5c207f8b-d328-4d56-875e-6f132c54b77a/371363001_Carle-Richland-Hospital_standardcharges_2022.csv\", \"jama_compliance\": 1, \"gross_score\": 1, \"minmax_score\": -1, \"cash_score\": 1, \"generic_score\": 1, \"insurer_score\": 1, \"filename_score\": 1, \"total\": 5, \"err\": 0}, {\"ccn\": \"140187\", \"name\": \"HSHS ST ELIZABETH'S HOSPITAL\", \"state\": \"IL\", \"city\": \"O FALLON\", \"homepage\": \"https://www.hshs.org/\", \"cdm_indirect_url\": \"https://www.hshs.org/HSHS/About-Us/Price-Transparency/Transparency-Pages/Price-Transparency-SEO\", \"cdm_url\": \"https://www.hshs.org/HSHSFamily/media/HSHS/Services/370663567_ST-ELIZABETHS-HOSPITAL_STANDARDCHARGES.txt\", \"jama_compliance\": 1, \"gross_score\": 1, \"minmax_score\": 1, \"cash_score\": -1, \"generic_score\": 1, \"insurer_score\": 1, \"filename_score\": 1, \"total\": 5, \"err\": 0}, {\"ccn\": \"440058\", \"name\": \"SOUTHERN TENNESSEE REGIONAL HLTH SYSTEM WINCHESTER\", \"state\": \"TN\", \"city\": \"WINCHESTER\", \"homepage\": \"https://www.southerntnwinchester.com/\", \"cdm_indirect_url\": \"https://www.southerntnwinchester.com/hospital-charges-listing\", \"cdm_url\": \"https://www.southerntnwinchester.com/sites/strhswinchester/assets/uploads/MRF%20-%20STRHS_-_Winchester_Standard_Charges_06112021%20621762535.zip\", \"jama_compliance\": 1, \"gross_score\": 1, \"minmax_score\": 1, \"cash_score\": 1, \"generic_score\": 1, \"insurer_score\": 1, \"filename_score\": -1, \"total\": 5, \"err\": 0}, {\"ccn\": \"070022\", \"name\": \"YALE-NEW HAVEN HOSPITAL\", \"state\": \"CT\", \"city\": \"NEW HAVEN\", \"homepage\": \"https://www.ynhh.org/\", \"cdm_indirect_url\": \"https://www.ynhh.org/patients-visitors/billing-insurance/pricing.aspx\", \"cdm_url\": \"https://www.ynhh.org/-/media/Files/YNHHS/sc/06-0646652_YaleNewHavenHospital_standardcharges.ashx\", \"jama_compliance\": 1, \"gross_score\": 1, \"minmax_score\": -1, \"cash_score\": 1, \"generic_score\": 1, \"insurer_score\": 1, \"filename_score\": 1, \"total\": 5, \"err\": 0}, {\"ccn\": \"180101\", \"name\": \"GEORGETOWN COMMUNITY HOSPITAL\", \"state\": \"KY\", \"city\": \"GEORGETOWN\", \"homepage\": \"https://www.georgetowncommunityhospital.com/\", \"cdm_indirect_url\": \"https://www.georgetowncommunityhospital.com/hospital-charges-listing\", \"cdm_url\": \"http://www.georgetowncommunityhospital.com/sites/georgetown/assets/uploads/MRF%20-%20Georgetown_Community_Standard_Charges_06082021%20621757921.zip\", \"jama_compliance\": 1, \"gross_score\": 1, \"minmax_score\": 1, \"cash_score\": 1, \"generic_score\": 1, \"insurer_score\": 1, \"filename_score\": -1, \"total\": 5, \"err\": 0}, {\"ccn\": \"050599\", \"name\": \"UNIVERSITY OF CALIFORNIA DAVIS MEDICAL CENTER\", \"state\": \"CA\", \"city\": \"SACRAMENTO\", \"homepage\": \"https://health.ucdavis.edu/welcome/index.html\", \"cdm_indirect_url\": \"https://health.ucdavis.edu/news/public-reporting/chargemaster\", \"cdm_url\": \"https://health.ucdavis.edu/media-resources/news/documents/json/UC-Davis-Health-Standard-Charges.json\", \"jama_compliance\": 1, \"gross_score\": 1, \"minmax_score\": 1, \"cash_score\": 1, \"generic_score\": 1, \"insurer_score\": 1, \"filename_score\": -1, \"total\": 5, \"err\": 0}, {\"ccn\": \"510031\", \"name\": \"SAINT FRANCIS HOSPITAL\", \"state\": \"WV\", \"city\": \"CHARLESTON\", \"homepage\": \"https://thomashealth.org/\", \"cdm_indirect_url\": \"https://thomashealth.org/price-transparency/\", \"cdm_url\": \"https://mrf.panaceainc.com/Download.aspx?org=thomashealth&loc=saintfrancis&ref=https%3a%2f%2fthomashealth.org%2f\", \"jama_compliance\": 1, \"gross_score\": 1, \"minmax_score\": 1, \"cash_score\": 1, \"generic_score\": 1, \"insurer_score\": 1, \"filename_score\": -1, \"total\": 5, \"err\": 0}, {\"ccn\": \"360079\", \"name\": \"KETTERING HEALTH MAIN CAMPUS\", \"state\": \"OH\", \"city\": \"KETTERING\", \"homepage\": \"https://ketteringhealth.org/\", \"cdm_indirect_url\": \"https://ketteringhealth.org/billing-insurance/patient-pricing/\", \"cdm_url\": \"https://ketteringhealth.org/wp-content/uploads/2021/12/1043233984_Kettering-Health-Main-Campus_StandardCharges.json\", \"jama_compliance\": 1, \"gross_score\": 1, \"minmax_score\": 1, \"cash_score\": 1, \"generic_score\": 1, \"insurer_score\": -1, \"filename_score\": 1, \"total\": 5, \"err\": 0}, {\"ccn\": \"111306\", \"name\": \"EFFINGHAM HEALTH SYSTEM\", \"state\": \"GA\", \"city\": \"SPRINGFIELD\", \"homepage\": \"https://www.effinghamhealth.org/\", \"cdm_indirect_url\": \"https://www.effinghamhealth.org/billing-insurance/payer-price-transparency/\", \"cdm_url\": \"https://effingham.pg.quadax.revenuemasters.com/downloads/charge-master\", \"jama_compliance\": 1, \"gross_score\": 1, \"minmax_score\": 1, \"cash_score\": 1, \"generic_score\": 1, \"insurer_score\": 1, \"filename_score\": -1, \"total\": 5, \"err\": 0}, {\"ccn\": \"450747\", \"name\": \"PALESTINE REGIONAL MEDICAL CENTER\", \"state\": \"TX\", \"city\": \"PALESTINE\", \"homepage\": \"https://www.palestineregional.com/\", \"cdm_indirect_url\": \"https://www.palestineregional.com/hospital-charges-listing\", \"cdm_url\": \"http://www.palestineregional.com/sites/palestine/assets/uploads/MRF%20-%20Palestine_Regional_Medical_Center_Standard_Charges_06072021%20742791525.zip\", \"jama_compliance\": 1, \"gross_score\": 1, \"minmax_score\": 1, \"cash_score\": 1, \"generic_score\": 1, \"insurer_score\": 1, \"filename_score\": -1, \"total\": 5, \"err\": 0}, {\"ccn\": \"361323\", \"name\": \"AULTMAN ORRVILLE HOSPITAL\", \"state\": \"OH\", \"city\": \"ORRVILLE\", \"homepage\": \"http://aultmanorrville.org/\", \"cdm_indirect_url\": \"http://aultmanorrville.org/Patient-Information/resources/summary-of-charges\", \"cdm_url\": \"http://aultmanorrville.org/docs/default-source/pdfs/361323_aultman-orrville-hospital_standardcharges-2022.xlsx\", \"jama_compliance\": 1, \"gross_score\": 1, \"minmax_score\": 1, \"cash_score\": 1, \"generic_score\": 1, \"insurer_score\": 1, \"filename_score\": -1, \"total\": 5, \"err\": 0}, {\"ccn\": \"321301\", \"name\": \"SOCORRO GENERAL HOSPITAL\", \"state\": \"NM\", \"city\": \"SOCORRO\", \"homepage\": \"https://socorro-general-hospital.phs.org/Pages/default.aspx\", \"cdm_indirect_url\": \"https://www.phs.org/tools-resources/patient/Pages/standard-charges.aspx\", \"cdm_url\": \"https://onbaseext.phs.org/PEL/DisplayDocument?ContentID=PEL_00954560\", \"jama_compliance\": 1, \"gross_score\": 1, \"minmax_score\": 1, \"cash_score\": 1, \"generic_score\": 1, \"insurer_score\": 1, \"filename_score\": -1, \"total\": 5, \"err\": 0}, {\"ccn\": \"180019\", \"name\": \"MEADOWVIEW REGIONAL MEDICAL CENTER\", \"state\": \"KY\", \"city\": \"MAYSVILLE\", \"homepage\": \"https://www.meadowviewregional.com/\", \"cdm_indirect_url\": \"https://www.meadowviewregional.com/hospital-charges-listing\", \"cdm_url\": \"http://www.meadowviewregional.com/sites/meadowview/assets/uploads/MRF%20-%20Meadowview_Regional_Med_Standard_Charges_06092021%20621757929.zip\", \"jama_compliance\": 1, \"gross_score\": 1, \"minmax_score\": 1, \"cash_score\": 1, \"generic_score\": 1, \"insurer_score\": 1, \"filename_score\": -1, \"total\": 5, \"err\": 0}, {\"ccn\": \"361316\", \"name\": \"BUCYRUS COMMUNITY HOSPITAL\", \"state\": \"OH\", \"city\": \"BUCYRUS\", \"homepage\": \"https://avitahealth.org/\", \"cdm_indirect_url\": \"https://avitahealth.org/your-bill/\", \"cdm_url\": \"https://avitahealth.org/?smd_process_download=1&download_id=16298\", \"jama_compliance\": 1, \"gross_score\": 1, \"minmax_score\": 1, \"cash_score\": 1, \"generic_score\": 1, \"insurer_score\": 1, \"filename_score\": -1, \"total\": 5, \"err\": 0}, {\"ccn\": \"250151\", \"name\": \"ALLIANCE HEALTH CENTER\", \"state\": \"MS\", \"city\": \"MERIDIAN\", \"homepage\": \"https://alliancehealthcenter.com/\", \"cdm_indirect_url\": \"https://alliancehealthcenter.com/standard-services/\", \"cdm_url\": \"https://uhsfilecdn.eskycity.net/bh/640777521-alliance-standard_charges.csv\", \"jama_compliance\": 1, \"gross_score\": 1, \"minmax_score\": 1, \"cash_score\": 1, \"generic_score\": 1, \"insurer_score\": 1, \"filename_score\": -1, \"total\": 5, \"err\": 0}, {\"ccn\": \"220070\", \"name\": \"MELROSEWAKEFIELD HEALTHCARE\", \"state\": \"MA\", \"city\": \"MELROSE\", \"homepage\": \"https://www.melrosewakefield.org/\", \"cdm_indirect_url\": \"https://www.melrosewakefield.org/patients-visitors/financial-resources/cost-estimate-price-transparency/\", \"cdm_url\": \"https://www.melrosewakefield.org/wp-content/uploads/2020/04/042767880.melrosewakefield.standardcharges.csv-4.csv\", \"jama_compliance\": 1, \"gross_score\": 1, \"minmax_score\": 1, \"cash_score\": 1, \"generic_score\": -1, \"insurer_score\": 1, \"filename_score\": 1, \"total\": 5, \"err\": 0}, {\"ccn\": \"440068\", \"name\": \"STARR REGIONAL MEDICAL CENTER ATHENS\", \"state\": \"TN\", \"city\": \"ATHENS\", \"homepage\": \"https://www.starrregional.com/athens\", \"cdm_indirect_url\": \"https://www.starrregional.com/hospital-charges-listing\", \"cdm_url\": \"http://www.starrregional.com/sites/starr/assets/uploads/621866028_Athens_Woods_Starr_Regional_Standard_Charges_12192020.zip\", \"jama_compliance\": 1, \"gross_score\": 1, \"minmax_score\": 1, \"cash_score\": 1, \"generic_score\": 1, \"insurer_score\": 1, \"filename_score\": -1, \"total\": 5, \"err\": 0}, {\"ccn\": \"330235\", \"name\": \"AUBURN  COMMUNITY  HOSPITAL\", \"state\": \"NY\", \"city\": \"AUBURN\", \"homepage\": \"https://www.auburnhospital.org/\", \"cdm_indirect_url\": \"https://www.auburnhospital.org/patients-and-visitors/billing/\", \"cdm_url\": \"https://www.auburnhospital.org/wp-content/uploads/2021/12/15-0532054_Auburn-Community-Hospital_standardcharges.csv\", \"jama_compliance\": 1, \"gross_score\": 1, \"minmax_score\": -1, \"cash_score\": 1, \"generic_score\": 1, \"insurer_score\": 1, \"filename_score\": 1, \"total\": 5, \"err\": 0}, {\"ccn\": \"161350\", \"name\": \"STEWART MEMORIAL COMMUNITY HOSPITAL\", \"state\": \"IA\", \"city\": \"LAKE CITY\", \"homepage\": \"https://www.stewartmemorial.org/\", \"cdm_indirect_url\": \"https://www.stewartmemorial.org/patients-visitors/price-transparency\", \"cdm_url\": \"https://www.stewartmemorial.org/filesimages/Page%20Images/420860039_StewartMemorialCommunityHospital_service_charges.csv\", \"jama_compliance\": 1, \"gross_score\": 1, \"minmax_score\": 1, \"cash_score\": 1, \"generic_score\": 1, \"insurer_score\": 1, \"filename_score\": -1, \"total\": 5, \"err\": 0}, {\"ccn\": \"451303\", \"name\": \"LIMESTONE MEDICAL CENTER\", \"state\": \"TX\", \"city\": \"GROESBECK\", \"homepage\": \"https://groesbeckhospital.com/\", \"cdm_indirect_url\": \"https://groesbeckhospital.com/chargemaster/\", \"cdm_url\": \"https://groesbeckhospital.com/wp-content/uploads/2022/05/741744089_SOUTHLIMESTONEHOSPITALDISTRICT_STANDARDCHARGES2.csv\", \"jama_compliance\": 1, \"gross_score\": 1, \"minmax_score\": 1, \"cash_score\": 1, \"generic_score\": -1, \"insurer_score\": 1, \"filename_score\": 1, \"total\": 5, \"err\": 0}, {\"ccn\": \"451355\", \"name\": \"COLLINGSWORTH GENERAL HOSPITAL\", \"state\": \"TX\", \"city\": \"WELLINGTON\", \"homepage\": \"https://collingsworthgeneral.net/\", \"cdm_indirect_url\": \"https://collingsworthgeneral.net/hospital-charges/\", \"cdm_url\": \"https://collingsworthgeneral.net/wp-content/uploads/2022/07/20-0929321_CollingsworthGeneralHospital_standardcharges.csv\", \"jama_compliance\": 1, \"gross_score\": 1, \"minmax_score\": 1, \"cash_score\": 1, \"generic_score\": -1, \"insurer_score\": 1, \"filename_score\": 1, \"total\": 5, \"err\": 0}, {\"ccn\": \"161358\", \"name\": \"WAYNE COUNTY HOSPITAL\", \"state\": \"IA\", \"city\": \"CORYDON\", \"homepage\": \"https://www.waynecountyhospital.org/\", \"cdm_indirect_url\": \"https://www.waynecountyhospital.org/patients-visitors/cms-rule-on-transparency/\", \"cdm_url\": \"https://www.waynecountyhospital.org/wp-content/uploads/2021/01/426038180_WayneCountyHospital_service_charges.csv\", \"jama_compliance\": 1, \"gross_score\": 1, \"minmax_score\": 1, \"cash_score\": 1, \"generic_score\": 1, \"insurer_score\": 1, \"filename_score\": -1, \"total\": 5, \"err\": 0}, {\"ccn\": \"180046\", \"name\": \"BOURBON COMMUNITY HOSPITAL\", \"state\": \"KY\", \"city\": \"PARIS\", \"homepage\": \"https://www.bourbonhospital.com/\", \"cdm_indirect_url\": \"https://www.bourbonhospital.com/hospital-charges-listing\", \"cdm_url\": \"http://www.bourbonhospital.com/sites/bourbon/assets/uploads/MRF%20-%20Bourbon_Community_Hospital_Standard_Charges_06142021%20621757924.zip\", \"jama_compliance\": 1, \"gross_score\": 1, \"minmax_score\": 1, \"cash_score\": 1, \"generic_score\": 1, \"insurer_score\": 1, \"filename_score\": -1, \"total\": 5, \"err\": 0}, {\"ccn\": \"290019\", \"name\": \"CARSON TAHOE REGIONAL MEDICAL CENTER\", \"state\": \"NV\", \"city\": \"CARSON CITY\", \"homepage\": \"https://www.carsontahoe.com/\", \"cdm_indirect_url\": \"https://www.carsontahoe.com/price-transparency.html\", \"cdm_url\": \"https://www.carsontahoe.com/assets/pdf/carson-tahoe-regional-medical-center_standardcharges.xlsx\", \"jama_compliance\": 1, \"gross_score\": 1, \"minmax_score\": 1, \"cash_score\": 1, \"generic_score\": 1, \"insurer_score\": 1, \"filename_score\": -1, \"total\": 5, \"err\": 0}, {\"ccn\": \"181302\", \"name\": \"THE JAMES B HAGGIN MEMORIAL HOSPITAL\", \"state\": \"KY\", \"city\": \"HARRODSBURG\", \"homepage\": \"https://www.emhealth.org/\", \"cdm_indirect_url\": \"https://patients.emhealth.org/pricing/?fac=FTL\", \"cdm_url\": \"https://patients.emhealth.org/pricing/assets/data/PriceTransparencyInpatient-20210111.xlsx\", \"jama_compliance\": 1, \"gross_score\": 1, \"minmax_score\": 1, \"cash_score\": 1, \"generic_score\": 1, \"insurer_score\": 1, \"filename_score\": -1, \"total\": 5, \"err\": 0}, {\"ccn\": \"430091\", \"name\": \"BLACK HILLS SURGICAL HOSPITAL LLP\", \"state\": \"SD\", \"city\": \"RAPID CITY\", \"homepage\": \"https://bhsh.com/\", \"cdm_indirect_url\": \"https://bhsh.com/patient-resources/price-transparency/\", \"cdm_url\": \"https://bhsh.com/wp-content/uploads/2022/07/BHSH-Machine-Readable-File-updated-03-01-2022-1.csv\", \"jama_compliance\": 1, \"gross_score\": 1, \"minmax_score\": 1, \"cash_score\": 1, \"generic_score\": 1, \"insurer_score\": 1, \"filename_score\": -1, \"total\": 5, \"err\": 0}, {\"ccn\": \"390195\", \"name\": \"MAIN LINE HOSPITAL LANKENAU\", \"state\": \"PA\", \"city\": \"WYNNEWOOD\", \"homepage\": \"https://www.mainlinehealth.org/\", \"cdm_indirect_url\": \"https://www.mainlinehealth.org/patient-services/patient-billing/price-transparency/standard-charges\", \"cdm_url\": \"https://portalapprev.com/ptapp/api/cdm/export/oneclick?recno=cb8acf62d2ccd36a92e54ae6b9a54df0248c1fbf8248643438908bdc4cb40808\", \"jama_compliance\": 1, \"gross_score\": 1, \"minmax_score\": 1, \"cash_score\": 1, \"generic_score\": 1, \"insurer_score\": 1, \"filename_score\": -1, \"total\": 5, \"err\": 0}, {\"ccn\": \"050342\", \"name\": \"PIONEERS MEMORIAL HEALTHCARE DISTRICT\", \"state\": \"CA\", \"city\": \"BRAWLEY\", \"homepage\": \"https://pmhd.org/\", \"cdm_indirect_url\": \"https://pmhd.org/charge-estimates/\", \"cdm_url\": \"https://pmhd.org/wp-content/uploads/2020/12/PMHD-CDM-Prices-Including-Pharmacy-CDM-1.xlsx\", \"jama_compliance\": 1, \"gross_score\": 1, \"minmax_score\": 1, \"cash_score\": 1, \"generic_score\": 1, \"insurer_score\": 1, \"filename_score\": -1, \"total\": 5, \"err\": 0}, {\"ccn\": \"431306\", \"name\": \"PLATTE HEALTH CENTER\", \"state\": \"SD\", \"city\": \"PLATTE\", \"homepage\": \"https://www.avera.org/\", \"cdm_indirect_url\": \"https://www.avera.org/patients-visitors/price-transparency/\", \"cdm_url\": \"https://www.avera.org/app/files/public/74022/460239781_Platte-Health-Center_Standard-Charges.xlsx\", \"jama_compliance\": 1, \"gross_score\": 1, \"minmax_score\": 1, \"cash_score\": 1, \"generic_score\": 1, \"insurer_score\": 1, \"filename_score\": -1, \"total\": 5, \"err\": 0}, {\"ccn\": \"110130\", \"name\": \"IRWIN COUNTY HOSPITAL\", \"state\": \"GA\", \"city\": \"OCILLA\", \"homepage\": \"https://www.irwincntyhospital.com/home\", \"cdm_indirect_url\": \"https://www.irwincntyhospital.com/about/pricing-transparency-information\", \"cdm_url\": \"https://www.irwincntyhospital.com/fileadmin/Files/Irwin/Transparency_Documents/Irwin_CMS_Hospital_Price_Transparency.xlsx\", \"jama_compliance\": 1, \"gross_score\": 1, \"minmax_score\": 1, \"cash_score\": 1, \"generic_score\": 1, \"insurer_score\": 1, \"filename_score\": -1, \"total\": 5, \"err\": 0}, {\"ccn\": \"520070\", \"name\": \"MAYO CLINIC HEALTH SYSTEM IN EAU CLAIRE\", \"state\": \"WI\", \"city\": \"EAU CLAIRE\", \"homepage\": \"https://www.mayoclinichealthsystem.org/\", \"cdm_indirect_url\": \"https://www.mayoclinichealthsystem.org/locations/eau-claire/billing/cms-hospital-pricing\", \"cdm_url\": \"https://mcorgstatic.blob.core.windows.net/cms-price/390813418_mayo-clinic-health-system-eau-claire_standardcharges.csv\", \"jama_compliance\": 1, \"gross_score\": 1, \"minmax_score\": 1, \"cash_score\": 1, \"generic_score\": 1, \"insurer_score\": -1, \"filename_score\": 1, \"total\": 5, \"err\": 0}, {\"ccn\": \"010164\", \"name\": \"COOSA VALLEY MEDICAL CENTER\", \"state\": \"AL\", \"city\": \"SYLACAUGA\", \"homepage\": \"https://cvhealth.net/\", \"cdm_indirect_url\": \"https://cvhealth.net/patients-visitors/patient-financial-information/price-transparency/\", \"cdm_url\": \"https://cvhealth.net/wp-content/uploads/2021/01/Price-Transparancey-2021.csv\", \"jama_compliance\": 1, \"gross_score\": 1, \"minmax_score\": 1, \"cash_score\": 1, \"generic_score\": 1, \"insurer_score\": 1, \"filename_score\": -1, \"total\": 5, \"err\": 0}, {\"ccn\": \"371316\", \"name\": \"STROUD REGIONAL MEDICAL CENTER\", \"state\": \"OK\", \"city\": \"STROUD\", \"homepage\": \"https://stroudhospital.com/\", \"cdm_indirect_url\": \"https://stroudhospital.com/pricing/\", \"cdm_url\": \"https://stroudhospital.com/wp-content/uploads/2021/07/260532635_Stroud-Regional-Medical-Center_Standard-Charges.csv\", \"jama_compliance\": 1, \"gross_score\": 1, \"minmax_score\": 1, \"cash_score\": 1, \"generic_score\": 1, \"insurer_score\": 1, \"filename_score\": -1, \"total\": 5, \"err\": 0}, {\"ccn\": \"271320\", \"name\": \"CABINET PEAKS MEDICAL CENTER\", \"state\": \"MT\", \"city\": \"LIBBY\", \"homepage\": \"https://www.cabinetpeaks.org/\", \"cdm_indirect_url\": \"https://www.cabinetpeaks.org/getpage.php?name=PRICING\", \"cdm_url\": \"https://www.cabinetpeaks.org/docs/81-0241755_Cabinet_Peaks_Medical_Center_Standard_Charges_FINAL2022.csv\", \"jama_compliance\": 1, \"gross_score\": 1, \"minmax_score\": 1, \"cash_score\": 1, \"generic_score\": 1, \"insurer_score\": 1, \"filename_score\": -1, \"total\": 5, \"err\": 0}, {\"ccn\": \"360025\", \"name\": \"FIRELANDS REGIONAL MEDICAL CENTER\", \"state\": \"OH\", \"city\": \"SANDUSKY\", \"homepage\": \"https://www.firelands.com/\", \"cdm_indirect_url\": \"https://www.firelands.com/patients-guests/billing-insurance/price-transparency/\", \"cdm_url\": \"https://www.firelands.com/app/files/public/9fec08d2-c899-43ff-a1bc-bdbb6158b994/Price%20Transparency%20File%202-1-2022.xlsx\", \"jama_compliance\": 1, \"gross_score\": 1, \"minmax_score\": 1, \"cash_score\": 1, \"generic_score\": 1, \"insurer_score\": 1, \"filename_score\": -1, \"total\": 5, \"err\": 0}, {\"ccn\": \"170009\", \"name\": \"SAINT JOHN HOSPITAL\", \"state\": \"KS\", \"city\": \"LEAVENWORTH\", \"homepage\": \"https://stjohnleavenworth.com/\", \"cdm_indirect_url\": \"https://stjohnleavenworth.com/financial-assistance/\", \"cdm_url\": \"https://stjohnleavenworth.com/wp-content/uploads/2022/08/462171791_SaintJohnHospital_standardcharges.json\", \"jama_compliance\": 1, \"gross_score\": 1, \"minmax_score\": 1, \"cash_score\": -1, \"generic_score\": 1, \"insurer_score\": 1, \"filename_score\": 1, \"total\": 5, \"err\": 0}, {\"ccn\": \"170013\", \"name\": \"HAYS MEDICAL CENTER\", \"state\": \"KS\", \"city\": \"HAYS\", \"homepage\": \"https://www.haysmed.com/\", \"cdm_indirect_url\": \"https://www.haysmed.com/billing/\", \"cdm_url\": \"https://www.haysmed.com/wp-content/uploads/2022/03/48-0559088_HaysMedicalCenter_standardcharges.csv\", \"jama_compliance\": 1, \"gross_score\": 1, \"minmax_score\": -1, \"cash_score\": 1, \"generic_score\": 1, \"insurer_score\": 1, \"filename_score\": 1, \"total\": 5, \"err\": 0}, {\"ccn\": \"450400\", \"name\": \"PARKVIEW REGIONAL HOSPITAL\", \"state\": \"TX\", \"city\": \"MEXIA\", \"homepage\": \"https://www.parkviewregional.com/\", \"cdm_indirect_url\": \"https://www.parkviewregional.com/hospital-charges-listing\", \"cdm_url\": \"http://www.parkviewregional.com/sites/parkview/assets/uploads/MRF%20-%20Parkview_Regional_Hospital_Standard_Charges_05132021%20621692446.zip\", \"jama_compliance\": 1, \"gross_score\": 1, \"minmax_score\": 1, \"cash_score\": 1, \"generic_score\": 1, \"insurer_score\": 1, \"filename_score\": -1, \"total\": 5, \"err\": 0}, {\"ccn\": \"471304\", \"name\": \"NORTH COUNTRY HOSPITAL AND HEALTH CENTER\", \"state\": \"VT\", \"city\": \"NEWPORT\", \"homepage\": \"https://www.northcountryhospital.org/\", \"cdm_indirect_url\": \"https://www.northcountryhospital.org/financial-services/\", \"cdm_url\": \"https://www.northcountryhospital.org/wp-content/uploads/030185556_NorthCountryHospital_standardcharges.csv\", \"jama_compliance\": 1, \"gross_score\": 1, \"minmax_score\": 1, \"cash_score\": 1, \"generic_score\": -1, \"insurer_score\": 1, \"filename_score\": 1, \"total\": 5, \"err\": 0}, {\"ccn\": \"030069\", \"name\": \"HAVASU REGIONAL MEDICAL CENTER\", \"state\": \"AZ\", \"city\": \"LAKE HAVASU CITY\", \"homepage\": \"https://www.havasuregional.com/\", \"cdm_indirect_url\": \"https://www.havasuregional.com/hospital-charges-listing\", \"cdm_url\": \"https://www.havasuregional.com/sites/havasu/assets/uploads/205220956%20Havasu%20Regional%20Medical%20Center%20Standard%20Charges%2012152020.zip\", \"jama_compliance\": 1, \"gross_score\": 1, \"minmax_score\": 1, \"cash_score\": 1, \"generic_score\": 1, \"insurer_score\": 1, \"filename_score\": -1, \"total\": 5, \"err\": 0}, {\"ccn\": \"050228\", \"name\": \"ZUCKERBERG SAN FRANCISCO GENERAL HOSP & TRAUMA CTR\", \"state\": \"CA\", \"city\": \"SAN FRANCISCO\", \"homepage\": \"https://zuckerbergsanfranciscogeneral.org/\", \"cdm_indirect_url\": \"https://zuckerbergsanfranciscogeneral.org/patient-visitor-resources/billing-insurance/\", \"cdm_url\": \"https://live-zsfgcare.pantheonsite.io/wp-content/uploads/2021/01/City-County-San-Francisco-Machine-Readable-Standard-Charges.xlsx\", \"jama_compliance\": 1, \"gross_score\": 1, \"minmax_score\": 1, \"cash_score\": 1, \"generic_score\": 1, \"insurer_score\": 1, \"filename_score\": -1, \"total\": 5, \"err\": 0}, {\"ccn\": \"521312\", \"name\": \"MEMORIAL HOSPITAL OF LAFAYETTE COUNTY\", \"state\": \"WI\", \"city\": \"DARLINGTON\", \"homepage\": \"https://www.memorialhospitaloflafayettecounty.org/\", \"cdm_indirect_url\": \"https://www.memorialhospitaloflafayettecounty.org/patients/billing-and-financial-information/\", \"cdm_url\": \"https://www.memorialhospitaloflafayettecounty.org/wp-content/uploads/MHLC-Machine-Readable-File-2022.csv\", \"jama_compliance\": 1, \"gross_score\": 1, \"minmax_score\": 1, \"cash_score\": 1, \"generic_score\": 1, \"insurer_score\": 1, \"filename_score\": -1, \"total\": 5, \"err\": 0}, {\"ccn\": \"390196\", \"name\": \"HOSPITAL OF THE FOX CHASE CANCER CENTER\", \"state\": \"PA\", \"city\": \"PHILADELPHIA\", \"homepage\": \"https://www.foxchase.org/\", \"cdm_indirect_url\": \"https://www.foxchase.org/insurance-financial-information/fox-chase-cancer-center-pricing-information\", \"cdm_url\": \"https://www.foxchase.org/sites/default/files/FCCC%20Machine%20Readable%20V1%20-%20Draft%20File.xlsx\", \"jama_compliance\": 1, \"gross_score\": 1, \"minmax_score\": 1, \"cash_score\": 1, \"generic_score\": 1, \"insurer_score\": 1, \"filename_score\": -1, \"total\": 5, \"err\": 0}, {\"ccn\": \"491300\", \"name\": \"BATH COMMUNITY HOSPITAL\", \"state\": \"VA\", \"city\": \"HOT SPRINGS\", \"homepage\": \"https://bathhospital.org/\", \"cdm_indirect_url\": \"https://bathhospital.org/patients-and-visitors/financial-services/understanding-pricing/\", \"cdm_url\": \"https://bathhospital.org/wp-content/uploads/2021/10/540505913_Bath-Community-Hospital_StandardCharges.xlsx\", \"jama_compliance\": 1, \"gross_score\": 1, \"minmax_score\": 1, \"cash_score\": 1, \"generic_score\": -1, \"insurer_score\": 1, \"filename_score\": 1, \"total\": 5, \"err\": 0}, {\"ccn\": \"520205\", \"name\": \"MIDWEST ORTHOPEDIC SPECIALTY HOSPITAL\", \"state\": \"WI\", \"city\": \"FRANKLIN\", \"homepage\": \"https://www.mymosh.com/\", \"cdm_indirect_url\": \"https://healthcare.ascension.org/price-transparency/price-transparency-files\", \"cdm_url\": \"https://healthcare.ascension.org/-/media/project/ascension/healthcare/price-transparency-files/wi/562592868_midwest-orthopedic-specialty-hospital_standardcharges.xlsx\", \"jama_compliance\": 1, \"gross_score\": 1, \"minmax_score\": 1, \"cash_score\": 1, \"generic_score\": -1, \"insurer_score\": 1, \"filename_score\": 1, \"total\": 5, \"err\": 0}, {\"ccn\": \"440148\", \"name\": \"SAINT THOMAS DEKALB HOSPITAL\", \"state\": \"TN\", \"city\": \"SMITHVILLE\", \"homepage\": \"https://healthcare.ascension.org/\", \"cdm_indirect_url\": \"https://healthcare.ascension.org/price-transparency/price-transparency-files\", \"cdm_url\": \"https://healthcare.ascension.org/-/media/project/ascension/healthcare/price-transparency-files/tn/474063289_ascension-saint-thomas-dekalb_standardcharges.xlsx\", \"jama_compliance\": 1, \"gross_score\": 1, \"minmax_score\": 1, \"cash_score\": 1, \"generic_score\": -1, \"insurer_score\": 1, \"filename_score\": 1, \"total\": 5, \"err\": 0}, {\"ccn\": \"131302\", \"name\": \"NORTH CANYON MEDICAL CENTER\", \"state\": \"ID\", \"city\": \"GOODING\", \"homepage\": \"https://northcanyon.org/\", \"cdm_indirect_url\": \"https://northcanyon.org/patient-info/billing/pricing-transparency/\", \"cdm_url\": \"https://northcanyon.org/wp-content/uploads/2022/08/NCMC-Hospital-Price-Transparency.csv\", \"jama_compliance\": 1, \"gross_score\": 1, \"minmax_score\": 1, \"cash_score\": 1, \"generic_score\": 1, \"insurer_score\": 1, \"filename_score\": -1, \"total\": 5, \"err\": 0}, {\"ccn\": \"370022\", \"name\": \"JACKSON COUNTY MEMORIAL HOSPITAL AUTHORITY\", \"state\": \"OK\", \"city\": \"ALTUS\", \"homepage\": \"https://www.jcmh.com/\", \"cdm_indirect_url\": \"https://www.jcmh.com/patients-visitors/billing-information/price-transparency/\", \"cdm_url\": \"https://www.jcmh.com/wp-content/uploads/2022/09/Machine_Readable_Files_and_Charges_JCMH_April_2021.csv\", \"jama_compliance\": 1, \"gross_score\": 1, \"minmax_score\": 1, \"cash_score\": 1, \"generic_score\": 1, \"insurer_score\": 1, \"filename_score\": -1, \"total\": 5, \"err\": 0}, {\"ccn\": \"410008\", \"name\": \"SOUTH COUNTY HOSPITAL INC\", \"state\": \"RI\", \"city\": \"WAKEFIELD\", \"homepage\": \"https://www.southcountyhealth.org/\", \"cdm_indirect_url\": \"https://www.southcountyhealth.org/patients-visitors/hospital-charging-information\", \"cdm_url\": \"https://www.southcountyhealth.org/media/documents/charge-master/050445136-south-county-hospital-standardcharges.zip\", \"jama_compliance\": 1, \"gross_score\": 1, \"minmax_score\": 1, \"cash_score\": -1, \"generic_score\": 1, \"insurer_score\": 1, \"filename_score\": 1, \"total\": 5, \"err\": 0}, {\"ccn\": \"170185\", \"name\": \"SAINT LUKE'S SOUTH HOSPITAL\", \"state\": \"KS\", \"city\": \"OVERLAND PARK\", \"homepage\": \"https://www.saintlukeskc.org/\", \"cdm_indirect_url\": \"https://www.saintlukeskc.org/billing\", \"cdm_url\": \"https://www.saintlukeskc.org/sites/default/files/2021-12/481203262_SaintLukesSouth_standardcharges.csv\", \"jama_compliance\": 1, \"gross_score\": 1, \"minmax_score\": -1, \"cash_score\": 1, \"generic_score\": 1, \"insurer_score\": 1, \"filename_score\": 1, \"total\": 5, \"err\": 0}, {\"ccn\": \"390325\", \"name\": \"OSS ORTHOPAEDIC HOSPITAL\", \"state\": \"PA\", \"city\": \"YORK\", \"homepage\": \"https://osshealth.com/\", \"cdm_indirect_url\": \"https://osshealth.com/oss-health-pricing\", \"cdm_url\": \"https://osshealth.com/uploads/docs/800458999_OSS-Orthopaedic-Hospital-LLC_standard-charges-1.csv\", \"jama_compliance\": 1, \"gross_score\": 1, \"minmax_score\": 1, \"cash_score\": 1, \"generic_score\": 1, \"insurer_score\": 1, \"filename_score\": -1, \"total\": 5, \"err\": 0}, {\"ccn\": \"060116\", \"name\": \"GOOD SAMARITAN MEDICAL CENTER\", \"state\": \"CO\", \"city\": \"LAFAYETTE\", \"homepage\": \"https://www.sclhealth.org/\", \"cdm_indirect_url\": \"https://www.sclhealth.org/locations/good-samaritan-medical-center/patients-visitors/billing-pricing/current-standard-charges-gsmc/\", \"cdm_url\": \"https://www.sclhealth.org/-/media/431982139_good-samaritan-medical-center_standardcharges.csv\", \"jama_compliance\": 1, \"gross_score\": 1, \"minmax_score\": 1, \"cash_score\": 1, \"generic_score\": -1, \"insurer_score\": 1, \"filename_score\": 1, \"total\": 5, \"err\": 0}, {\"ccn\": \"520051\", \"name\": \"ASCENSION COLUMBIA ST MARY'S HOSPITAL MILWAUKEE\", \"state\": \"WI\", \"city\": \"MILWAUKEE\", \"homepage\": \"https://healthcare.ascension.org/\", \"cdm_indirect_url\": \"https://healthcare.ascension.org/price-transparency/price-transparency-files\", \"cdm_url\": \"https://healthcare.ascension.org/-/media/project/ascension/healthcare/price-transparency-files/wi/390806315_ascension-columbia-st-marys-hospital-milwaukee-incl-columbia-st-marys-womens-hospital_standardcharges.xlsx\", \"jama_compliance\": 1, \"gross_score\": 1, \"minmax_score\": 1, \"cash_score\": 1, \"generic_score\": -1, \"insurer_score\": 1, \"filename_score\": 1, \"total\": 5, \"err\": 0}, {\"ccn\": \"330396\", \"name\": \"WOODHULL MEDICAL & MENTAL HEALTH CENTER\", \"state\": \"NY\", \"city\": \"BROOKLYN\", \"homepage\": \"https://www.nychealthandhospitals.org/\", \"cdm_indirect_url\": \"https://www.nychealthandhospitals.org/paying-for-your-health-care/facility-charges/\", \"cdm_url\": \"https://hhinternet.blob.core.windows.net/machine-readable/132655001_Woodhull%20Medical%20Center_standardcharges.csv\", \"jama_compliance\": 1, \"gross_score\": 1, \"minmax_score\": 1, \"cash_score\": 1, \"generic_score\": -1, \"insurer_score\": 1, \"filename_score\": 1, \"total\": 5, \"err\": 0}, {\"ccn\": \"230132\", \"name\": \"HURLEY MEDICAL CENTER\", \"state\": \"MI\", \"city\": \"FLINT\", \"homepage\": \"https://www.hurleymc.com/\", \"cdm_indirect_url\": \"https://www.hurleymc.com/patients-and-visitors/insurance-and-billing/\", \"cdm_url\": \"https://www.hurleymc.com/files/patients-and-visitors/386005601_Hurley%20Medical%20Center_standardcharges_010121csv_machinereadable.csv\", \"jama_compliance\": 1, \"gross_score\": 1, \"minmax_score\": 1, \"cash_score\": 1, \"generic_score\": -1, \"insurer_score\": 1, \"filename_score\": 1, \"total\": 5, \"err\": 0}, {\"ccn\": \"410013\", \"name\": \"WESTERLY HOSPITAL\", \"state\": \"RI\", \"city\": \"WESTERLY\", \"homepage\": \"https://www.westerlyhospital.org/\", \"cdm_indirect_url\": \"https://www.westerlyhospital.org/patients-visitors/billing-insurance/Pricing\", \"cdm_url\": \"https://www.westerlyhospital.org/-/media/Files/YNHHS/sc/46-0543230_WesterlyHospital_standardcharges.ashx\", \"jama_compliance\": 1, \"gross_score\": 1, \"minmax_score\": -1, \"cash_score\": 1, \"generic_score\": 1, \"insurer_score\": 1, \"filename_score\": 1, \"total\": 5, \"err\": 0}, {\"ccn\": \"230003\", \"name\": \"SPECTRUM HEALTH ZEELAND COMMUNITY HOSPITAL\", \"state\": \"MI\", \"city\": \"ZEELAND\", \"homepage\": \"https://www.spectrumhealth.org/\", \"cdm_indirect_url\": \"https://www.spectrumhealth.org/billing/price-estimates\", \"cdm_url\": \"https://assets.contentstack.io/v3/assets/blt7b132cfc09cf5e18/blt3b0939e84fa6cc14/381411184_spectrum-health-zeeland-community-hospital_standardcharges.json\", \"jama_compliance\": 1, \"gross_score\": 1, \"minmax_score\": 1, \"cash_score\": 1, \"generic_score\": 1, \"insurer_score\": -1, \"filename_score\": 1, \"total\": 5, \"err\": 0}, {\"ccn\": \"430093\", \"name\": \"SAME DAY SURGERY CENTER LLC\", \"state\": \"SD\", \"city\": \"RAPID CITY\", \"homepage\": \"https://www.samedaysurgerycenter.org/\", \"cdm_indirect_url\": \"http://www.samedaysurgerycenter.org/prices/\", \"cdm_url\": \"http://www.samedaysurgerycenter.org/uploads/411889892_samedaysurgerycenterllc_standardcharges.xlsx\", \"jama_compliance\": 1, \"gross_score\": 1, \"minmax_score\": 1, \"cash_score\": 1, \"generic_score\": 1, \"insurer_score\": 1, \"filename_score\": 1, \"total\": 6, \"err\": 0}, {\"ccn\": \"140166\", \"name\": \"ST MARYS HOSPITAL\", \"state\": \"IL\", \"city\": \"DECATUR\", \"homepage\": \"https://www.stmaryshealthcaresystem.org/\", \"cdm_indirect_url\": \"https://www.stmaryshealthcaresystem.org/for-patients/billing-insurance/price-estimates\", \"cdm_url\": \"https://www.cdmpricing.com/58f6ace02d1ae1bffca56d18d40fb1df/standard-charges\", \"jama_compliance\": 1, \"gross_score\": 1, \"minmax_score\": 1, \"cash_score\": 1, \"generic_score\": 1, \"insurer_score\": 1, \"filename_score\": 1, \"total\": 6, \"err\": 0}, {\"ccn\": \"370215\", \"name\": \"OKLAHOMA HEART HOSPITAL, LLC\", \"state\": \"OK\", \"city\": \"OKLAHOMA CITY\", \"homepage\": \"https://www.okheart.com/\", \"cdm_indirect_url\": \"https://www.okheart.com/patients-and-visitors/billing-and-insurance/price-transparency\", \"cdm_url\": \"https://okheart.com/sites/default/files/731575187_OklahomaHeartHospital_Standardcharges.xlsx\", \"jama_compliance\": 1, \"gross_score\": 1, \"minmax_score\": 1, \"cash_score\": 1, \"generic_score\": 1, \"insurer_score\": 1, \"filename_score\": 1, \"total\": 6, \"err\": 0}, {\"ccn\": \"140179\", \"name\": \"OSF LITTLE COMPANY OF MARY MEDICAL CENTER\", \"state\": \"IL\", \"city\": \"EVERGREEN PARK\", \"homepage\": \"https://www.osfhealthcare.org/\", \"cdm_indirect_url\": \"https://www.osfhealthcare.org/osf/forms/price-estimate-request/standard-charges/\", \"cdm_url\": \"https://www.osfhealthcare.org/media/filer_public/ee/db/eedbe6e7-4312-4c71-bf8c-90a1de41e5a7/370813229_osf-little-company-of-mary-medical-center_standardcharges.xlsx\", \"jama_compliance\": 1, \"gross_score\": 1, \"minmax_score\": 1, \"cash_score\": 1, \"generic_score\": 1, \"insurer_score\": 1, \"filename_score\": 1, \"total\": 6, \"err\": 0}, {\"ccn\": \"281312\", \"name\": \"GENOA COMMUNITY HOSPITAL\", \"state\": \"NE\", \"city\": \"GENOA\", \"homepage\": \"https://www.genoamedical.org/\", \"cdm_indirect_url\": \"https://www.genoamedical.org/getpage.php?name=Price_Transparency\", \"cdm_url\": \"https://secure.claraprice.net/price-transparency/60faecd27d40231ea612e844/machine-readable/47-6006197_genoa-medical-facilities_standardcharges.json\", \"jama_compliance\": 1, \"gross_score\": 1, \"minmax_score\": 1, \"cash_score\": 1, \"generic_score\": 1, \"insurer_score\": 1, \"filename_score\": 1, \"total\": 6, \"err\": 0}, {\"ccn\": \"260023\", \"name\": \"MERCY HOSPITAL JEFFERSON\", \"state\": \"MO\", \"city\": \"FESTUS\", \"homepage\": \"https://www.mercy.net/\", \"cdm_indirect_url\": \"https://www.mercy.net/forms/items-and-services-files/\", \"cdm_url\": \"https://www.mercy.net/content/dam/mercy/en/web-assets/charge-files/430687077_mercyhospitaljefferson_standardcharges.json\", \"jama_compliance\": 1, \"gross_score\": 1, \"minmax_score\": 1, \"cash_score\": 1, \"generic_score\": 1, \"insurer_score\": 1, \"filename_score\": 1, \"total\": 6, \"err\": 0}, {\"ccn\": \"110016\", \"name\": \"WELLSTAR WEST GEORGIA MEDICAL CENTER\", \"state\": \"GA\", \"city\": \"LAGRANGE\", \"homepage\": \"https://www.wellstar.org/\", \"cdm_indirect_url\": \"https://www.wellstar.org/financial-policy-and-privacy-info/hospital-pricing-transparency\", \"cdm_url\": \"https://www.wellstar.org/-/media/project/wellstar/org/documents/standard-charges/20-5497506_wellstar-west-georgia-medical-center_standardcharges.xlsx\", \"jama_compliance\": 1, \"gross_score\": 1, \"minmax_score\": 1, \"cash_score\": 1, \"generic_score\": 1, \"insurer_score\": 1, \"filename_score\": 1, \"total\": 6, \"err\": 0}, {\"ccn\": \"230269\", \"name\": \"BEAUMONT HOSPITAL, TROY\", \"state\": \"MI\", \"city\": \"TROY\", \"homepage\": \"https://www.beaumont.org/\", \"cdm_indirect_url\": \"https://www.beaumont.org/patients-families/billing/pricing/beaumont-health-price-transparency-information\", \"cdm_url\": \"https://www.beaumont.org/docs/default-source/default-document-library/cdm-documents/2022/hospital-charges/381459362_beaumont-hospital-troy_hospital-standardcharges.csv\", \"jama_compliance\": 1, \"gross_score\": 1, \"minmax_score\": 1, \"cash_score\": 1, \"generic_score\": 1, \"insurer_score\": 1, \"filename_score\": 1, \"total\": 6, \"err\": 0}, {\"ccn\": \"231300\", \"name\": \"PAUL OLIVER MEMORIAL HOSPITAL\", \"state\": \"MI\", \"city\": \"FRANKFORT\", \"homepage\": \"https://www.munsonhealthcare.org/\", \"cdm_indirect_url\": \"https://www.munsonhealthcare.org/patients-visitors/munson-healthcare-chargemaster-information\", \"cdm_url\": \"https://search.hospitalpriceindex.com/hpi2/machineReadable/MunsonHealthcarePaulOliverMemorialHospital/8138or\", \"jama_compliance\": 1, \"gross_score\": 1, \"minmax_score\": 1, \"cash_score\": 1, \"generic_score\": 1, \"insurer_score\": 1, \"filename_score\": 1, \"total\": 6, \"err\": 0}, {\"ccn\": \"160089\", \"name\": \"OTTUMWA REGIONAL HEALTH CENTER\", \"state\": \"IA\", \"city\": \"OTTUMWA\", \"homepage\": \"https://www.ottumwaregionalhealth.com/\", \"cdm_indirect_url\": \"https://www.ottumwaregionalhealth.com/hospital-charges-listing\", \"cdm_url\": \"https://www.ottumwaregionalhealth.com/sites/ottumwa/assets/uploads/27-2200283_OTTUMWA_REGIONAL_HEALTH_CENTER_StandardCharges.zip\", \"jama_compliance\": 1, \"gross_score\": 1, \"minmax_score\": 1, \"cash_score\": 1, \"generic_score\": 1, \"insurer_score\": 1, \"filename_score\": 1, \"total\": 6, \"err\": 0}, {\"ccn\": \"110153\", \"name\": \"PERRY HOSPITAL\", \"state\": \"GA\", \"city\": \"PERRY\", \"homepage\": \"https://www.hhc.org/\", \"cdm_indirect_url\": \"https://www.hhc.org/patients-visitors/billing-financial-services/\", \"cdm_url\": \"https://www.hhc.org/documents/content/711045290_PerrryHospital_standardcharges.csv\", \"jama_compliance\": 1, \"gross_score\": 1, \"minmax_score\": 1, \"cash_score\": 1, \"generic_score\": 1, \"insurer_score\": 1, \"filename_score\": 1, \"total\": 6, \"err\": 0}, {\"ccn\": \"330080\", \"name\": \"LINCOLN MEDICAL & MENTAL HEALTH CENTER\", \"state\": \"NY\", \"city\": \"BRONX\", \"homepage\": \"https://www.nychealthandhospitals.org/\", \"cdm_indirect_url\": \"https://www.nychealthandhospitals.org/paying-for-your-health-care/facility-charges/\", \"cdm_url\": \"https://hhinternet.blob.core.windows.net/machine-readable/132655001_Lincoln%20Medical%20Center_standardcharges.csv\", \"jama_compliance\": 1, \"gross_score\": 1, \"minmax_score\": 1, \"cash_score\": 1, \"generic_score\": 1, \"insurer_score\": 1, \"filename_score\": 1, \"total\": 6, \"err\": 0}, {\"ccn\": \"110031\", \"name\": \"WELLSTAR SPALDING REGIONAL HOSPITAL\", \"state\": \"GA\", \"city\": \"GRIFFIN\", \"homepage\": \"https://www.wellstar.org/\", \"cdm_indirect_url\": \"https://www.wellstar.org/financial-policy-and-privacy-info/hospital-pricing-transparency\", \"cdm_url\": \"https://www.wellstar.org/-/media/project/wellstar/org/documents/standard-charges/81-0864789_wellstar-spalding-regional-hospital_standardcharges.xlsx\", \"jama_compliance\": 1, \"gross_score\": 1, \"minmax_score\": 1, \"cash_score\": 1, \"generic_score\": 1, \"insurer_score\": 1, \"filename_score\": 1, \"total\": 6, \"err\": 0}, {\"ccn\": \"110071\", \"name\": \"APPLING HOSPITAL\", \"state\": \"GA\", \"city\": \"BAXLEY\", \"homepage\": \"https://www.ahcs.org/\", \"cdm_indirect_url\": \"https://www.ahcs.org/resources/\", \"cdm_url\": \"https://www.ahcs.org/wp-content/uploads/2021/02/586002659_ApplingHealthcare_standardcharges.csv\", \"jama_compliance\": 1, \"gross_score\": 1, \"minmax_score\": 1, \"cash_score\": 1, \"generic_score\": 1, \"insurer_score\": 1, \"filename_score\": 1, \"total\": 6, \"err\": 0}, {\"ccn\": \"050736\", \"name\": \"MONTEREY PARK HOSPITAL\", \"state\": \"CA\", \"city\": \"MONTEREY PARK\", \"homepage\": \"https://www.montereyparkhosp.com/\", \"cdm_indirect_url\": \"https://www.ahmchealth.com/price-transparency-resources/\", \"cdm_url\": \"https://www.cdmpricing.com/46c5b5ecff2253069422fec53417f2b6/standard-charges\", \"jama_compliance\": 1, \"gross_score\": 1, \"minmax_score\": 1, \"cash_score\": 1, \"generic_score\": 1, \"insurer_score\": 1, \"filename_score\": 1, \"total\": 6, \"err\": 0}, {\"ccn\": \"360159\", \"name\": \"ADENA REGIONAL MEDICAL CENTER\", \"state\": \"OH\", \"city\": \"CHILLICOTHE\", \"homepage\": \"https://www.adena.org/\", \"cdm_indirect_url\": \"https://www.adena.org/patients-and-visitors/billing-and-financial-services\", \"cdm_url\": \"https://www.cdmpricing.com/9cb51dc5fcd2bab15192bf87cc00db41/standard-charges\", \"jama_compliance\": 1, \"gross_score\": 1, \"minmax_score\": 1, \"cash_score\": 1, \"generic_score\": 1, \"insurer_score\": 1, \"filename_score\": 1, \"total\": 6, \"err\": 0}, {\"ccn\": \"150047\", \"name\": \"LUTHERAN DOWNTOWN HOSPITAL\", \"state\": \"IN\", \"city\": \"FORT WAYNE\", \"homepage\": \"https://www.lutherandowntownhospital.com/\", \"cdm_indirect_url\": \"https://www.lutherandowntownhospital.com/pricing-information\", \"cdm_url\": \"https://www.lutherandowntownhospital.com/Uploads/Public/Documents/charge-masters/510382045_St%20Joseph_standardcharges.csv\", \"jama_compliance\": 1, \"gross_score\": 1, \"minmax_score\": 1, \"cash_score\": 1, \"generic_score\": 1, \"insurer_score\": 1, \"filename_score\": 1, \"total\": 6, \"err\": 0}, {\"ccn\": \"450702\", \"name\": \"LONGVIEW REGIONAL MEDICAL CENTER\", \"state\": \"TX\", \"city\": \"LONGVIEW\", \"homepage\": \"https://www.longviewregional.com/\", \"cdm_indirect_url\": \"https://www.longviewregional.com/pricing-information\", \"cdm_url\": \"https://www.longviewregional.com/Uploads/Public/Documents/charge-masters/621762420_Longview_standardcharges.csv\", \"jama_compliance\": 1, \"gross_score\": 1, \"minmax_score\": 1, \"cash_score\": 1, \"generic_score\": 1, \"insurer_score\": 1, \"filename_score\": 1, \"total\": 6, \"err\": 0}, {\"ccn\": \"061302\", \"name\": \"FAMILY HEALTH WEST HOSPITAL\", \"state\": \"CO\", \"city\": \"FRUITA\", \"homepage\": \"https://fhw.org/\", \"cdm_indirect_url\": \"https://fhw.org/patient-resources/price-transparency/\", \"cdm_url\": \"https://www.cdmpricing.com/322271e40f3bb97f178309b75df38cc9/standard-charges\", \"jama_compliance\": 1, \"gross_score\": 1, \"minmax_score\": 1, \"cash_score\": 1, \"generic_score\": 1, \"insurer_score\": 1, \"filename_score\": 1, \"total\": 6, \"err\": 0}, {\"ccn\": \"450211\", \"name\": \"CHI ST LUKES HEALTH MEMORIAL LUFKIN\", \"state\": \"TX\", \"city\": \"LUFKIN\", \"homepage\": \"https://www.stlukeshealth.org/\", \"cdm_indirect_url\": \"https://www.stlukeshealth.org/patients-visitors/price-transparency\", \"cdm_url\": \"https://www.stlukeshealth.org/content/dam/stlukeshealth/documents/750755367_st-lukes-health-memorial-lufkin_standardcharges.csv\", \"jama_compliance\": 1, \"gross_score\": 1, \"minmax_score\": 1, \"cash_score\": 1, \"generic_score\": 1, \"insurer_score\": 1, \"filename_score\": 1, \"total\": 6, \"err\": 0}, {\"ccn\": \"361328\", \"name\": \"DEFIANCE REGIONAL MEDICAL CENTER\", \"state\": \"OH\", \"city\": \"DEFIANCE\", \"homepage\": \"https://www.promedica.org/\", \"cdm_indirect_url\": \"https://www.promedica.org/pay-my-bill/price-estimates-by-location\", \"cdm_url\": \"https://search.hospitalpriceindex.com/hpi2/machineReadable/defianceregionalhospital/8202\", \"jama_compliance\": 1, \"gross_score\": 1, \"minmax_score\": 1, \"cash_score\": 1, \"generic_score\": 1, \"insurer_score\": 1, \"filename_score\": 1, \"total\": 6, \"err\": 0}, {\"ccn\": \"010049\", \"name\": \"MEDICAL CENTER ENTERPRISE\", \"state\": \"AL\", \"city\": \"ENTERPRISE\", \"homepage\": \"https://www.mcehospital.com/hospitals\", \"cdm_indirect_url\": \"https://www.mcehospital.com/pricing-information\", \"cdm_url\": \"https://www.mcehospital.com/Uploads/Public/Documents/charge-masters/631159023_Med%20Ctr%20Enterprise_standardcharges.csv\", \"jama_compliance\": 1, \"gross_score\": 1, \"minmax_score\": 1, \"cash_score\": 1, \"generic_score\": 1, \"insurer_score\": 1, \"filename_score\": 1, \"total\": 6, \"err\": 0}, {\"ccn\": \"110184\", \"name\": \"WELLSTAR DOUGLAS HOSPITAL\", \"state\": \"GA\", \"city\": \"DOUGLASVILLE\", \"homepage\": \"https://www.wellstar.org/\", \"cdm_indirect_url\": \"https://www.wellstar.org/financial-policy-and-privacy-info/hospital-pricing-transparency\", \"cdm_url\": \"https://www.wellstar.org/-/media/project/wellstar/org/documents/standard-charges/58-2026750_wellstar-douglas-hospital_standardcharges.xlsx\", \"jama_compliance\": 1, \"gross_score\": 1, \"minmax_score\": 1, \"cash_score\": 1, \"generic_score\": 1, \"insurer_score\": 1, \"filename_score\": 1, \"total\": 6, \"err\": 0}, {\"ccn\": \"010061\", \"name\": \"HIGHLANDS MEDICAL CENTER\", \"state\": \"AL\", \"city\": \"SCOTTSBORO\", \"homepage\": \"https://highlandsmedcenter.com/\", \"cdm_indirect_url\": \"https://highlandsmedcenter.com/patients-visitors/price-transparency\", \"cdm_url\": \"https://www.cdmpricing.com/95675211e480b185fd21b68539ba8560/standard-charges\", \"jama_compliance\": 1, \"gross_score\": 1, \"minmax_score\": 1, \"cash_score\": 1, \"generic_score\": 1, \"insurer_score\": 1, \"filename_score\": 1, \"total\": 6, \"err\": 0}, {\"ccn\": \"040047\", \"name\": \"FIVE RIVERS MEDICAL CENTER\", \"state\": \"AR\", \"city\": \"POCAHONTAS\", \"homepage\": \"https://www.stbernards.info/\", \"cdm_indirect_url\": \"https://www.stbernards.info/patients-visitors/cost-of-care\", \"cdm_url\": \"https://search.hospitalpriceindex.com/hpi2/machineReadable/StBernardsHealthcareStBernardsMedicalCenter/8121or\", \"jama_compliance\": 1, \"gross_score\": 1, \"minmax_score\": 1, \"cash_score\": 1, \"generic_score\": 1, \"insurer_score\": 1, \"filename_score\": 1, \"total\": 6, \"err\": 0}, {\"ccn\": \"391300\", \"name\": \"GEISINGER JERSEY SHORE HOSPITAL\", \"state\": \"PA\", \"city\": \"JERSEY SHORE\", \"homepage\": \"https://www.geisinger.org/\", \"cdm_indirect_url\": \"https://www.geisinger.org/patient-care/patients-and-visitors/billing-and-insurance/tools-to-use/shop-services-and-view-hospital-charge-lists\", \"cdm_url\": \"https://www.geisinger.org/-/media/OneGeisinger/pdfs/ghs/patient-care/patients-and-visitors/billing-and-insurance/hosp-charges-csv/24-0792115_GeisingerjerseyShoreHospital_standardcharges.zip\", \"jama_compliance\": 1, \"gross_score\": 1, \"minmax_score\": 1, \"cash_score\": 1, \"generic_score\": 1, \"insurer_score\": 1, \"filename_score\": 1, \"total\": 6, \"err\": 0}, {\"ccn\": \"490042\", \"name\": \"CARILION NEW RIVER VALLEY MEDICAL CENTER\", \"state\": \"VA\", \"city\": \"CHRISTIANSBURG\", \"homepage\": \"https://www.carilionclinic.org/\", \"cdm_indirect_url\": \"https://www.carilionclinic.org/pricing\", \"cdm_url\": \"https://www.carilionclinic.org/sites/default/files/2021-12/540553805_Carilion-New-River-Valley-Medical-Center_StandardCharges.csv\", \"jama_compliance\": 1, \"gross_score\": 1, \"minmax_score\": 1, \"cash_score\": 1, \"generic_score\": 1, \"insurer_score\": 1, \"filename_score\": 1, \"total\": 6, \"err\": 0}, {\"ccn\": \"181306\", \"name\": \"DEACONESS UNION COUNTY HOSPITAL\", \"state\": \"KY\", \"city\": \"MORGANFIELD\", \"homepage\": \"https://www.deaconess.com/\", \"cdm_indirect_url\": \"https://www.deaconess.com/Pay-My-Bill/Pricing\", \"cdm_url\": \"https://search.hospitalpriceindex.com/hpi2/machineReadable/deaconessunioncountyhospital/8111or\", \"jama_compliance\": 1, \"gross_score\": 1, \"minmax_score\": 1, \"cash_score\": 1, \"generic_score\": 1, \"insurer_score\": 1, \"filename_score\": 1, \"total\": 6, \"err\": 0}, {\"ccn\": \"250097\", \"name\": \"SOUTHWEST MS REGIONAL MEDICAL CENTER\", \"state\": \"MS\", \"city\": \"MCCOMB\", \"homepage\": \"https://www.smrmc.com/\", \"cdm_indirect_url\": \"https://www.smrmc.com/patient-visitors/pricing-information/\", \"cdm_url\": \"https://pricetransparency.blob.core.windows.net/smrmc/640468873_southwestmississippiregionalmedicalcenter_standardcharges.csv\", \"jama_compliance\": 1, \"gross_score\": 1, \"minmax_score\": 1, \"cash_score\": 1, \"generic_score\": 1, \"insurer_score\": 1, \"filename_score\": 1, \"total\": 6, \"err\": 0}, {\"ccn\": \"151312\", \"name\": \"INDIANA UNIVERSITY HEALTH WHITE MEMORIAL HOSPITAL\", \"state\": \"IN\", \"city\": \"MONTICELLO\", \"homepage\": \"https://iuhealth.org/\", \"cdm_indirect_url\": \"https://iuhealth.org/schedule-an-appointment/price-estimates/standard-charge-listing\", \"cdm_url\": \"https://cdn.iuhealth.org/resources/27-3532963_WHITE_HOSPITAL_standardcharges22.csv\", \"jama_compliance\": 1, \"gross_score\": 1, \"minmax_score\": 1, \"cash_score\": 1, \"generic_score\": 1, \"insurer_score\": 1, \"filename_score\": 1, \"total\": 6, \"err\": 0}, {\"ccn\": \"141318\", \"name\": \"OSF HOLY FAMILY MEDICAL CENTER\", \"state\": \"IL\", \"city\": \"MONMOUTH\", \"homepage\": \"https://www.osfhealthcare.org/\", \"cdm_indirect_url\": \"https://www.osfhealthcare.org/osf/forms/price-estimate-request/standard-charges/\", \"cdm_url\": \"https://www.osfhealthcare.org/media/filer_public/3a/a5/3aa57a3c-7cf9-4cef-9221-9603a45f04d4/370813229_osf-holy-family-medical-center_standardcharges.xlsx\", \"jama_compliance\": 1, \"gross_score\": 1, \"minmax_score\": 1, \"cash_score\": 1, \"generic_score\": 1, \"insurer_score\": 1, \"filename_score\": 1, \"total\": 6, \"err\": 0}, {\"ccn\": \"410005\", \"name\": \"OUR LADY OF FATIMA HOSPITAL\", \"state\": \"RI\", \"city\": \"NORTH PROVIDENCE\", \"homepage\": \"https://www.chartercare.org/\", \"cdm_indirect_url\": \"https://search.hospitalpriceindex.com/hpi2/machineReadable/OurLadyofFatimaHospital/7916or\", \"cdm_url\": \"https://search.hospitalpriceindex.com/hpi2/machineReadable/OurLadyofFatimaHospital/7916or\", \"jama_compliance\": 1, \"gross_score\": 1, \"minmax_score\": 1, \"cash_score\": 1, \"generic_score\": 1, \"insurer_score\": 1, \"filename_score\": 1, \"total\": 6, \"err\": 0}, {\"ccn\": \"340049\", \"name\": \"NORTH CAROLINA SPECIALTY HOSPITAL\", \"state\": \"NC\", \"city\": \"DURHAM\", \"homepage\": \"https://www.ncspecialty.com/\", \"cdm_indirect_url\": \"https://www.ncspecialty.com/patient-resources/patient-info/patient-price-transparency/\", \"cdm_url\": \"https://www.ncspecialty.com/wp-content/uploads/2022/02/56-2109998_north-carolina-specialty-hospital_standardcharges-1.csv\", \"jama_compliance\": 1, \"gross_score\": 1, \"minmax_score\": 1, \"cash_score\": 1, \"generic_score\": 1, \"insurer_score\": 1, \"filename_score\": 1, \"total\": 6, \"err\": 0}, {\"ccn\": \"180056\", \"name\": \"DEACONESS HENDERSON HOSPITAL\", \"state\": \"KY\", \"city\": \"HENDERSON\", \"homepage\": \"https://www.deaconess.com/\", \"cdm_indirect_url\": \"https://www.deaconess.com/Pay-My-Bill/Pricing\", \"cdm_url\": \"https://search.hospitalpriceindex.com/hpi2/machineReadable/daconesshendersonhospital/8109or\", \"jama_compliance\": 1, \"gross_score\": 1, \"minmax_score\": 1, \"cash_score\": 1, \"generic_score\": 1, \"insurer_score\": 1, \"filename_score\": 1, \"total\": 6, \"err\": 0}, {\"ccn\": \"260022\", \"name\": \"NORTHEAST REGIONAL MEDICAL CENTER\", \"state\": \"MO\", \"city\": \"KIRKSVILLE\", \"homepage\": \"https://www.nermc.com/\", \"cdm_indirect_url\": \"https://www.nermc.com/pricing-information\", \"cdm_url\": \"https://www.nermc.com/Uploads/Public/Documents/charge-masters/364395800_Northeast_standardcharges.csv\", \"jama_compliance\": 1, \"gross_score\": 1, \"minmax_score\": 1, \"cash_score\": 1, \"generic_score\": 1, \"insurer_score\": 1, \"filename_score\": 1, \"total\": 6, \"err\": 0}, {\"ccn\": \"340020\", \"name\": \"CENTRAL CAROLINA HOSPITAL\", \"state\": \"NC\", \"city\": \"SANFORD\", \"homepage\": \"https://www.centralcarolinahosp.com/\", \"cdm_indirect_url\": \"https://www.centralcarolinahosp.com/hospital-charges-listing\", \"cdm_url\": \"http://www.centralcarolinahosp.com/sites/centralcarolina/assets/uploads/Pricing%20Transparency/81-0691912_CENTRAL_CAROLINA_HOSPITAL_StandardCharges.zip\", \"jama_compliance\": 1, \"gross_score\": 1, \"minmax_score\": 1, \"cash_score\": 1, \"generic_score\": 1, \"insurer_score\": 1, \"filename_score\": 1, \"total\": 6, \"err\": 0}, {\"ccn\": \"010104\", \"name\": \"GRANDVIEW MEDICAL CENTER\", \"state\": \"AL\", \"city\": \"BIRMINGHAM\", \"homepage\": \"https://www.grandviewhealth.com/\", \"cdm_indirect_url\": \"https://www.grandviewhealth.com/pricing-information\", \"cdm_url\": \"https://www.grandviewhealth.com/Uploads/Public/Documents/charge-masters/203391873_Grandview_standardcharges.csv\", \"jama_compliance\": 1, \"gross_score\": 1, \"minmax_score\": 1, \"cash_score\": 1, \"generic_score\": 1, \"insurer_score\": 1, \"filename_score\": 1, \"total\": 6, \"err\": 0}, {\"ccn\": \"451375\", \"name\": \"LIBERTY DAYTON REGIONAL MEDICAL CENTER\", \"state\": \"TX\", \"city\": \"LIBERTY\", \"homepage\": \"http://www.libertydaytonrmc.com/\", \"cdm_indirect_url\": \"http://www.libertydaytonrmc.com/regulatory-requirements/\", \"cdm_url\": \"http://www.libertydaytonrmc.com/wp-content/uploads/2022/08/202797853_LibertyDaytonRegionalMedicalCenter_StandardCharges.csv\", \"jama_compliance\": 1, \"gross_score\": 1, \"minmax_score\": 1, \"cash_score\": 1, \"generic_score\": 1, \"insurer_score\": 1, \"filename_score\": 1, \"total\": 6, \"err\": 0}, {\"ccn\": \"220030\", \"name\": \"BAYSTATE WING HOSPITAL AND MEDICAL CENTERS\", \"state\": \"MA\", \"city\": \"PALMER\", \"homepage\": \"https://www.baystatehealth.org/\", \"cdm_indirect_url\": \"https://www.baystatehealth.org/patients/pay-your-bill/hospital-standard-charges\", \"cdm_url\": \"https://www.baystatehealth.org/-/media/files/patients-and-visitors/billing-and-financial-assistance/hospital-standard-charges/222519813-baystatewinghospital-standardcharges.zip\", \"jama_compliance\": 1, \"gross_score\": 1, \"minmax_score\": 1, \"cash_score\": 1, \"generic_score\": 1, \"insurer_score\": 1, \"filename_score\": 1, \"total\": 6, \"err\": 0}, {\"ccn\": \"451372\", \"name\": \"MULESHOE AREA MEDICAL CENTER\", \"state\": \"TX\", \"city\": \"MULESHOE\", \"homepage\": \"https://muleshoehospital.com/\", \"cdm_indirect_url\": \"https://muleshoehospital.com/hospital-charges/\", \"cdm_url\": \"https://muleshoehospital.com/wp-content/uploads/2022/07/47-17443325_MuleshoeAreaMedicalCenter_standardcharges.csv\", \"jama_compliance\": 1, \"gross_score\": 1, \"minmax_score\": 1, \"cash_score\": 1, \"generic_score\": 1, \"insurer_score\": 1, \"filename_score\": 1, \"total\": 6, \"err\": 0}, {\"ccn\": \"330151\", \"name\": \"ST JAMES HOSPITAL\", \"state\": \"NY\", \"city\": \"HORNELL\", \"homepage\": \"https://www.urmc.rochester.edu/\", \"cdm_indirect_url\": \"https://www.urmc.rochester.edu/pay-bill/cost-estimates-and-pricing.aspx\", \"cdm_url\": \"https://www.urmc.rochester.edu/MediaLibraries/URMCMedia/st-james/patients-visitors/documents/160743310_St-James-Hospital_Standardcharges.csv\", \"jama_compliance\": 1, \"gross_score\": 1, \"minmax_score\": 1, \"cash_score\": 1, \"generic_score\": 1, \"insurer_score\": 1, \"filename_score\": 1, \"total\": 6, \"err\": 0}, {\"ccn\": \"250007\", \"name\": \"MERIT HEALTH BILOXI\", \"state\": \"MS\", \"city\": \"BILOXI\", \"homepage\": \"https://www.merithealthbiloxi.com/\", \"cdm_indirect_url\": \"https://www.merithealthbiloxi.com/pricing-information\", \"cdm_url\": \"https://www.merithealthbiloxi.com/Uploads/Public/Documents/charge-masters/592754033_Merit%20Biloxi_standardcharges.csv\", \"jama_compliance\": 1, \"gross_score\": 1, \"minmax_score\": 1, \"cash_score\": 1, \"generic_score\": 1, \"insurer_score\": 1, \"filename_score\": 1, \"total\": 6, \"err\": 0}, {\"ccn\": \"250136\", \"name\": \"MERIT HEALTH WOMEN'S HOSPITAL\", \"state\": \"MS\", \"city\": \"FLOWOOD\", \"homepage\": \"https://www.merithealthwomanshospital.com/\", \"cdm_indirect_url\": \"https://www.merithealthwomanshospital.com/pricing-information\", \"cdm_url\": \"https://www.merithealthwomanshospital.com/Uploads/Public/Documents/charge-masters/640780035_Merit%20Woman's_standardcharges.csv\", \"jama_compliance\": 1, \"gross_score\": 1, \"minmax_score\": 1, \"cash_score\": 1, \"generic_score\": 1, \"insurer_score\": 1, \"filename_score\": 1, \"total\": 6, \"err\": 0}, {\"ccn\": \"440033\", \"name\": \"TENNOVA HEALTHCARE LAFOLLETTE MEDICAL CENTER\", \"state\": \"TN\", \"city\": \"LA FOLLETTE\", \"homepage\": \"https://www.tennovalafollette.com/\", \"cdm_indirect_url\": \"https://www.tennovalafollette.com/pricing-information\", \"cdm_url\": \"https://www.tennovalafollette.com/Uploads/Public/Documents/charge-masters/452528273_Tennova%20LaFollete_standardcharges.csv\", \"jama_compliance\": 1, \"gross_score\": 1, \"minmax_score\": 1, \"cash_score\": 1, \"generic_score\": 1, \"insurer_score\": 1, \"filename_score\": 1, \"total\": 6, \"err\": 0}, {\"ccn\": \"110041\", \"name\": \"HABERSHAM COUNTY MEDICAL CTR\", \"state\": \"GA\", \"city\": \"DEMOREST\", \"homepage\": \"https://www.habershammedical.com/\", \"cdm_indirect_url\": \"https://www.habershammedical.com/patients-visitors/hospital-transparency/\", \"cdm_url\": \"https://www.habershammedical.com/wp-content/uploads/2021/01/586002961_HabershamMedicalCenter_standardcharges.csv\", \"jama_compliance\": 1, \"gross_score\": 1, \"minmax_score\": 1, \"cash_score\": 1, \"generic_score\": 1, \"insurer_score\": 1, \"filename_score\": 1, \"total\": 6, \"err\": 0}, {\"ccn\": \"010131\", \"name\": \"CRESTWOOD MEDICAL CENTER\", \"state\": \"AL\", \"city\": \"HUNTSVILLE\", \"homepage\": \"https://www.crestwoodmedcenter.com/\", \"cdm_indirect_url\": \"https://www.crestwoodmedcenter.com/pricing-information\", \"cdm_url\": \"https://www.crestwoodmedcenter.com/Uploads/Public/Documents/charge-masters/621647983_Crestwood_standardcharges.csv\", \"jama_compliance\": 1, \"gross_score\": 1, \"minmax_score\": 1, \"cash_score\": 1, \"generic_score\": 1, \"insurer_score\": 1, \"filename_score\": 1, \"total\": 6, \"err\": 0}, {\"ccn\": \"440002\", \"name\": \"JACKSON-MADISON COUNTY GENERAL HOSPITAL\", \"state\": \"TN\", \"city\": \"JACKSON\", \"homepage\": \"https://www.wth.org/\", \"cdm_indirect_url\": \"https://www.wth.org/financial-assistance-billing/hospital-charges/\", \"cdm_url\": \"https://www.wth.org/wp-content/uploads/2022/11/62-6010402_JMCGH_standardcharges.csv\", \"jama_compliance\": 1, \"gross_score\": 1, \"minmax_score\": 1, \"cash_score\": 1, \"generic_score\": 1, \"insurer_score\": 1, \"filename_score\": 1, \"total\": 6, \"err\": 0}, {\"ccn\": \"370002\", \"name\": \"ALLIANCEHEALTH WOODWARD\", \"state\": \"OK\", \"city\": \"WOODWARD\", \"homepage\": \"https://www.alliancehealthwoodward.com/\", \"cdm_indirect_url\": \"https://www.alliancehealthwoodward.com/pricing-information\", \"cdm_url\": \"https://www.alliancehealthwoodward.com/Uploads/Public/Documents/charge-masters/621762418_Alliance%20Woodward_standardcharges.csv\", \"jama_compliance\": 1, \"gross_score\": 1, \"minmax_score\": 1, \"cash_score\": 1, \"generic_score\": 1, \"insurer_score\": 1, \"filename_score\": 1, \"total\": 6, \"err\": 0}, {\"ccn\": \"340129\", \"name\": \"LAKE NORMAN REGIONAL MEDICAL CENTER\", \"state\": \"NC\", \"city\": \"MOORESVILLE\", \"homepage\": \"https://www.lnrmc.com/\", \"cdm_indirect_url\": \"https://www.lnrmc.com/\", \"cdm_url\": \"https://www.lnrmc.com/Uploads/Public/Documents/charge-masters/592612221_Lake%20Norman_standardcharges.csv\", \"jama_compliance\": 1, \"gross_score\": 1, \"minmax_score\": 1, \"cash_score\": 1, \"generic_score\": 1, \"insurer_score\": 1, \"filename_score\": 1, \"total\": 6, \"err\": 0}, {\"ccn\": \"390217\", \"name\": \"EXCELA HEALTH FRICK HOSPITAL\", \"state\": \"PA\", \"city\": \"MOUNT PLEASANT\", \"homepage\": \"https://www.excelahealth.org/\", \"cdm_indirect_url\": \"https://www.excelahealth.org/patients-visitors/price-transparency/\", \"cdm_url\": \"https://www.excelahealth.org/documents/content/250965375_FrickHospital_StandardCharges[2].xlsx\", \"jama_compliance\": 1, \"gross_score\": 1, \"minmax_score\": 1, \"cash_score\": 1, \"generic_score\": 1, \"insurer_score\": 1, \"filename_score\": 1, \"total\": 6, \"err\": 0}, {\"ccn\": \"040152\", \"name\": \"NORTHWEST HEALTH PHYSICIANS SPECIALTY HOSPITAL\", \"state\": \"AR\", \"city\": \"FAYETTEVILLE\", \"homepage\": \"https://www.northwesthealth.com/\", \"cdm_indirect_url\": \"https://www.northwesthealth.com/pricing-information\", \"cdm_url\": \"https://www.northwesthealth.com/Uploads/Public/Documents/charge-masters/811156570_NW%20Physicians%20Specialty_standardcharges.csv\", \"jama_compliance\": 1, \"gross_score\": 1, \"minmax_score\": 1, \"cash_score\": 1, \"generic_score\": 1, \"insurer_score\": 1, \"filename_score\": 1, \"total\": 6, \"err\": 0}, {\"ccn\": \"201305\", \"name\": \"CALAIS COMMUNITY HOSPITAL\", \"state\": \"ME\", \"city\": \"CALAIS\", \"homepage\": \"https://www.calaishospital.org/\", \"cdm_indirect_url\": \"https://www.calaishospital.org/financial-office/estimate-cost-of-care/\", \"cdm_url\": \"https://www.calaishospital.org/wp-content/uploads/2022/07/862728785_CalaisCommunityHospital_StandardCharges.csv\", \"jama_compliance\": 1, \"gross_score\": 1, \"minmax_score\": 1, \"cash_score\": 1, \"generic_score\": 1, \"insurer_score\": 1, \"filename_score\": 1, \"total\": 6, \"err\": 0}, {\"ccn\": \"050226\", \"name\": \"AHMC ANAHEIM REGIONAL MEDICAL CENTER\", \"state\": \"CA\", \"city\": \"ANAHEIM\", \"homepage\": \"https://www.anaheimregionalmc.com/\", \"cdm_indirect_url\": \"https://www.ahmchealth.com/price-transparency-resources/\", \"cdm_url\": \"https://www.cdmpricing.com/ca9bb8cd95278162cbcb5666ebce9343/standard-charges\", \"jama_compliance\": 1, \"gross_score\": 1, \"minmax_score\": 1, \"cash_score\": 1, \"generic_score\": 1, \"insurer_score\": 1, \"filename_score\": 1, \"total\": 6, \"err\": 0}, {\"ccn\": \"240071\", \"name\": \"DISTRICT ONE HOSPITAL\", \"state\": \"MN\", \"city\": \"FARIBAULT\", \"homepage\": \"https://www.allinahealth.org/\", \"cdm_indirect_url\": \"https://www.allinahealth.org/customer-service/billing-and-insurance\", \"cdm_url\": \"https://www.allinahealth.org/-/media/allina-health/files/customer-service/billing-and-insurance/363261413-faribault-medical-center-standardcharges.xlsx\", \"jama_compliance\": 1, \"gross_score\": 1, \"minmax_score\": 1, \"cash_score\": 1, \"generic_score\": 1, \"insurer_score\": 1, \"filename_score\": 1, \"total\": 6, \"err\": 0}, {\"ccn\": \"330198\", \"name\": \"MOUNT SINAI SOUTH NASSAU\", \"state\": \"NY\", \"city\": \"OCEANSIDE\", \"homepage\": \"https://www.southnassau.org/sn\", \"cdm_indirect_url\": \"https://www.southnassau.org/sn/price-transparency\", \"cdm_url\": \"https://www.mountsinai.org/files/MSHealth/Assets/HS/About/Insurance/111352310_mount-sinai-south-nassau_standardcharges.csv\", \"jama_compliance\": 1, \"gross_score\": 1, \"minmax_score\": 1, \"cash_score\": 1, \"generic_score\": 1, \"insurer_score\": 1, \"filename_score\": 1, \"total\": 6, \"err\": 0}, {\"ccn\": \"670076\", \"name\": \"BAYLOR SCOTT AND WHITE SURGICAL HOSPITAL AT SHERMA\", \"state\": \"TX\", \"city\": \"SHERMAN\", \"homepage\": \"https://baylorsherman.com/\", \"cdm_indirect_url\": \"https://baylorsherman.com/hospital-pricing-information/\", \"cdm_url\": \"https://baylorsherman.com/wp-content/uploads/2022/02/611762781_BaylorScottWhiteSurgicalHospitalatSherman_standardcharges.json\", \"jama_compliance\": 1, \"gross_score\": 1, \"minmax_score\": 1, \"cash_score\": 1, \"generic_score\": 1, \"insurer_score\": 1, \"filename_score\": 1, \"total\": 6, \"err\": 0}, {\"ccn\": \"240166\", \"name\": \"MAYO CLINIC HEALTH SYSTEM - FAIRMONT\", \"state\": \"MN\", \"city\": \"FAIRMONT\", \"homepage\": \"https://www.mayoclinichealthsystem.org/\", \"cdm_indirect_url\": \"https://www.mayoclinichealthsystem.org/locations/fairmont/billing/cms-hospital-pricing\", \"cdm_url\": \"https://mcorgstatic.blob.core.windows.net/cms-price/410760836_mayo-clinic-health-system-fairmont_standardcharges.csv\", \"jama_compliance\": 1, \"gross_score\": 1, \"minmax_score\": 1, \"cash_score\": 1, \"generic_score\": 1, \"insurer_score\": 1, \"filename_score\": 1, \"total\": 6, \"err\": 0}, {\"ccn\": \"250038\", \"name\": \"MERIT HEALTH MADISON\", \"state\": \"MS\", \"city\": \"CANTON\", \"homepage\": \"https://www.merithealthmadison.com/\", \"cdm_indirect_url\": \"https://www.merithealthmadison.com/pricing-information\", \"cdm_url\": \"https://www.merithealthmadison.com/Uploads/Public/Documents/charge-masters/030400182_Merit%20Madison_standardcharges.csv\", \"jama_compliance\": 1, \"gross_score\": 1, \"minmax_score\": 1, \"cash_score\": 1, \"generic_score\": 1, \"insurer_score\": 1, \"filename_score\": 1, \"total\": 6, \"err\": 0}, {\"ccn\": \"241357\", \"name\": \"ESSENTIA HEALTH FOSSTON\", \"state\": \"MN\", \"city\": \"FOSSTON\", \"homepage\": \"https://www.essentiahealth.org/\", \"cdm_indirect_url\": \"https://www.essentiahealth.org/patients-visitors/billing/price-estimates/\", \"cdm_url\": \"https://www.essentiahealth.org/app/files/public/53b4d225-b87e-41b7-b145-91c57124ef19/documents/standard-charges/41-0706143_Essentia-Health-Fosston_standardcharges.csv\", \"jama_compliance\": 1, \"gross_score\": 1, \"minmax_score\": 1, \"cash_score\": 1, \"generic_score\": 1, \"insurer_score\": 1, \"filename_score\": 1, \"total\": 6, \"err\": 0}, {\"ccn\": \"440152\", \"name\": \"REGIONAL ONE HEALTH\", \"state\": \"TN\", \"city\": \"MEMPHIS\", \"homepage\": \"https://www.regionalonehealth.org/\", \"cdm_indirect_url\": \"https://www.regionalonehealth.org/estimated-charges-for-services/\", \"cdm_url\": \"https://www.regionalonehealth.org/wp-content/uploads/2022/09/208930584_regional-med-extended-care-hospital_standardcharges.csv\", \"jama_compliance\": 1, \"gross_score\": 1, \"minmax_score\": 1, \"cash_score\": 1, \"generic_score\": 1, \"insurer_score\": 1, \"filename_score\": 1, \"total\": 6, \"err\": 0}, {\"ccn\": \"410004\", \"name\": \"ROGER WILLIAMS MEDICAL CENTER\", \"state\": \"RI\", \"city\": \"PROVIDENCE\", \"homepage\": \"https://www.chartercare.org/\", \"cdm_indirect_url\": \"https://search.hospitalpriceindex.com/hpi2/machineReadable/CharterCAREHealthPartnersatRogerWilliams/7917or\", \"cdm_url\": \"https://search.hospitalpriceindex.com/hpi2/machineReadable/CharterCAREHealthPartnersatRogerWilliams/7917or\", \"jama_compliance\": 1, \"gross_score\": 1, \"minmax_score\": 1, \"cash_score\": 1, \"generic_score\": 1, \"insurer_score\": 1, \"filename_score\": 1, \"total\": 6, \"err\": 0}, {\"ccn\": \"341327\", \"name\": \"J ARTHUR DOSHER MEMORIAL HOSPITAL\", \"state\": \"NC\", \"city\": \"SOUTHPORT\", \"homepage\": \"https://www.dosher.org/\", \"cdm_indirect_url\": \"https://www.dosher.org/\", \"cdm_url\": \"https://pricetransparency.blob.core.windows.net/doshermemorialhospital/56-0845824_jarthurdoshermemorialhospital_standardcharges.csv\", \"jama_compliance\": 1, \"gross_score\": 1, \"minmax_score\": 1, \"cash_score\": 1, \"generic_score\": 1, \"insurer_score\": 1, \"filename_score\": 1, \"total\": 6, \"err\": 0}, {\"ccn\": \"241309\", \"name\": \"ESSENTIA HEALTH SANDSTONE\", \"state\": \"MN\", \"city\": \"SANDSTONE\", \"homepage\": \"https://www.essentiahealth.org/\", \"cdm_indirect_url\": \"https://www.essentiahealth.org/find-facility/profile/essentia-health-sandstone/\", \"cdm_url\": \"https://ncstoragemlessentia.blob.core.windows.net/public/documents/standard-charges/47-5153885_Essentia-Health-Sandstone_standardcharges.csv\", \"jama_compliance\": 1, \"gross_score\": 1, \"minmax_score\": 1, \"cash_score\": 1, \"generic_score\": 1, \"insurer_score\": 1, \"filename_score\": 1, \"total\": 6, \"err\": 0}, {\"ccn\": \"150006\", \"name\": \"NORTHWEST HEALTH-LA PORTE\", \"state\": \"IN\", \"city\": \"LA PORTE\", \"homepage\": \"https://www.nwhealthlaporte.com/\", \"cdm_indirect_url\": \"https://www.nwhealthlaporte.com/pricing-information\", \"cdm_url\": \"https://www.nwhealthlaporte.com/Uploads/Public/Documents/charge-masters/810722737_LaPorte_standardcharges.csv\", \"jama_compliance\": 1, \"gross_score\": 1, \"minmax_score\": 1, \"cash_score\": 1, \"generic_score\": 1, \"insurer_score\": 1, \"filename_score\": 1, \"total\": 6, \"err\": 0}, {\"ccn\": \"180087\", \"name\": \"TAYLOR REGIONAL HOSPITAL\", \"state\": \"KY\", \"city\": \"CAMPBELLSVILLE\", \"homepage\": \"https://www.crozerhealth.org/\", \"cdm_indirect_url\": \"https://search.hospitalpriceindex.com/hpi2/machineReadable/TaylorHospital/7930or\", \"cdm_url\": \"https://search.hospitalpriceindex.com/hpi2/machineReadable/TaylorHospital/7930or\", \"jama_compliance\": 1, \"gross_score\": 1, \"minmax_score\": 1, \"cash_score\": 1, \"generic_score\": 1, \"insurer_score\": 1, \"filename_score\": 1, \"total\": 6, \"err\": 0}, {\"ccn\": \"250072\", \"name\": \"MERIT HEALTH CENTRAL\", \"state\": \"MS\", \"city\": \"JACKSON\", \"homepage\": \"https://www.merithealthcentral.com/\", \"cdm_indirect_url\": \"https://www.merithealthcentral.com/pricing-information\", \"cdm_url\": \"https://www.merithealthcentral.com/Uploads/Public/Documents/charge-masters/640907122_Merit%20Central_standardcharges.csv\", \"jama_compliance\": 1, \"gross_score\": 1, \"minmax_score\": 1, \"cash_score\": 1, \"generic_score\": 1, \"insurer_score\": 1, \"filename_score\": 1, \"total\": 6, \"err\": 0}, {\"ccn\": \"260097\", \"name\": \"WESTERN MISSOURI MEDICAL CENTER\", \"state\": \"MO\", \"city\": \"WARRENSBURG\", \"homepage\": \"https://wmmc.com/\", \"cdm_indirect_url\": \"https://www.cdmpricing.com/e40133f452edba71c46707ebf592fb66/standard-charges\", \"cdm_url\": \"https://www.cdmpricing.com/e40133f452edba71c46707ebf592fb66/standard-charges\", \"jama_compliance\": 1, \"gross_score\": 1, \"minmax_score\": 1, \"cash_score\": 1, \"generic_score\": 1, \"insurer_score\": 1, \"filename_score\": 1, \"total\": 6, \"err\": 0}, {\"ccn\": \"450187\", \"name\": \"SCOTT & WHITE HOSPITAL BRENHAM\", \"state\": \"TX\", \"city\": \"BRENHAM\", \"homepage\": \"https://www.bswhealth.com/\", \"cdm_indirect_url\": \"https://www.bswhealth.com/patient-tools/registration-and-billing/estimate-your-cost-of-care\", \"cdm_url\": \"https://www.bswhealth.com/-/media/project/bsw/sites/bswhealth/documents/patient-tools/estimate-cost-of-care/74-2519752_baylor-scott-and-white-medical-center-brenham_standardcharges.csv\", \"jama_compliance\": 1, \"gross_score\": 1, \"minmax_score\": 1, \"cash_score\": 1, \"generic_score\": 1, \"insurer_score\": 1, \"filename_score\": 1, \"total\": 6, \"err\": 0}, {\"ccn\": \"151306\", \"name\": \"INDIANA UNIVERSITY HEALTH PAOLI HOSPITAL\", \"state\": \"IN\", \"city\": \"PAOLI\", \"homepage\": \"https://iuhealth.org/\", \"cdm_indirect_url\": \"https://iuhealth.org/schedule-an-appointment/price-estimates/standard-charge-listing\", \"cdm_url\": \"https://cdn.iuhealth.org/resources/35-2090919_PAOLI_HOSPITAL_standardcharges22.csv\", \"jama_compliance\": 1, \"gross_score\": 1, \"minmax_score\": 1, \"cash_score\": 1, \"generic_score\": 1, \"insurer_score\": 1, \"filename_score\": 1, \"total\": 6, \"err\": 0}, {\"ccn\": \"370006\", \"name\": \"ALLIANCEHEALTH PONCA CITY\", \"state\": \"OK\", \"city\": \"PONCA CITY\", \"homepage\": \"https://www.alliancehealthponcacity.com/\", \"cdm_indirect_url\": \"https://www.alliancehealthponcacity.com/pricing-information\", \"cdm_url\": \"https://www.alliancehealthponcacity.com/Uploads/Public/Documents/charge-masters/204052936_Alliance%20Ponca%20City_standardcharges.csv\", \"jama_compliance\": 1, \"gross_score\": 1, \"minmax_score\": 1, \"cash_score\": 1, \"generic_score\": 1, \"insurer_score\": 1, \"filename_score\": 1, \"total\": 6, \"err\": 0}, {\"ccn\": \"440031\", \"name\": \"ROANE MEDICAL CENTER\", \"state\": \"TN\", \"city\": \"HARRIMAN\", \"homepage\": \"https://www.roanemedical.com/\", \"cdm_indirect_url\": \"https://www.roanemedical.com/price-estimation/\", \"cdm_url\": \"https://www.covenanthealth.com/pt_json/680673354_Roane-Medical-Center_standardcharges.json\", \"jama_compliance\": 1, \"gross_score\": 1, \"minmax_score\": 1, \"cash_score\": 1, \"generic_score\": 1, \"insurer_score\": 1, \"filename_score\": 1, \"total\": 6, \"err\": 0}, {\"ccn\": \"230118\", \"name\": \"MCLAREN THUMB REGION\", \"state\": \"MI\", \"city\": \"BAD AXE\", \"homepage\": \"https://www.mclaren.org/\", \"cdm_indirect_url\": \"https://www.mclaren.org/main/mclaren-charge-master-files\", \"cdm_url\": \"https://www.mclaren.org/Uploads/Public/Documents/corporate/ChargeMasterFile/2022/38-1474929_McLarenThumbRegion_standardcharges.csv\", \"jama_compliance\": 1, \"gross_score\": 1, \"minmax_score\": 1, \"cash_score\": 1, \"generic_score\": 1, \"insurer_score\": 1, \"filename_score\": 1, \"total\": 6, \"err\": 0}, {\"ccn\": \"241329\", \"name\": \"LAKEWOOD HEALTH SYSTEM\", \"state\": \"MN\", \"city\": \"STAPLES\", \"homepage\": \"https://www.lakewoodhealthsystem.com/\", \"cdm_indirect_url\": \"https://www.lakewoodhealthsystem.com/patients-visitors/billing-payments/fees-charges/\", \"cdm_url\": \"https://www.lakewoodhealthsystem.com/wp-lib/wp-content/uploads/2022/01/41-1842965_LAKEWOOD-HEALTH-SYSTEM_standardchargesCDM-1.csv\", \"jama_compliance\": 1, \"gross_score\": 1, \"minmax_score\": 1, \"cash_score\": 1, \"generic_score\": 1, \"insurer_score\": 1, \"filename_score\": 1, \"total\": 6, \"err\": 0}]}}, {\"mode\": \"vega-lite\"});\n",
       "</script>"
      ],
      "text/plain": [
       "alt.Chart(...)"
      ]
     },
     "execution_count": 66,
     "metadata": {},
     "output_type": "execute_result"
    }
   ],
   "source": [
    "import altair as alt\n",
    "\n",
    "source = (t\n",
    "    .filter(pl.col('err').is_in([0, 1]))\n",
    "    .filter(pl.col('jama_compliance') == 1)\n",
    "    .to_pandas()\n",
    ")\n",
    "\n",
    "alt.Chart(source).mark_bar().transform_joinaggregate(\n",
    "    t='count(*)'\n",
    ").transform_calculate(\n",
    "    pct='1 / datum.t'\n",
    ").encode(\n",
    "    alt.X('total:N', title = 'Hospital price list compliance scores'),\n",
    "    alt.Y('sum(pct):Q', title = 'Fraction in dataset'),\n",
    ").properties(width = 400)"
   ]
  },
  {
   "cell_type": "code",
   "execution_count": 38,
   "metadata": {},
   "outputs": [
    {
     "data": {
      "text/html": [
       "\n",
       "<div id=\"altair-viz-57f2135d061d4972996dd2246dd72369\"></div>\n",
       "<script type=\"text/javascript\">\n",
       "  var VEGA_DEBUG = (typeof VEGA_DEBUG == \"undefined\") ? {} : VEGA_DEBUG;\n",
       "  (function(spec, embedOpt){\n",
       "    let outputDiv = document.currentScript.previousElementSibling;\n",
       "    if (outputDiv.id !== \"altair-viz-57f2135d061d4972996dd2246dd72369\") {\n",
       "      outputDiv = document.getElementById(\"altair-viz-57f2135d061d4972996dd2246dd72369\");\n",
       "    }\n",
       "    const paths = {\n",
       "      \"vega\": \"https://cdn.jsdelivr.net/npm//vega@5?noext\",\n",
       "      \"vega-lib\": \"https://cdn.jsdelivr.net/npm//vega-lib?noext\",\n",
       "      \"vega-lite\": \"https://cdn.jsdelivr.net/npm//vega-lite@4.17.0?noext\",\n",
       "      \"vega-embed\": \"https://cdn.jsdelivr.net/npm//vega-embed@6?noext\",\n",
       "    };\n",
       "\n",
       "    function maybeLoadScript(lib, version) {\n",
       "      var key = `${lib.replace(\"-\", \"\")}_version`;\n",
       "      return (VEGA_DEBUG[key] == version) ?\n",
       "        Promise.resolve(paths[lib]) :\n",
       "        new Promise(function(resolve, reject) {\n",
       "          var s = document.createElement('script');\n",
       "          document.getElementsByTagName(\"head\")[0].appendChild(s);\n",
       "          s.async = true;\n",
       "          s.onload = () => {\n",
       "            VEGA_DEBUG[key] = version;\n",
       "            return resolve(paths[lib]);\n",
       "          };\n",
       "          s.onerror = () => reject(`Error loading script: ${paths[lib]}`);\n",
       "          s.src = paths[lib];\n",
       "        });\n",
       "    }\n",
       "\n",
       "    function showError(err) {\n",
       "      outputDiv.innerHTML = `<div class=\"error\" style=\"color:red;\">${err}</div>`;\n",
       "      throw err;\n",
       "    }\n",
       "\n",
       "    function displayChart(vegaEmbed) {\n",
       "      vegaEmbed(outputDiv, spec, embedOpt)\n",
       "        .catch(err => showError(`Javascript Error: ${err.message}<br>This usually means there's a typo in your chart specification. See the javascript console for the full traceback.`));\n",
       "    }\n",
       "\n",
       "    if(typeof define === \"function\" && define.amd) {\n",
       "      requirejs.config({paths});\n",
       "      require([\"vega-embed\"], displayChart, err => showError(`Error loading script: ${err.message}`));\n",
       "    } else {\n",
       "      maybeLoadScript(\"vega\", \"5\")\n",
       "        .then(() => maybeLoadScript(\"vega-lite\", \"4.17.0\"))\n",
       "        .then(() => maybeLoadScript(\"vega-embed\", \"6\"))\n",
       "        .catch(showError)\n",
       "        .then(() => displayChart(vegaEmbed));\n",
       "    }\n",
       "  })({\"config\": {\"view\": {\"continuousWidth\": 400, \"continuousHeight\": 300}}, \"data\": {\"name\": \"data-b41e69491d762306915d98d4185b7ca0\"}, \"mark\": \"bar\", \"encoding\": {\"x\": {\"field\": \"total\", \"title\": \"Hospital price list compliance scores\", \"type\": \"nominal\"}, \"y\": {\"aggregate\": \"sum\", \"field\": \"pct\", \"title\": \"Fraction in dataset\", \"type\": \"quantitative\"}}, \"transform\": [{\"joinaggregate\": [{\"op\": \"count\", \"field\": \"*\", \"as\": \"t\"}]}, {\"calculate\": \"1 / datum.t\", \"as\": \"pct\"}], \"width\": 400, \"$schema\": \"https://vega.github.io/schema/vega-lite/v4.17.0.json\", \"datasets\": {\"data-b41e69491d762306915d98d4185b7ca0\": [{\"ccn\": \"200052\", \"name\": \"NORTHERN MAINE MEDICAL CENTER\", \"state\": \"ME\", \"city\": \"FORT KENT\", \"homepage\": \"https://www.nmmc.org/\", \"cdm_indirect_url\": \"https://www.nmmc.org/hospital-price-estimate/\", \"cdm_url\": \"https://ultrabenefits-uat.sapphiremrfhub.com/tocs/202208/2022-08-01_northern-maine-medical-center_index.json\", \"jama_compliance\": 0, \"gross_score\": 0, \"minmax_score\": 0, \"cash_score\": 0, \"generic_score\": 0, \"insurer_score\": 0, \"filename_score\": 0, \"total\": 0, \"err\": 1}, {\"ccn\": \"450743\", \"name\": \"TEXAS HEALTH PRESBYTERIAN HOSPITAL DENTON\", \"state\": \"TX\", \"city\": \"DENTON\", \"homepage\": \"https://www.texashealth.org/\", \"cdm_indirect_url\": \"https://www.texashealth.org/Costs-and-Billing/Hospital-Charge-Information\", \"cdm_url\": \"https://www.texashealth.org/-/media/Project/THR/shared/Documents/PDFs/Business-Office/Pricing/Hospital-Standard-Charges/texas-health-denton.xlsx\", \"jama_compliance\": 0, \"gross_score\": 1, \"minmax_score\": -1, \"cash_score\": -1, \"generic_score\": -1, \"insurer_score\": -1, \"filename_score\": -1, \"total\": 1, \"err\": 0}, {\"ccn\": \"520011\", \"name\": \"MARSHFIELD MEDICAL CENTER - RICE LAKE\", \"state\": \"WI\", \"city\": \"RICE LAKE\", \"homepage\": \"https://www.marshfieldclinic.org/\", \"cdm_indirect_url\": \"https://www.marshfieldclinic.org/patient-resources/billing/cms-hospital-transparency-requirement\", \"cdm_url\": \"https://www.marshfieldclinic.org/mPatientResources/Documents/MMC%20-%20Rice%20Lake%20Charges.xlsx\", \"jama_compliance\": 0, \"gross_score\": 1, \"minmax_score\": -1, \"cash_score\": -1, \"generic_score\": -1, \"insurer_score\": -1, \"filename_score\": -1, \"total\": 1, \"err\": 0}, {\"ccn\": \"490120\", \"name\": \"CHESAPEAKE GENERAL HOSPITAL\", \"state\": \"VA\", \"city\": \"CHESAPEAKE\", \"homepage\": \"https://chesapeakeregional.com/\", \"cdm_indirect_url\": \"https://chesapeakeregional.com/patients-visitors/billing-insurance\", \"cdm_url\": \"https://chesapeakeregional.com/sites/default/files/2022-11/HOPD%20Procedrue%20Charges%2011.3.22.csv\", \"jama_compliance\": 0, \"gross_score\": 1, \"minmax_score\": -1, \"cash_score\": -1, \"generic_score\": 1, \"insurer_score\": -1, \"filename_score\": -1, \"total\": 2, \"err\": 0}, {\"ccn\": \"261306\", \"name\": \"SULLIVAN COUNTY MEMORIAL HOSPITAL\", \"state\": \"MO\", \"city\": \"MILAN\", \"homepage\": \"https://scmhospital.org/\", \"cdm_indirect_url\": \"https://scmhospital.org/charges-for-hospital-services/\", \"cdm_url\": \"https://scmhospital.org/wp-content/uploads/2022/04/SCMH_Chargemaster_updated_April_2_2021.csv\", \"jama_compliance\": 0, \"gross_score\": 1, \"minmax_score\": -1, \"cash_score\": -1, \"generic_score\": 1, \"insurer_score\": -1, \"filename_score\": -1, \"total\": 2, \"err\": 0}, {\"ccn\": \"210019\", \"name\": \"TIDALHEALTH PENINSULA REGIONAL, INC\", \"state\": \"MD\", \"city\": \"SALISBURY\", \"homepage\": \"https://www.tidalhealth.org/\", \"cdm_indirect_url\": \"https://www.tidalhealth.org/medical-care/financial-admin-services/billing/hospital-based-price-billing-unit-information\", \"cdm_url\": \"https://www.tidalhealth.org/sites/default/files/2021-07/EIN_PRMC_2021_02_23.xlsx\", \"jama_compliance\": 0, \"gross_score\": 1, \"minmax_score\": 1, \"cash_score\": -1, \"generic_score\": 1, \"insurer_score\": -1, \"filename_score\": -1, \"total\": 3, \"err\": 0}, {\"ccn\": \"190015\", \"name\": \"NORTH OAKS MEDICAL CENTER, L L C\", \"state\": \"LA\", \"city\": \"HAMMOND\", \"homepage\": \"https://www.northoaks.org/\", \"cdm_indirect_url\": \"https://www.northoaks.org/patients-visitors/patients/patient-guide/patient-pricing-information/hospital-price-transparency/\", \"cdm_url\": \"https://www.northoaks.org/documents/2022-Price-transparancy-8.1.22.csv\", \"jama_compliance\": 0, \"gross_score\": 1, \"minmax_score\": -1, \"cash_score\": 1, \"generic_score\": -1, \"insurer_score\": 1, \"filename_score\": -1, \"total\": 3, \"err\": 0}, {\"ccn\": \"451353\", \"name\": \"CRANE COUNTY HOSPITAL DISTRICT\", \"state\": \"TX\", \"city\": \"CRANE\", \"homepage\": \"https://www.cranememorial.org/\", \"cdm_indirect_url\": \"https://www.cranememorial.org/getpage.php?name=Price_Transparency\", \"cdm_url\": \"https://www.cranememorial.org/docs/35-2336501_Crane_County_HospitaL_District.csv\", \"jama_compliance\": 0, \"gross_score\": 1, \"minmax_score\": 1, \"cash_score\": 1, \"generic_score\": -1, \"insurer_score\": 1, \"filename_score\": -1, \"total\": 4, \"err\": 0}, {\"ccn\": \"251308\", \"name\": \"PONTOTOC HEALTH SERVICE CAH\", \"state\": \"MS\", \"city\": \"PONTOTOC\", \"homepage\": \"https://www.nmhs.net/\", \"cdm_indirect_url\": \"https://www.nmhs.net/patient-family-information/price-estimate/\", \"cdm_url\": \"https://www.nmhs.net/app/files/public/45435348-32b5-41d6-872d-3371772627ae/NMMC%20Pontotoc%20Standard%20Charges.2.csv\", \"jama_compliance\": 0, \"gross_score\": 1, \"minmax_score\": -1, \"cash_score\": 1, \"generic_score\": 1, \"insurer_score\": 1, \"filename_score\": -1, \"total\": 4, \"err\": 0}, {\"ccn\": \"141339\", \"name\": \"TAYLORVILLE MEMORIAL HOSPITAL\", \"state\": \"IL\", \"city\": \"TAYLORVILLE\", \"homepage\": \"https://memorial.health/\", \"cdm_indirect_url\": \"https://memorial.health/financial/price-transparency/\", \"cdm_url\": \"https://memorial.health/Resources/f20fc492-76e2-4b57-9653-c735ea8b4913/370661250-Taylorville-Memorial-Hospital-standardcharges.csv\", \"jama_compliance\": 0, \"gross_score\": 1, \"minmax_score\": 1, \"cash_score\": 1, \"generic_score\": -1, \"insurer_score\": 1, \"filename_score\": 1, \"total\": 5, \"err\": 0}, {\"ccn\": \"070016\", \"name\": \"SAINT MARY'S HOSPITAL\", \"state\": \"CT\", \"city\": \"WATERBURY\", \"homepage\": \"https://www.trinityhealthofne.org/\", \"cdm_indirect_url\": \"https://www.trinityhealthofne.org/for-patients/billing-and-financial-resources/price-estimates-lists\", \"cdm_url\": \"https://www.cdmpricing.com/dace8a12e40ddf96ebda4b24d2fe4965/standard-charges\", \"jama_compliance\": 0, \"gross_score\": 1, \"minmax_score\": 1, \"cash_score\": 1, \"generic_score\": 1, \"insurer_score\": 1, \"filename_score\": 1, \"total\": 6, \"err\": 0}, {\"ccn\": \"451316\", \"name\": \"MADISON ST JOSEPH HEALTH CENTER\", \"state\": \"TX\", \"city\": \"MADISONVILLE\", \"homepage\": \"https://stjoseph.stlukeshealth.org/\", \"cdm_indirect_url\": \"https://stjoseph.stlukeshealth.org/patients-visitors/price-transparency\", \"cdm_url\": \"https://stjoseph.stlukeshealth.org/content/dam/stjoseph-stlukeshealth/documents/pricing-transparency-files/742761145_St-Joseph-Health-Madison-Hospital_standardcharges.csv\", \"jama_compliance\": 0, \"gross_score\": 1, \"minmax_score\": 1, \"cash_score\": 1, \"generic_score\": 1, \"insurer_score\": 1, \"filename_score\": 1, \"total\": 6, \"err\": 0}, {\"ccn\": \"450193\", \"name\": \"CHI ST LUKE'S HEALTH BAYLOR COLLEGE OF MEDICINE ME\", \"state\": \"TX\", \"city\": \"HOUSTON\", \"homepage\": \"https://www.stlukeshealth.org/\", \"cdm_indirect_url\": \"https://www.stlukeshealth.org/patients-visitors/price-transparency\", \"cdm_url\": \"https://www.stlukeshealth.org/content/dam/stlukeshealth/documents/price-transparency-files/741161938_Baylor-St-Lukes-Medical-Center_standardcharges.csv\", \"jama_compliance\": 0, \"gross_score\": 1, \"minmax_score\": 1, \"cash_score\": 1, \"generic_score\": 1, \"insurer_score\": 1, \"filename_score\": 1, \"total\": 6, \"err\": 0}, {\"ccn\": \"100073\", \"name\": \"HOLY CROSS HOSPITAL\", \"state\": \"FL\", \"city\": \"FORT LAUDERDALE\", \"homepage\": \"https://www.holy-cross.com/\", \"cdm_indirect_url\": \"https://www.holy-cross.com/for-patients/billing-and-insurance/get-a-price-estimate\", \"cdm_url\": \"https://www.cdmpricing.com/3ed43597e7487ebd2667c3d4afc2c073/standard-charges\", \"jama_compliance\": 0, \"gross_score\": 1, \"minmax_score\": 1, \"cash_score\": 1, \"generic_score\": 1, \"insurer_score\": 1, \"filename_score\": 1, \"total\": 6, \"err\": 0}, {\"ccn\": \"050093\", \"name\": \"SAINT AGNES MEDICAL CENTER\", \"state\": \"CA\", \"city\": \"FRESNO\", \"homepage\": \"https://www.samc.com/\", \"cdm_indirect_url\": \"https://www.samc.com/for-patients/billing-and-financial-information/price-estimator\", \"cdm_url\": \"https://www.cdmpricing.com/328fa1deacb00df2cf453001b80e6e73/standard-charges\", \"jama_compliance\": 0, \"gross_score\": 1, \"minmax_score\": 1, \"cash_score\": 1, \"generic_score\": 1, \"insurer_score\": 1, \"filename_score\": 1, \"total\": 6, \"err\": 0}]}}, {\"mode\": \"vega-lite\"});\n",
       "</script>"
      ],
      "text/plain": [
       "alt.Chart(...)"
      ]
     },
     "execution_count": 38,
     "metadata": {},
     "output_type": "execute_result"
    }
   ],
   "source": [
    "source = (t\n",
    "    .filter(pl.col('err').is_in([0, 1]))\n",
    "    .filter(pl.col('jama_compliance') == 0)\n",
    "    .to_pandas()\n",
    ")\n",
    "\n",
    "alt.Chart(source).mark_bar().transform_joinaggregate(\n",
    "    t='count(*)'\n",
    ").transform_calculate(\n",
    "    pct='1 / datum.t'\n",
    ").encode(\n",
    "    alt.X('total:N', title = 'Hospital price list compliance scores'),\n",
    "    alt.Y('sum(pct):Q', title = 'Fraction in dataset'),\n",
    ").properties(width = 400)"
   ]
  },
  {
   "cell_type": "code",
   "execution_count": 7,
   "metadata": {},
   "outputs": [],
   "source": [
    "import openpyxl"
   ]
  },
  {
   "cell_type": "code",
   "execution_count": 32,
   "metadata": {
    "collapsed": true,
    "jupyter": {
     "outputs_hidden": true
    },
    "tags": []
   },
   "outputs": [
    {
     "name": "stdout",
     "output_type": "stream",
     "text": [
      "CPU times: user 87.6 ms, sys: 2.52 ms, total: 90.1 ms\n",
      "Wall time: 88.8 ms\n"
     ]
    },
    {
     "data": {
      "text/plain": [
       "'Evangelical Community HospitalTax Identification Number:  24-0795411Standard ChargesHospital Procedure Code HCPCS Code Description Code_Type Package/Line_Level Average Charge Min_Allowable_835 Max_Allowable_835 Avg_Allowable_835 Self-Pay Charge - 10% Discount AETNA ADV PLAN 250 NET 03404_Avg_Allowable AETNA AETNA CHOICE POS II_Avg_Allowable AETNA AETNA CHOICE POS II NET 00486_Avg_Allowable AETNA AETNA HEALTH NETWORK ONLY 8480 (OPEN A NET 01984_Avg_Allowable AETNA AETNA HEALTH NETWORK OPTION 8480 (OPEN NET 01984_Avg_Allowable AETNA AETNA HEALTHFUND AETNA CHOICE POS II NET 00486_Avg_Allowable AETNA AETNA HEALTHFUND AETNA OPEN ACCESS MAN NET 00486_Avg_Allowable AETNA AETNA HEALTHFUND AETNA OPEN ACCESS MAN NET 09614_Avg_Allowable AETNA AETNA HEALTHFUND OPEN ACCESS AETNA SELE NET 01669_Avg_Allowable AETNA AETNA HEALTHFUND OPEN ACCESS AETNA SELECT 8480_Avg_Allowable AETNA AETNA HEALTHFUND OPEN CHOICE PPO NET 00214_Avg_Allowable AETNA AETNA OPEN ACCESS ELECT CHOICE NET 01669_Avg_Allowable AETNA AETNA OPEN ACCESS MANAGED CHOICE NET 00486_Avg_Allowable AETNA AETNA OPEN ACCESS MANAGED CHOICE NET 09614_Avg_Allowable AETNA AETNA SELECT 8480 NET 01669_Avg_Allowable AETNA AEXCEL PLUS AETNA CHOICE POS II NET 00486_Avg_Allowable AETNA CONTEL ADV PLAN NET 03404_Avg_Allowable AETNA DIRECT ACCESS HMO - MEDICARE - MA (AETNA)_Avg_Allowable AETNA DIRECT ACCESS HMO - MEDICARE (AETNA)_Avg_Allowable AETNA DSNP DIRECT ACCESS HMO - MEDICARE (AETNA)_Avg_Allowable AETNA ELITE PPO NET 03404_Avg_Allowable AETNA EXPLORER PREMIER PPO NET 03404_Avg_Allowable AETNA GOLD PPO NET 03404_Avg_Allowable AETNA GROUP MEDICARE STANDARD PLAN NET 03404_Avg_Allowable AETNA HMO_Avg_Allowable AETNA HMO - MEDICARE (AETNA)_Avg_Allowable AETNA HMO NET 00214_Avg_Allowable AETNA MA (P01) PPO NET 03404_Avg_Allowable AETNA MAJOR ADV PLAN NET 03404_Avg_Allowable AETNA MAPD ESA PPO PLAN NET 03404_Avg_Allowable AETNA MAPD I ESA PPO PLAN NET 03404_Avg_Allowable AETNA MEDICARE (C01) ESA PPO PLAN NET 03404_Avg_Allowable AETNA MEDICARE (C02) ESA PPO PLAN NET 03404_Avg_Allowable AETNA MEDICARE (C02) PPO PLAN NET 03404_Avg_Allowable AETNA MEDICARE (C04) ESA PPO PLAN NET 03404_Avg_Allowable AETNA MEDICARE (C04) PPO NET 03404_Avg_Allowable AETNA MEDICARE (C05) ESA PPO PLAN NET 03404_Avg_Allowable AETNA MEDICARE (P01) ESA PPO NET 03404_Avg_Allowable AETNA MEDICARE (P01) ESA PPO PLAN NET 03404_Avg_Allowable AETNA MEDICARE (P01) PPO NET 03404_Avg_Allowable AETNA MEDICARE (P02) PPO NET 03404_Avg_Allowable AETNA MEDICARE (S01) ESA PPO PLAN NET 03404_Avg_Allowable AETNA MEDICARE (S01) PPO PLAN NET 03404_Avg_Allowable AETNA MEDICARE (S02) ESA PPO PLAN NET 03404_Avg_Allowable AETNA MEDICARE (S02) PPO PLAN NET 03404_Avg_Allowable AETNA MEDICARE (V03) PPO PLAN NET 03404_Avg_Allowable AETNA MEDICARE ADV ESA PPO PLAN NET 03404_Avg_Allowable AETNA MEDICARE INTEGRATION_Avg_Allowable AETNA MEDICARE OPEN ACCESS PPO NET 03404_Avg_Allowable AETNA MEDICARE OPEN ACCESS PPO PLAN NET 00214_Avg_Allowable AETNA MEDICARE OPEN ACCESS PPO PLAN NET 03404_Avg_Allowable AETNA MEP SOUTH ADV PLAN NET 03404_Avg_Allowable AETNA MPPR ADV PLAN NET 03404_Avg_Allowable AETNA OA MANAGED CHOICE POS_Avg_Allowable AETNA OPEN ACCESS AETNA SELECT 8480 NET 01669_Avg_Allowable AETNA OPEN ACCESS HMO - MEDICARE - MA (AETNA)_Avg_Allowable AETNA OPEN ACCESS POS II NET 00486_Avg_Allowable AETNA OPEN CHOICE NET 00214_Avg_Allowable AETNA OPEN CHOICE PPO_Avg_Allowable AETNA OPEN POS II NET 00486_Avg_Allowable AETNA PLUS MEDICAL PLAN NET 03404_Avg_Allowable AETNA PPO - MEDICARE (AETNA)_Avg_Allowable AETNA PPO-MEDICAL_Avg_Allowable AETNA PPO-MEDICAL NET 00214_Avg_Allowable AETNA PREM PLUS PPO NET 03404_Avg_Allowable AETNA PREMIER MEDICAL PLAN NET 03404_Avg_Allowable AETNA PREMIER PLUS PPO NET 03404_Avg_Allowable AETNA PREMIER PPO NET 03404_Avg_Allowable AETNA QUALITY POINT-OF-SERVICE NET 01984_Avg_Allowable AETNA REF REQ SILVER HMO NET 02110_Avg_Allowable AETNA REHP MEDICARE ESA PPO PLAN NET 03404_Avg_Allowable AETNA SEHBP EDUCATORS MEDICARE PLAN NET 03404_Avg_Allowable AETNA STRS PPO PLAN NET 03404_Avg_Allowable AETNA TRADITIONAL CHOICE NET 00486_Avg_Allowable AETNA UAW MACK TRUCK RETIREE PLAN NET 03404_Avg_Allowable AETNA US SALARIED RETIREES PLAN NET 03404_Avg_Allowable AETNA USS MEDICARE PPO PLAN NET 03404_Avg_Allowable AETNA VALUE PPO NET 03404_Avg_Allowable AETNA VBID DIRECT ACCESS HMO - MEDICARE (AETNA)_Avg_Allowable AETNA VOLUNTARY OPEN CHOICE NET 00214_Avg_Allowable AETNA WEST ADV PLAN 100 NET 03404_Avg_Allowable AETNA WEST ADV PLAN 125 NET 03404_Avg_Allowable AETNA WEST RP ADV PLAN NET 03404_Avg_Allowable AMERIHEALTH CARITAS DC INC 11600161_Avg_Allowable AMERIHEALTH CARITAS DELAWARE INC 15000161_Avg_Allowable AMERIHEALTH CARITAS LOUISIANA 11400150_Avg_Allowable AMERIHEALTH CARITAS NORTHEAST 11400267_Avg_Allowable AMERIHEALTH CARITAS NORTHEAST 11400268_Avg_Allowable AMERIHEALTH CARITAS NORTHEAST 11500139_Avg_Allowable AMERIHEALTH CARITAS NORTHEAST 11600116_Avg_Allowable AMERIHEALTH CARITAS NORTHEAST 11600117_Avg_Allowable AMERIHEALTH CARITAS NORTHEAST 11800279_Avg_Allowable AMERIHEALTH CARITAS NORTHEAST 11900369_Avg_Allowable AMERIHEALTH CARITAS NORTHEAST 11900370_Avg_Allowable AMERIHEALTH CARITAS NORTHEAST 12200095_Avg_Allowable AMERIHEALTH CARITAS NORTHEAST 13000023_Avg_Allowable AMERIHEALTH CARITAS NORTHEAST 13000167_Avg_Allowable AMERIHEALTH CARITAS NORTHEAST 13100091_Avg_Allowable AMERIHEALTH CARITAS NORTHEAST 13100145_Avg_Allowable AMERIHEALTH CARITAS NORTHEAST 13100146_Avg_Allowable AMERIHEALTH CARITAS NORTHEAST 13100408_Avg_Allowable AMERIHEALTH CARITAS NORTHEAST 13300060_Avg_Allowable AMERIHEALTH CARITAS NORTHEAST 13300061_Avg_Allowable AMERIHEALTH CARITAS NORTHEAST 13600214_Avg_Allowable AMERIHEALTH CARITAS NORTHEAST 14300162_Avg_Allowable AMERIHEALTH CARITAS NORTHEAST 14300163_Avg_Allowable AMERIHEALTH CARITAS NORTHEAST 14300411_Avg_Allowable AMERIHEALTH CARITAS NORTHEAST 14300412_Avg_Allowable AMERIHEALTH CARITAS NORTHEAST 14500268_Avg_Allowable AMERIHEALTH CARITAS NORTHEAST 14600127_Avg_Allowable AMERIHEALTH CARITAS PA COMMUNITY HEALTHCHOICES 10100110_Avg_Allowable AMERIHEALTH CARITAS PA COMMUNITY HEALTHCHOICES 10100296_Avg_Allowable AMERIHEALTH CARITAS PA COMMUNITY HEALTHCHOICES 10200251_Avg_Allowable AMERIHEALTH CARITAS PA COMMUNITY HEALTHCHOICES 10300436_Avg_Allowable AMERIHEALTH CARITAS PA COMMUNITY HEALTHCHOICES 10500245_Avg_Allowable AMERIHEALTH CARITAS PA COMMUNITY HEALTHCHOICES 10600035_Avg_Allowable AMERIHEALTH CARITAS PA COMMUNITY HEALTHCHOICES 10700355_Avg_Allowable AMERIHEALTH CARITAS PA COMMUNITY HEALTHCHOICES 10800337_Avg_Allowable AMERIHEALTH CARITAS PA COMMUNITY HEALTHCHOICES 10900135_Avg_Allowable AMERIHEALTH CARITAS PA COMMUNITY HEALTHCHOICES 10900250_Avg_Allowable AMERIHEALTH CARITAS PA COMMUNITY HEALTHCHOICES 11100275_Avg_Allowable AMERIHEALTH CARITAS PA COMMUNITY HEALTHCHOICES 11200317_Avg_Allowable AMERIHEALTH CARITAS PA COMMUNITY HEALTHCHOICES 11300186_Avg_Allowable AMERIHEALTH CARITAS PA COMMUNITY HEALTHCHOICES 11400152_Avg_Allowable AMERIHEALTH CARITAS PA COMMUNITY HEALTHCHOICES 11500337_Avg_Allowable AMERIHEALTH CARITAS PA COMMUNITY HEALTHCHOICES 11600076_Avg_Allowable AMERIHEALTH CARITAS PA COMMUNITY HEALTHCHOICES 11700097_Avg_Allowable AMERIHEALTH CARITAS PA COMMUNITY HEALTHCHOICES 11700194_Avg_Allowable AMERIHEALTH CARITAS PA COMMUNITY HEALTHCHOICES 11800050_Avg_Allowable AMERIHEALTH CARITAS PA COMMUNITY HEALTHCHOICES 11800082_Avg_Allowable AMERIHEALTH CARITAS PA COMMUNITY HEALTHCHOICES 12000148_Avg_Allowable AMERIHEALTH CARITAS PA COMMUNITY HEALTHCHOICES 12000255_Avg_Allowable AMERIHEALTH CARITAS PA COMMUNITY HEALTHCHOICES 12000298_Avg_Allowable AMERIHEALTH CARITAS PA COMMUNITY HEALTHCHOICES 12000367_Avg_Allowable AMERIHEALTH CARITAS PA COMMUNITY HEALTHCHOICES 12100052_Avg_Allowable AMERIHEALTH CARITAS PA COMMUNITY HEALTHCHOICES 12100101_Avg_Allowable AMERIHEALTH CARITAS PA COMMUNITY HEALTHCHOICES 12100210_Avg_Allowable AMERIHEALTH CARITAS PA COMMUNITY HEALTHCHOICES 12100334_Avg_Allowable AMERIHEALTH CARITAS PA COMMUNITY HEALTHCHOICES 12200274_Avg_Allowable AMERIHEALTH CARITAS PA COMMUNITY HEALTHCHOICES 12300163_Avg_Allowable AMERIHEALTH CARITAS PA COMMUNITY HEALTHCHOICES 12400099_Avg_Allowable AMERIHEALTH CARITAS PA COMMUNITY HEALTHCHOICES 12400128_Avg_Allowable AMERIHEALTH CARITAS PA COMMUNITY HEALTHCHOICES 12600213_Avg_Allowable AMERIHEALTH CARITAS PA COMMUNITY HEALTHCHOICES 12600318_Avg_Allowable AMERIHEALTH CARITAS PA COMMUNITY HEALTHCHOICES 12700073_Avg_Allowable AMERIHEALTH CARITAS PA COMMUNITY HEALTHCHOICES 12700120_Avg_Allowable AMERIHEALTH CARITAS PA COMMUNITY HEALTHCHOICES 12700173_Avg_Allowable AMERIHEALTH CARITAS PA COMMUNITY HEALTHCHOICES 12700352_Avg_Allowable AMERIHEALTH CARITAS PA COMMUNITY HEALTHCHOICES 12800138_Avg_Allowable AMERIHEALTH CARITAS PA COMMUNITY HEALTHCHOICES 12900303_Avg_Allowable AMERIHEALTH CARITAS PA COMMUNITY HEALTHCHOICES 13000043_Avg_Allowable AMERIHEALTH CARITAS PA COMMUNITY HEALTHCHOICES 13000220_Avg_Allowable AMERIHEALTH CARITAS PA COMMUNITY HEALTHCHOICES 13000221_Avg_Allowable AMERIHEALTH CARITAS PA COMMUNITY HEALTHCHOICES 13100361_Avg_Allowable AMERIHEALTH CARITAS PA COMMUNITY HEALTHCHOICES 13200070_Avg_Allowable AMERIHEALTH CARITAS PA COMMUNITY HEALTHCHOICES 13200194_Avg_Allowable AMERIHEALTH CARITAS PA COMMUNITY HEALTHCHOICES 13200242_Avg_Allowable AMERIHEALTH CARITAS PA COMMUNITY HEALTHCHOICES 13300165_Avg_Allowable AMERIHEALTH CARITAS PA COMMUNITY HEALTHCHOICES 13400073_Avg_Allowable AMERIHEALTH CARITAS PA COMMUNITY HEALTHCHOICES 13400311_Avg_Allowable AMERIHEALTH CARITAS PA COMMUNITY HEALTHCHOICES 13500315_Avg_Allowable AMERIHEALTH CARITAS PA COMMUNITY HEALTHCHOICES 13600083_Avg_Allowable AMERIHEALTH CARITAS PA COMMUNITY HEALTHCHOICES 13600104_Avg_Allowable AMERIHEALTH CARITAS PA COMMUNITY HEALTHCHOICES 13600165_Avg_Allowable AMERIHEALTH CARITAS PA COMMUNITY HEALTHCHOICES 13600229_Avg_Allowable AMERIHEALTH CARITAS PA COMMUNITY HEALTHCHOICES 13700014_Avg_Allowable AMERIHEALTH CARITAS PA COMMUNITY HEALTHCHOICES 13700079_Avg_Allowable AMERIHEALTH CARITAS PA COMMUNITY HEALTHCHOICES 13700210_Avg_Allowable AMERIHEALTH CARITAS PA COMMUNITY HEALTHCHOICES 13800234_Avg_Allowable AMERIHEALTH CARITAS PA COMMUNITY HEALTHCHOICES 13900060_Avg_Allowable AMERIHEALTH CARITAS PA COMMUNITY HEALTHCHOICES 13900087_Avg_Allowable AMERIHEALTH CARITAS PA COMMUNITY HEALTHCHOICES 13900121_Avg_Allowable AMERIHEALTH CARITAS PA COMMUNITY HEALTHCHOICES 13900319_Avg_Allowable AMERIHEALTH CARITAS PA COMMUNITY HEALTHCHOICES 14000152_Avg_Allowable AMERIHEALTH CARITAS PA COMMUNITY HEALTHCHOICES 14200071_Avg_Allowable AMERIHEALTH CARITAS PA COMMUNITY HEALTHCHOICES 14300161_Avg_Allowable AMERIHEALTH CARITAS PA COMMUNITY HEALTHCHOICES 14300191_Avg_Allowable AMERIHEALTH CARITAS PA COMMUNITY HEALTHCHOICES 14300391_Avg_Allowable AMERIHEALTH CARITAS PA COMMUNITY HEALTHCHOICES 14400232_Avg_Allowable AMERIHEALTH CARITAS PA COMMUNITY HEALTHCHOICES 14600288_Avg_Allowable AMERIHEALTH CARITAS PA COMMUNITY HEALTHCHOICES 14600293_Avg_Allowable AMERIHEALTH CARITAS PA COMMUNITY HEALTHCHOICES 14700298_Avg_Allowable AMERIHEALTH CARITAS PA COMMUNITY HEALTHCHOICES 14800171_Avg_Allowable AMERIHEALTH CARITAS PA COMMUNITY HEALTHCHOICES 14800172_Avg_Allowable AMERIHEALTH CARITAS PA COMMUNITY HEALTHCHOICES 15000279_Avg_Allowable AMERIHEALTH CARITAS PA COMMUNITY HEALTHCHOICES 15100346_Avg_Allowable AMERIHEALTH CARITAS PA COMMUNITY HEALTHCHOICES 15300281_Avg_Allowable AMERIHEALTH CARITAS PA COMMUNITY HEALTHCHOICES 15400012_Avg_Allowable AMERIHEALTH CARITAS PA COMMUNITY HEALTHCHOICES 15400177_Avg_Allowable AMERIHEALTH CARITAS PA COMMUNITY HEALTHCHOICES 15600116_Avg_Allowable AMERIHEALTH CARITAS PENNSYLVANIA 10100064_Avg_Allowable AMERIHEALTH CARITAS PENNSYLVANIA 10200039_Avg_Allowable AMERIHEALTH CARITAS PENNSYLVANIA 10200107_Avg_Allowable AMERIHEALTH CARITAS PENNSYLVANIA 10200112_Avg_Allowable AMERIHEALTH CARITAS PENNSYLVANIA 10200113_Avg_Allowable AMERIHEALTH CARITAS PENNSYLVANIA 10200181_Avg_Allowable AMERIHEALTH CARITAS PENNSYLVANIA 10200182_Avg_Allowable AMERIHEALTH CARITAS PENNSYLVANIA 10200183_Avg_Allowable AMERIHEALTH CARITAS PENNSYLVANIA 10200184_Avg_Allowable AMERIHEALTH CARITAS PENNSYLVANIA 10200185_Avg_Allowable AMERIHEALTH CARITAS PENNSYLVANIA 10200267_Avg_Allowable AMERIHEALTH CARITAS PENNSYLVANIA 10200268_Avg_Allowable AMERIHEALTH CARITAS PENNSYLVANIA 10300065_Avg_Allowable AMERIHEALTH CARITAS PENNSYLVANIA 10300216_Avg_Allowable AMERIHEALTH CARITAS PENNSYLVANIA 10300217_Avg_Allowable AMERIHEALTH CARITAS PENNSYLVANIA 10300262_Avg_Allowable AMERIHEALTH CARITAS PENNSYLVANIA 10300270_Avg_Allowable AMERIHEALTH CARITAS PENNSYLVANIA 10500018_Avg_Allowable AMERIHEALTH CARITAS PENNSYLVANIA 10500019_Avg_Allowable AMERIHEALTH CARITAS PENNSYLVANIA 10500079_Avg_Allowable AMERIHEALTH CARITAS PENNSYLVANIA 10500083_Avg_Allowable AMERIHEALTH CARITAS PENNSYLVANIA 10500277_Avg_Allowable AMERIHEALTH CARITAS PENNSYLVANIA 10600051_Avg_Allowable AMERIHEALTH CARITAS PENNSYLVANIA 10600065_Avg_Allowable AMERIHEALTH CARITAS PENNSYLVANIA 10600250_Avg_Allowable AMERIHEALTH CARITAS PENNSYLVANIA 10600251_Avg_Allowable AMERIHEALTH CARITAS PENNSYLVANIA 10600395_Avg_Allowable AMERIHEALTH CARITAS PENNSYLVANIA 10700014_Avg_Allowable AMERIHEALTH CARITAS PENNSYLVANIA 10700112_Avg_Allowable AMERIHEALTH CARITAS PENNSYLVANIA 10700132_Avg_Allowable AMERIHEALTH CARITAS PENNSYLVANIA 10700133_Avg_Allowable AMERIHEALTH CARITAS PENNSYLVANIA 10700196_Avg_Allowable AMERIHEALTH CARITAS PENNSYLVANIA 10700323_Avg_Allowable AMERIHEALTH CARITAS PENNSYLVANIA 10800056_Avg_Allowable AMERIHEALTH CARITAS PENNSYLVANIA 10800084_Avg_Allowable AMERIHEALTH CARITAS PENNSYLVANIA 10800157_Avg_Allowable AMERIHEALTH CARITAS PENNSYLVANIA 10800158_Avg_Allowable AMERIHEALTH CARITAS PENNSYLVANIA 10800192_Avg_Allowable AMERIHEALTH CARITAS PENNSYLVANIA 10800203_Avg_Allowable AMERIHEALTH CARITAS PENNSYLVANIA 10800219_Avg_Allowable AMERIHEALTH CARITAS PENNSYLVANIA 10800220_Avg_Allowable AMERIHEALTH CARITAS PENNSYLVANIA 10900160_Avg_Allowable AMERIHEALTH CARITAS PENNSYLVANIA 11000127_Avg_Allowable AMERIHEALTH CARITAS PENNSYLVANIA 11000188_Avg_Allowable AMERIHEALTH CARITAS PENNSYLVANIA 11000189_Avg_Allowable AMERIHEALTH CARITAS PENNSYLVANIA 11000253_Avg_Allowable AMERIHEALTH CARITAS PENNSYLVANIA 11000255_Avg_Allowable AMERIHEALTH CARITAS PENNSYLVANIA 11100050_Avg_Allowable AMERIHEALTH CARITAS PENNSYLVANIA 11100056_Avg_Allowable AMERIHEALTH CARITAS PENNSYLVANIA 11100059_Avg_Allowable AMERIHEALTH CARITAS PENNSYLVANIA 11100078_Avg_Allowable AMERIHEALTH CARITAS PENNSYLVANIA 11100122_Avg_Allowable AMERIHEALTH CARITAS PENNSYLVANIA 11100123_Avg_Allowable AMERIHEALTH CARITAS PENNSYLVANIA 11100142_Avg_Allowable AMERIHEALTH CARITAS PENNSYLVANIA 11100180_Avg_Allowable AMERIHEALTH CARITAS PENNSYLVANIA 11100184_Avg_Allowable AMERIHEALTH CARITAS PENNSYLVANIA 11100186_Avg_Allowable AMERIHEALTH CARITAS PENNSYLVANIA 11100286_Avg_Allowable AMERIHEALTH CARITAS PENNSYLVANIA 11100287_Avg_Allowable AMERIHEALTH CARITAS PENNSYLVANIA 11200056_Avg_Allowable AMERIHEALTH CARITAS PENNSYLVANIA 11200144_Avg_Allowable AMERIHEALTH CARITAS PENNSYLVANIA 11200206_Avg_Allowable AMERIHEALTH CARITAS PENNSYLVANIA 11200297_Avg_Allowable AMERIHEALTH CARITAS PENNSYLVANIA 11200304_Avg_Allowable AMERIHEALTH CARITAS PENNSYLVANIA 11300293_Avg_Allowable AMERIHEALTH CARITAS PENNSYLVANIA 11500074_Avg_Allowable AMERIHEALTH CARITAS PENNSYLVANIA 11500117_Avg_Allowable AMERIHEALTH CARITAS PENNSYLVANIA 11500170_Avg_Allowable AMERIHEALTH CARITAS PENNSYLVANIA 11500202_Avg_Allowable AMERIHEALTH CARITAS PENNSYLVANIA 11500211_Avg_Allowable AMERIHEALTH CARITAS PENNSYLVANIA 11500289_Avg_Allowable AMERIHEALTH CARITAS PENNSYLVANIA 11500290_Avg_Allowable AMERIHEALTH CARITAS PENNSYLVANIA 11500330_Avg_Allowable AMERIHEALTH CARITAS PENNSYLVANIA 11600065_Avg_Allowable AMERIHEALTH CARITAS PENNSYLVANIA 11600137_Avg_Allowable AMERIHEALTH CARITAS PENNSYLVANIA 11600175_Avg_Allowable AMERIHEALTH CARITAS PENNSYLVANIA 11600249_Avg_Allowable AMERIHEALTH CARITAS PENNSYLVANIA 11600250_Avg_Allowable AMERIHEALTH CARITAS PENNSYLVANIA 11600272_Avg_Allowable AMERIHEALTH CARITAS PENNSYLVANIA 11700113_Avg_Allowable AMERIHEALTH CARITAS PENNSYLVANIA 11700114_Avg_Allowable AMERIHEALTH CARITAS PENNSYLVANIA 11700183_Avg_Allowable AMERIHEALTH CARITAS PENNSYLVANIA 11700210_Avg_Allowable AMERIHEALTH CARITAS PENNSYLVANIA 11700213_Avg_Allowable AMERIHEALTH CARITAS PENNSYLVANIA 11700241_Avg_Allowable AMERIHEALTH CARITAS PENNSYLVANIA 11700242_Avg_Allowable AMERIHEALTH CARITAS PENNSYLVANIA 11700244_Avg_Allowable AMERIHEALTH CARITAS PENNSYLVANIA 11700257_Avg_Allowable AMERIHEALTH CARITAS PENNSYLVANIA 11800183_Avg_Allowable AMERIHEALTH CARITAS PENNSYLVANIA 11800248_Avg_Allowable AMERIHEALTH CARITAS PENNSYLVANIA 11900223_Avg_Allowable AMERIHEALTH CARITAS PENNSYLVANIA 12100032_Avg_Allowable AMERIHEALTH CARITAS PENNSYLVANIA 12100311_Avg_Allowable AMERIHEALTH CARITAS PENNSYLVANIA 12100312_Avg_Allowable AMERIHEALTH CARITAS PENNSYLVANIA 12100340_Avg_Allowable AMERIHEALTH CARITAS PENNSYLVANIA 12200187_Avg_Allowable AMERIHEALTH CARITAS PENNSYLVANIA 12200188_Avg_Allowable AMERIHEALTH CARITAS PENNSYLVANIA 12200414_Avg_Allowable AMERIHEALTH CARITAS PENNSYLVANIA 12300002_Avg_Allowable AMERIHEALTH CARITAS PENNSYLVANIA 12400092_Avg_Allowable AMERIHEALTH CARITAS PENNSYLVANIA 12400093_Avg_Allowable AMERIHEALTH CARITAS PENNSYLVANIA 12400099_Avg_Allowable AMERIHEALTH CARITAS PENNSYLVANIA 12500142_Avg_Allowable AMERIHEALTH CARITAS PENNSYLVANIA 12500173_Avg_Allowable AMERIHEALTH CARITAS PENNSYLVANIA 12500203_Avg_Allowable AMERIHEALTH CARITAS PENNSYLVANIA 12500335_Avg_Allowable AMERIHEALTH CARITAS PENNSYLVANIA 12600069_Avg_Allowable AMERIHEALTH CARITAS PENNSYLVANIA 12600247_Avg_Allowable AMERIHEALTH CARITAS PENNSYLVANIA 12700013_Avg_Allowable AMERIHEALTH CARITAS PENNSYLVANIA 12700014_Avg_Allowable AMERIHEALTH CARITAS PENNSYLVANIA 12700150_Avg_Allowable AMERIHEALTH CARITAS PENNSYLVANIA 12700151_Avg_Allowable AMERIHEALTH CARITAS PENNSYLVANIA 12700271_Avg_Allowable AMERIHEALTH CARITAS PENNSYLVANIA 12700355_Avg_Allowable AMERIHEALTH CARITAS PENNSYLVANIA 12800091_Avg_Allowable AMERIHEALTH CARITAS PENNSYLVANIA 12900125_Avg_Allowable AMERIHEALTH CARITAS PENNSYLVANIA 12900229_Avg_Allowable AMERIHEALTH CARITAS PENNSYLVANIA 12900252_Avg_Allowable AMERIHEALTH CARITAS PENNSYLVANIA 13000134_Avg_Allowable AMERIHEALTH CARITAS PENNSYLVANIA 13000135_Avg_Allowable AMERIHEALTH CARITAS PENNSYLVANIA 13000274_Avg_Allowable AMERIHEALTH CARITAS PENNSYLVANIA 13000275_Avg_Allowable AMERIHEALTH CARITAS PENNSYLVANIA 13100126_Avg_Allowable AMERIHEALTH CARITAS PENNSYLVANIA 13100158_Avg_Allowable AMERIHEALTH CARITAS PENNSYLVANIA 13100159_Avg_Allowable AMERIHEALTH CARITAS PENNSYLVANIA 13100163_Avg_Allowable AMERIHEALTH CARITAS PENNSYLVANIA 13100301_Avg_Allowable AMERIHEALTH CARITAS PENNSYLVANIA 13100302_Avg_Allowable AMERIHEALTH CARITAS PENNSYLVANIA 13200103_Avg_Allowable AMERIHEALTH CARITAS PENNSYLVANIA 13200141_Avg_Allowable AMERIHEALTH CARITAS PENNSYLVANIA 13200330_Avg_Allowable AMERIHEALTH CARITAS PENNSYLVANIA 13200331_Avg_Allowable AMERIHEALTH CARITAS PENNSYLVANIA 13300088_Avg_Allowable AMERIHEALTH CARITAS PENNSYLVANIA 13300178_Avg_Allowable AMERIHEALTH CARITAS PENNSYLVANIA 13300187_Avg_Allowable AMERIHEALTH CARITAS PENNSYLVANIA 13300188_Avg_Allowable AMERIHEALTH CARITAS PENNSYLVANIA 13300236_Avg_Allowable AMERIHEALTH CARITAS PENNSYLVANIA 13300237_Avg_Allowable AMERIHEALTH CARITAS PENNSYLVANIA 13400039_Avg_Allowable AMERIHEALTH CARITAS PENNSYLVANIA 13400076_Avg_Allowable AMERIHEALTH CARITAS PENNSYLVANIA 13400077_Avg_Allowable AMERIHEALTH CARITAS PENNSYLVANIA 13400099_Avg_Allowable AMERIHEALTH CARITAS PENNSYLVANIA 13400100_Avg_Allowable AMERIHEALTH CARITAS PENNSYLVANIA 13400227_Avg_Allowable AMERIHEALTH CARITAS PENNSYLVANIA 13500153_Avg_Allowable AMERIHEALTH CARITAS PENNSYLVANIA 13500154_Avg_Allowable AMERIHEALTH CARITAS PENNSYLVANIA 13500176_Avg_Allowable AMERIHEALTH CARITAS PENNSYLVANIA 13600112_Avg_Allowable AMERIHEALTH CARITAS PENNSYLVANIA 13600276_Avg_Allowable AMERIHEALTH CARITAS PENNSYLVANIA 13700058_Avg_Allowable AMERIHEALTH CARITAS PENNSYLVANIA 13700256_Avg_Allowable AMERIHEALTH CARITAS PENNSYLVANIA 13800146_Avg_Allowable AMERIHEALTH CARITAS PENNSYLVANIA 13800245_Avg_Allowable AMERIHEALTH CARITAS PENNSYLVANIA 13800246_Avg_Allowable AMERIHEALTH CARITAS PENNSYLVANIA 13900030_Avg_Allowable AMERIHEALTH CARITAS PENNSYLVANIA 13900033_Avg_Allowable AMERIHEALTH CARITAS PENNSYLVANIA 13900113_Avg_Allowable AMERIHEALTH CARITAS PENNSYLVANIA 13900114_Avg_Allowable AMERIHEALTH CARITAS PENNSYLVANIA 14000180_Avg_Allowable AMERIHEALTH CARITAS PENNSYLVANIA 14000205_Avg_Allowable AMERIHEALTH CARITAS PENNSYLVANIA 14000206_Avg_Allowable AMERIHEALTH CARITAS PENNSYLVANIA 14000221_Avg_Allowable AMERIHEALTH CARITAS PENNSYLVANIA 14000237_Avg_Allowable AMERIHEALTH CARITAS PENNSYLVANIA 14100127_Avg_Allowable AMERIHEALTH CARITAS PENNSYLVANIA 14100128_Avg_Allowable AMERIHEALTH CARITAS PENNSYLVANIA 14100255_Avg_Allowable AMERIHEALTH CARITAS PENNSYLVANIA 14100271_Avg_Allowable AMERIHEALTH CARITAS PENNSYLVANIA 14200032_Avg_Allowable AMERIHEALTH CARITAS PENNSYLVANIA 14200153_Avg_Allowable AMERIHEALTH CARITAS PENNSYLVANIA 14200427_Avg_Allowable AMERIHEALTH CARITAS PENNSYLVANIA 14400061_Avg_Allowable AMERIHEALTH CARITAS PENNSYLVANIA 14400062_Avg_Allowable AMERIHEALTH CARITAS PENNSYLVANIA 14500057_Avg_Allowable AMERIHEALTH CARITAS PENNSYLVANIA 14500180_Avg_Allowable AMERIHEALTH CARITAS PENNSYLVANIA 14500190_Avg_Allowable AMERIHEALTH CARITAS PENNSYLVANIA 14500279_Avg_Allowable AMERIHEALTH CARITAS PENNSYLVANIA 14500280_Avg_Allowable AMERIHEALTH CARITAS PENNSYLVANIA 14600155_Avg_Allowable AMERIHEALTH CARITAS PENNSYLVANIA 14600189_Avg_Allowable AMERIHEALTH CARITAS PENNSYLVANIA 14600275_Avg_Allowable AMERIHEALTH CARITAS PENNSYLVANIA 14600276_Avg_Allowable AMERIHEALTH CARITAS PENNSYLVANIA 14700083_Avg_Allowable AMERIHEALTH CARITAS PENNSYLVANIA 14700084_Avg_Allowable AMERIHEALTH CARITAS PENNSYLVANIA 14800011_Avg_Allowable AMERIHEALTH CARITAS PENNSYLVANIA 14800033_Avg_Allowable AMERIHEALTH CARITAS PENNSYLVANIA 14800111_Avg_Allowable AMERIHEALTH CARITAS PENNSYLVANIA 14800112_Avg_Allowable AMERIHEALTH CARITAS PENNSYLVANIA 14800148_Avg_Allowable AMERIHEALTH CARITAS PENNSYLVANIA 14800232_Avg_Allowable AMERIHEALTH CARITAS PENNSYLVANIA 14800233_Avg_Allowable AMERIHEALTH CARITAS PENNSYLVANIA 14800247_Avg_Allowable AMERIHEALTH CARITAS PENNSYLVANIA 14900029_Avg_Allowable AMERIHEALTH CARITAS PENNSYLVANIA 14900089_Avg_Allowable AMERIHEALTH CARITAS PENNSYLVANIA 14900090_Avg_Allowable AMERIHEALTH CARITAS PENNSYLVANIA 14900096_Avg_Allowable AMERIHEALTH CARITAS PENNSYLVANIA 14900097_Avg_Allowable AMERIHEALTH CARITAS PENNSYLVANIA 15000020_Avg_Allowable AMERIHEALTH CARITAS PENNSYLVANIA 15000021_Avg_Allowable AMERIHEALTH CARITAS PENNSYLVANIA 15000111_Avg_Allowable AMERIHEALTH CARITAS PENNSYLVANIA 15100080_Avg_Allowable AMERIHEALTH CARITAS PENNSYLVANIA 15100158_Avg_Allowable AMERIHEALTH CARITAS PENNSYLVANIA 15100240_Avg_Allowable AMERIHEALTH CARITAS PENNSYLVANIA 15200040_Avg_Allowable AMERIHEALTH CARITAS PENNSYLVANIA 15200143_Avg_Allowable AMERIHEALTH CARITAS PENNSYLVANIA 15200144_Avg_Allowable AMERIHEALTH CARITAS PENNSYLVANIA 15200181_Avg_Allowable AMERIHEALTH CARITAS PENNSYLVANIA 15200192_Avg_Allowable AMERIHEALTH CARITAS PENNSYLVANIA 15300011_Avg_Allowable AMERIHEALTH CARITAS PENNSYLVANIA 15300237_Avg_Allowable AMERIHEALTH CARITAS PENNSYLVANIA 15300298_Avg_Allowable AMERIHEALTH CARITAS PENNSYLVANIA 15300299_Avg_Allowable AMERIHEALTH CARITAS PENNSYLVANIA 15400079_Avg_Allowable AMERIHEALTH CARITAS PENNSYLVANIA 15400087_Avg_Allowable AMERIHEALTH CARITAS PENNSYLVANIA 15400147_Avg_Allowable AMERIHEALTH CARITAS PENNSYLVANIA 15500062_Avg_Allowable AMERIHEALTH CARITAS PENNSYLVANIA 15500063_Avg_Allowable AMERIHEALTH CARITAS PENNSYLVANIA 15600002_Avg_Allowable AMERIHEALTH CARITAS VIP PA COMMUNITY HEALTHCHOICES 11500219_Avg_Allowable AMERIHEALTH CARITAS VIP PA COMMUNITY HEALTHCHOICES 12400034_Avg_Allowable AMERIHEALTH CARITAS VIP PA COMMUNITY HEALTHCHOICES 13100347_Avg_Allowable AMERIHEALTH INC_Avg_Allowable BAC INTERNATIONAL HEALTH FUND_Avg_Allowable BLAISE ALEXANDER FAMILY DLRSHP_Avg_Allowable BUCKNELL UNIVERSITY_Avg_Allowable CAPITAL BLUE CROSS_Avg_Allowable CAPITAL BLUECROSS_Avg_Allowable CAREGIVERS AMERICA_Avg_Allowable CIGNA HEALTH AND LIFE INSURANCE COMPANY DPP (POS)_Avg_Allowable CIGNA HEALTH AND LIFE INSURANCE COMPANY OPEN ACCESS PLUS_Avg_Allowable CIGNA HEALTH AND LIFE INSURANCE COMPANY OPEN ACCESS PLUS IN-NETWORK_Avg_Allowable CIGNA HEALTH AND LIFE INSURANCE COMPANY PPO_Avg_Allowable CIGNA HLTH LIFE OPEN ACCESS PLUS_Avg_Allowable CONAGRA FOODS INC_Avg_Allowable COUNTRY CUPBOARD INC_Avg_Allowable DEER PARK LUMBER INC_Avg_Allowable DEPARTMENT OF HUMAN SERVICES_Avg_Allowable DEPARTMENT OF PUBLIC WELFARE_Avg_Allowable EVANGELICAL COMMUNITY HOSPITAL_Avg_Allowable GEISINGER HEALTH PLAN_Avg_Allowable GEISINGER HEALTH SYSTEM_Avg_Allowable GEISINGER INDEMNITY INS CO_Avg_Allowable GEISINGER QUALITY OPTIONS INC_Avg_Allowable GREATWESTHEALTHCARE-CIGNA EPO CONNECT_Avg_Allowable GREATWESTHEALTHCARE-CIGNA HMO CONNECT_Avg_Allowable GREATWESTHEALTHCARE-CIGNA OPEN ACCESS PLUS_Avg_Allowable HIGHMARK BLUE SHIELD 41_Avg_Allowable HIGHMARK BLUE SHIELD 45_Avg_Allowable HIGHMARK BLUE SHIELD 72_Avg_Allowable HIGHMARK BLUE SHIELD A1_Avg_Allowable HIGHMARK BLUE SHIELD M7_Avg_Allowable HIGHMARK HEALTH CARE ACCOUNT 41_Avg_Allowable HIGHMARK SENIOR HEALTH COMPANY 45_Avg_Allowable HIGHMARK SENIOR HEALTH COMPANY 72_Avg_Allowable HIGHMARK SENIOR HEALTH COMPANY A1_Avg_Allowable HIGHMARK SENIOR HEALTH COMPANY M1_Avg_Allowable HIGHMARK SENIOR HEALTH COMPANY M7_Avg_Allowable HUMANA INC MEDICAL HEALTH MAINTENANCE ORG_Avg_Allowable HUMANA INC MEDICARE ADVANTAGE HMO_Avg_Allowable HUMANA INC MEDICARE ADVANTAGE HMO FLORIDA_Avg_Allowable HUMANA INC MEDICARE ADVANTAGE PFFS_Avg_Allowable HUMANA INC MEDICARE ADVANTAGE PPO_Avg_Allowable HUMANA INC NATIONAL POINT OF SERVICE_Avg_Allowable JDK MANAGEMENT_Avg_Allowable KANE WAREHOUSING LLC_Avg_Allowable LIFE GEISINGER_Avg_Allowable MEDICO CONSTRUCTION_Avg_Allowable NOVITAS SOLUTIONS_Avg_Allowable PA EMP BEN TRUST FUND - PEBTF_Avg_Allowable PA TRUST_Avg_Allowable PMF INDUSTRIES_Avg_Allowable PRESS ENTERPRISE_Avg_Allowable SIGNATURE BUILDING SYSTEMS_Avg_Allowable SMALL GROUP TPA-SPEC AND AGG_Avg_Allowable STEVE SHANNON TIRE_Avg_Allowable SUSQUEHANNA UNIVERSITY_Avg_Allowable UNION COUNTY_Avg_Allowable VERIZON_Avg_Allowable WISE FOODS_Avg_Allowable'"
      ]
     },
     "execution_count": 32,
     "metadata": {},
     "output_type": "execute_result"
    }
   ],
   "source": [
    "%%time\n",
    "\n",
    "read_excel('test.xlsx', 5)"
   ]
  },
  {
   "cell_type": "code",
   "execution_count": 2,
   "metadata": {},
   "outputs": [],
   "source": [
    "import pandas as pd"
   ]
  },
  {
   "cell_type": "code",
   "execution_count": 4,
   "metadata": {
    "collapsed": true,
    "jupyter": {
     "outputs_hidden": true
    },
    "tags": []
   },
   "outputs": [
    {
     "name": "stdout",
     "output_type": "stream",
     "text": [
      "CPU times: user 20.8 s, sys: 172 ms, total: 20.9 s\n",
      "Wall time: 21 s\n"
     ]
    },
    {
     "data": {
      "text/html": [
       "<div>\n",
       "<style scoped>\n",
       "    .dataframe tbody tr th:only-of-type {\n",
       "        vertical-align: middle;\n",
       "    }\n",
       "\n",
       "    .dataframe tbody tr th {\n",
       "        vertical-align: top;\n",
       "    }\n",
       "\n",
       "    .dataframe thead th {\n",
       "        text-align: right;\n",
       "    }\n",
       "</style>\n",
       "<table border=\"1\" class=\"dataframe\">\n",
       "  <thead>\n",
       "    <tr style=\"text-align: right;\">\n",
       "      <th></th>\n",
       "      <th>Unnamed: 0</th>\n",
       "      <th>Unnamed: 1</th>\n",
       "      <th>Unnamed: 2</th>\n",
       "      <th>Unnamed: 3</th>\n",
       "      <th>Unnamed: 4</th>\n",
       "      <th>Unnamed: 5</th>\n",
       "      <th>Unnamed: 6</th>\n",
       "      <th>Unnamed: 7</th>\n",
       "      <th>Unnamed: 8</th>\n",
       "      <th>Unnamed: 9</th>\n",
       "      <th>...</th>\n",
       "      <th>Unnamed: 468</th>\n",
       "      <th>Unnamed: 469</th>\n",
       "      <th>Unnamed: 470</th>\n",
       "      <th>Unnamed: 471</th>\n",
       "      <th>Unnamed: 472</th>\n",
       "      <th>Unnamed: 473</th>\n",
       "      <th>Unnamed: 474</th>\n",
       "      <th>Unnamed: 475</th>\n",
       "      <th>Unnamed: 476</th>\n",
       "      <th>Unnamed: 477</th>\n",
       "    </tr>\n",
       "  </thead>\n",
       "  <tbody>\n",
       "    <tr>\n",
       "      <th>0</th>\n",
       "      <td>NaN</td>\n",
       "      <td>Evangelical Community Hospital</td>\n",
       "      <td>NaN</td>\n",
       "      <td>NaN</td>\n",
       "      <td>NaN</td>\n",
       "      <td>NaN</td>\n",
       "      <td>NaN</td>\n",
       "      <td>NaN</td>\n",
       "      <td>NaN</td>\n",
       "      <td>NaN</td>\n",
       "      <td>...</td>\n",
       "      <td>NaN</td>\n",
       "      <td>NaN</td>\n",
       "      <td>NaN</td>\n",
       "      <td>NaN</td>\n",
       "      <td>NaN</td>\n",
       "      <td>NaN</td>\n",
       "      <td>NaN</td>\n",
       "      <td>NaN</td>\n",
       "      <td>NaN</td>\n",
       "      <td>NaN</td>\n",
       "    </tr>\n",
       "    <tr>\n",
       "      <th>1</th>\n",
       "      <td>NaN</td>\n",
       "      <td>Tax Identification Number:  24-0795411</td>\n",
       "      <td>NaN</td>\n",
       "      <td>NaN</td>\n",
       "      <td>NaN</td>\n",
       "      <td>NaN</td>\n",
       "      <td>NaN</td>\n",
       "      <td>NaN</td>\n",
       "      <td>NaN</td>\n",
       "      <td>NaN</td>\n",
       "      <td>...</td>\n",
       "      <td>NaN</td>\n",
       "      <td>NaN</td>\n",
       "      <td>NaN</td>\n",
       "      <td>NaN</td>\n",
       "      <td>NaN</td>\n",
       "      <td>NaN</td>\n",
       "      <td>NaN</td>\n",
       "      <td>NaN</td>\n",
       "      <td>NaN</td>\n",
       "      <td>NaN</td>\n",
       "    </tr>\n",
       "    <tr>\n",
       "      <th>2</th>\n",
       "      <td>NaN</td>\n",
       "      <td>Standard Charges</td>\n",
       "      <td>NaN</td>\n",
       "      <td>NaN</td>\n",
       "      <td>NaN</td>\n",
       "      <td>NaN</td>\n",
       "      <td>NaN</td>\n",
       "      <td>NaN</td>\n",
       "      <td>NaN</td>\n",
       "      <td>NaN</td>\n",
       "      <td>...</td>\n",
       "      <td>NaN</td>\n",
       "      <td>NaN</td>\n",
       "      <td>NaN</td>\n",
       "      <td>NaN</td>\n",
       "      <td>NaN</td>\n",
       "      <td>NaN</td>\n",
       "      <td>NaN</td>\n",
       "      <td>NaN</td>\n",
       "      <td>NaN</td>\n",
       "      <td>NaN</td>\n",
       "    </tr>\n",
       "    <tr>\n",
       "      <th>3</th>\n",
       "      <td>Hospital Procedure Code</td>\n",
       "      <td>HCPCS Code</td>\n",
       "      <td>Description</td>\n",
       "      <td>Code_Type</td>\n",
       "      <td>Package/Line_Level</td>\n",
       "      <td>Average Charge</td>\n",
       "      <td>Min_Allowable_835</td>\n",
       "      <td>Max_Allowable_835</td>\n",
       "      <td>Avg_Allowable_835</td>\n",
       "      <td>Self-Pay Charge - 10% Discount</td>\n",
       "      <td>...</td>\n",
       "      <td>PA TRUST_Avg_Allowable</td>\n",
       "      <td>PMF INDUSTRIES_Avg_Allowable</td>\n",
       "      <td>PRESS ENTERPRISE_Avg_Allowable</td>\n",
       "      <td>SIGNATURE BUILDING SYSTEMS_Avg_Allowable</td>\n",
       "      <td>SMALL GROUP TPA-SPEC AND AGG_Avg_Allowable</td>\n",
       "      <td>STEVE SHANNON TIRE_Avg_Allowable</td>\n",
       "      <td>SUSQUEHANNA UNIVERSITY_Avg_Allowable</td>\n",
       "      <td>UNION COUNTY_Avg_Allowable</td>\n",
       "      <td>VERIZON_Avg_Allowable</td>\n",
       "      <td>WISE FOODS_Avg_Allowable</td>\n",
       "    </tr>\n",
       "    <tr>\n",
       "      <th>4</th>\n",
       "      <td>2019564</td>\n",
       "      <td>10005</td>\n",
       "      <td>Fine needle aspiration of first lesion using u...</td>\n",
       "      <td>CPT/HCPCS</td>\n",
       "      <td>Line</td>\n",
       "      <td>2640.81</td>\n",
       "      <td>70.54</td>\n",
       "      <td>3956</td>\n",
       "      <td>2018.06</td>\n",
       "      <td>2376.729</td>\n",
       "      <td>...</td>\n",
       "      <td>NaN</td>\n",
       "      <td>NaN</td>\n",
       "      <td>NaN</td>\n",
       "      <td>NaN</td>\n",
       "      <td>NaN</td>\n",
       "      <td>NaN</td>\n",
       "      <td>NaN</td>\n",
       "      <td>NaN</td>\n",
       "      <td>NaN</td>\n",
       "      <td>NaN</td>\n",
       "    </tr>\n",
       "  </tbody>\n",
       "</table>\n",
       "<p>5 rows × 478 columns</p>\n",
       "</div>"
      ],
      "text/plain": [
       "                Unnamed: 0                              Unnamed: 1  \\\n",
       "0                      NaN          Evangelical Community Hospital   \n",
       "1                      NaN  Tax Identification Number:  24-0795411   \n",
       "2                      NaN                        Standard Charges   \n",
       "3  Hospital Procedure Code                              HCPCS Code   \n",
       "4                  2019564                                   10005   \n",
       "\n",
       "                                          Unnamed: 2 Unnamed: 3  \\\n",
       "0                                                NaN        NaN   \n",
       "1                                                NaN        NaN   \n",
       "2                                                NaN        NaN   \n",
       "3                                        Description  Code_Type   \n",
       "4  Fine needle aspiration of first lesion using u...  CPT/HCPCS   \n",
       "\n",
       "           Unnamed: 4      Unnamed: 5         Unnamed: 6         Unnamed: 7  \\\n",
       "0                 NaN             NaN                NaN                NaN   \n",
       "1                 NaN             NaN                NaN                NaN   \n",
       "2                 NaN             NaN                NaN                NaN   \n",
       "3  Package/Line_Level  Average Charge  Min_Allowable_835  Max_Allowable_835   \n",
       "4                Line         2640.81              70.54               3956   \n",
       "\n",
       "          Unnamed: 8                      Unnamed: 9  ...  \\\n",
       "0                NaN                             NaN  ...   \n",
       "1                NaN                             NaN  ...   \n",
       "2                NaN                             NaN  ...   \n",
       "3  Avg_Allowable_835  Self-Pay Charge - 10% Discount  ...   \n",
       "4            2018.06                        2376.729  ...   \n",
       "\n",
       "             Unnamed: 468                  Unnamed: 469  \\\n",
       "0                     NaN                           NaN   \n",
       "1                     NaN                           NaN   \n",
       "2                     NaN                           NaN   \n",
       "3  PA TRUST_Avg_Allowable  PMF INDUSTRIES_Avg_Allowable   \n",
       "4                     NaN                           NaN   \n",
       "\n",
       "                     Unnamed: 470                              Unnamed: 471  \\\n",
       "0                             NaN                                       NaN   \n",
       "1                             NaN                                       NaN   \n",
       "2                             NaN                                       NaN   \n",
       "3  PRESS ENTERPRISE_Avg_Allowable  SIGNATURE BUILDING SYSTEMS_Avg_Allowable   \n",
       "4                             NaN                                       NaN   \n",
       "\n",
       "                                 Unnamed: 472  \\\n",
       "0                                         NaN   \n",
       "1                                         NaN   \n",
       "2                                         NaN   \n",
       "3  SMALL GROUP TPA-SPEC AND AGG_Avg_Allowable   \n",
       "4                                         NaN   \n",
       "\n",
       "                       Unnamed: 473                          Unnamed: 474  \\\n",
       "0                               NaN                                   NaN   \n",
       "1                               NaN                                   NaN   \n",
       "2                               NaN                                   NaN   \n",
       "3  STEVE SHANNON TIRE_Avg_Allowable  SUSQUEHANNA UNIVERSITY_Avg_Allowable   \n",
       "4                               NaN                                   NaN   \n",
       "\n",
       "                 Unnamed: 475           Unnamed: 476              Unnamed: 477  \n",
       "0                         NaN                    NaN                       NaN  \n",
       "1                         NaN                    NaN                       NaN  \n",
       "2                         NaN                    NaN                       NaN  \n",
       "3  UNION COUNTY_Avg_Allowable  VERIZON_Avg_Allowable  WISE FOODS_Avg_Allowable  \n",
       "4                         NaN                    NaN                       NaN  \n",
       "\n",
       "[5 rows x 478 columns]"
      ]
     },
     "execution_count": 4,
     "metadata": {},
     "output_type": "execute_result"
    }
   ],
   "source": [
    "%%time\n",
    "\n",
    "pd.read_excel('test.xlsx').head()"
   ]
  },
  {
   "cell_type": "code",
   "execution_count": 9,
   "metadata": {},
   "outputs": [],
   "source": [
    "import openpyxl"
   ]
  },
  {
   "cell_type": "code",
   "execution_count": 16,
   "metadata": {
    "collapsed": true,
    "jupyter": {
     "outputs_hidden": true
    },
    "tags": []
   },
   "outputs": [
    {
     "name": "stdout",
     "output_type": "stream",
     "text": [
      "(None, None, None, None, None, None, None, None, None, None, None, None, None, None, None, None, None, None, None, None, None, None, None, None, None, None, None, None, None, None, None, None, None, None, None, None, None, None, None, None, None, None, None, None, None, None, None, None, None, None, None, None, None, None, None, None, None, None, None, None, None, None, None, None, None, None, None, None, None, None, None, None, None, None, None, None, None, None, None, None, None, None, None, None, None, None, None, None, None, None, None, None, None, None, None, None, None, None, None, None, None, None, None, None, None, None, None, None, None, None, None, None, None, None, None, None, None, None, None, None, None, None, None, None, None, None, None, None, None, None, None, None, None, None, None, None, None, None, None, None, None, None, None, None, None, None, None, None, None, None, None, None, None, None, None, None, None, None, None, None, None, None, None, None, None, None, None, None, None, None, None, None, None, None, None, None, None, None, None, None, None, None, None, None, None, None, None, None, None, None, None, None, None, None, None, None, None, None, None, None, None, None, None, None, None, None, None, None, None, None, None, None, None, None, None, None, None, None, None, None, None, None, None, None, None, None, None, None, None, None, None, None, None, None, None, None, None, None, None, None, None, None, None, None, None, None, None, None, None, None, None, None, None, None, None, None, None, None, None, None, None, None, None, None, None, None, None, None, None, None, None, None, None, None, None, None, None, None, None, None, None, None, None, None, None, None, None, None, None, None, None, None, None, None, None, None, None, None, None, None, None, None, None, None, None, None, None, None, None, None, None, None, None, None, None, None, None, None, None, None, None, None, None, None, None, None, None, None, None, None, None, None, None, None, None, None, None, None, None, None, None, None, None, None, None, None, None, None, None, None, None, None, None, None, None, None, None, None, None, None, None, None, None, None, None, None, None, None, None, None, None, None, None, None, None, None, None, None, None, None, None, None, None, None, None, None, None, None, None, None, None, None, None, None, None, None, None, None, None, None, None, None, None, None, None, None, None, None, None, None, None, None, None, None, None, None, None, None, None, None, None, None, None, None, None, None, None, None, None, None, None, None, None, None, None, None, None, None, None, None, None, None, None, None, None, None, None, None, None, None, None, None, None, None, None, None, None, None, None, None, None, None, None, None, None, None, None, None, None, None, None, None, None, None, None, None, None, None, None, None, None, None, None, None, None, None, None, None, None, None, None, None, None, None, None, None, None, None, None, None, None, None, None, None, None, None, None, None, None, None, None, None, None, None, None, None, None, None, None, None, None, None, None, None, None, None, None, None, None, None, None, None, None, None, None, None, None, None, None, None, None, None, None)\n",
      "(None, 'Evangelical Community Hospital', None, None, None, None, None, None, None, None, None, None, None, None, None, None, None, None, None, None, None, None, None, None, None, None, None, None, None, None, None, None, None, None, None, None, None, None, None, None, None, None, None, None, None, None, None, None, None, None, None, None, None, None, None, None, None, None, None, None, None, None, None, None, None, None, None, None, None, None, None, None, None, None, None, None, None, None, None, None, None, None, None, None, None, None, None, None, None, None, None, None, None, None, None, None, None, None, None, None, None, None, None, None, None, None, None, None, None, None, None, None, None, None, None, None, None, None, None, None, None, None, None, None, None, None, None, None, None, None, None, None, None, None, None, None, None, None, None, None, None, None, None, None, None, None, None, None, None, None, None, None, None, None, None, None, None, None, None, None, None, None, None, None, None, None, None, None, None, None, None, None, None, None, None, None, None, None, None, None, None, None, None, None, None, None, None, None, None, None, None, None, None, None, None, None, None, None, None, None, None, None, None, None, None, None, None, None, None, None, None, None, None, None, None, None, None, None, None, None, None, None, None, None, None, None, None, None, None, None, None, None, None, None, None, None, None, None, None, None, None, None, None, None, None, None, None, None, None, None, None, None, None, None, None, None, None, None, None, None, None, None, None, None, None, None, None, None, None, None, None, None, None, None, None, None, None, None, None, None, None, None, None, None, None, None, None, None, None, None, None, None, None, None, None, None, None, None, None, None, None, None, None, None, None, None, None, None, None, None, None, None, None, None, None, None, None, None, None, None, None, None, None, None, None, None, None, None, None, None, None, None, None, None, None, None, None, None, None, None, None, None, None, None, None, None, None, None, None, None, None, None, None, None, None, None, None, None, None, None, None, None, None, None, None, None, None, None, None, None, None, None, None, None, None, None, None, None, None, None, None, None, None, None, None, None, None, None, None, None, None, None, None, None, None, None, None, None, None, None, None, None, None, None, None, None, None, None, None, None, None, None, None, None, None, None, None, None, None, None, None, None, None, None, None, None, None, None, None, None, None, None, None, None, None, None, None, None, None, None, None, None, None, None, None, None, None, None, None, None, None, None, None, None, None, None, None, None, None, None, None, None, None, None, None, None, None, None, None, None, None, None, None, None, None, None, None, None, None, None, None, None, None, None, None, None, None, None, None, None, None, None, None, None, None, None, None, None, None, None, None, None, None, None, None, None, None, None, None, None, None, None, None, None, None, None, None, None, None, None, None, None, None, None, None, None, None, None, None, None, None, None, None, None, None, None, None, None, None, None, None, None, None)\n",
      "(None, 'Tax Identification Number:  24-0795411', None, None, None, None, None, None, None, None, None, None, None, None, None, None, None, None, None, None, None, None, None, None, None, None, None, None, None, None, None, None, None, None, None, None, None, None, None, None, None, None, None, None, None, None, None, None, None, None, None, None, None, None, None, None, None, None, None, None, None, None, None, None, None, None, None, None, None, None, None, None, None, None, None, None, None, None, None, None, None, None, None, None, None, None, None, None, None, None, None, None, None, None, None, None, None, None, None, None, None, None, None, None, None, None, None, None, None, None, None, None, None, None, None, None, None, None, None, None, None, None, None, None, None, None, None, None, None, None, None, None, None, None, None, None, None, None, None, None, None, None, None, None, None, None, None, None, None, None, None, None, None, None, None, None, None, None, None, None, None, None, None, None, None, None, None, None, None, None, None, None, None, None, None, None, None, None, None, None, None, None, None, None, None, None, None, None, None, None, None, None, None, None, None, None, None, None, None, None, None, None, None, None, None, None, None, None, None, None, None, None, None, None, None, None, None, None, None, None, None, None, None, None, None, None, None, None, None, None, None, None, None, None, None, None, None, None, None, None, None, None, None, None, None, None, None, None, None, None, None, None, None, None, None, None, None, None, None, None, None, None, None, None, None, None, None, None, None, None, None, None, None, None, None, None, None, None, None, None, None, None, None, None, None, None, None, None, None, None, None, None, None, None, None, None, None, None, None, None, None, None, None, None, None, None, None, None, None, None, None, None, None, None, None, None, None, None, None, None, None, None, None, None, None, None, None, None, None, None, None, None, None, None, None, None, None, None, None, None, None, None, None, None, None, None, None, None, None, None, None, None, None, None, None, None, None, None, None, None, None, None, None, None, None, None, None, None, None, None, None, None, None, None, None, None, None, None, None, None, None, None, None, None, None, None, None, None, None, None, None, None, None, None, None, None, None, None, None, None, None, None, None, None, None, None, None, None, None, None, None, None, None, None, None, None, None, None, None, None, None, None, None, None, None, None, None, None, None, None, None, None, None, None, None, None, None, None, None, None, None, None, None, None, None, None, None, None, None, None, None, None, None, None, None, None, None, None, None, None, None, None, None, None, None, None, None, None, None, None, None, None, None, None, None, None, None, None, None, None, None, None, None, None, None, None, None, None, None, None, None, None, None, None, None, None, None, None, None, None, None, None, None, None, None, None, None, None, None, None, None, None, None, None, None, None, None, None, None, None, None, None, None, None, None, None, None, None, None, None, None, None, None, None, None, None, None, None, None, None, None, None, None)\n",
      "(None, 'Standard Charges', None, None, None, None, None, None, None, None, None, None, None, None, None, None, None, None, None, None, None, None, None, None, None, None, None, None, None, None, None, None, None, None, None, None, None, None, None, None, None, None, None, None, None, None, None, None, None, None, None, None, None, None, None, None, None, None, None, None, None, None, None, None, None, None, None, None, None, None, None, None, None, None, None, None, None, None, None, None, None, None, None, None, None, None, None, None, None, None, None, None, None, None, None, None, None, None, None, None, None, None, None, None, None, None, None, None, None, None, None, None, None, None, None, None, None, None, None, None, None, None, None, None, None, None, None, None, None, None, None, None, None, None, None, None, None, None, None, None, None, None, None, None, None, None, None, None, None, None, None, None, None, None, None, None, None, None, None, None, None, None, None, None, None, None, None, None, None, None, None, None, None, None, None, None, None, None, None, None, None, None, None, None, None, None, None, None, None, None, None, None, None, None, None, None, None, None, None, None, None, None, None, None, None, None, None, None, None, None, None, None, None, None, None, None, None, None, None, None, None, None, None, None, None, None, None, None, None, None, None, None, None, None, None, None, None, None, None, None, None, None, None, None, None, None, None, None, None, None, None, None, None, None, None, None, None, None, None, None, None, None, None, None, None, None, None, None, None, None, None, None, None, None, None, None, None, None, None, None, None, None, None, None, None, None, None, None, None, None, None, None, None, None, None, None, None, None, None, None, None, None, None, None, None, None, None, None, None, None, None, None, None, None, None, None, None, None, None, None, None, None, None, None, None, None, None, None, None, None, None, None, None, None, None, None, None, None, None, None, None, None, None, None, None, None, None, None, None, None, None, None, None, None, None, None, None, None, None, None, None, None, None, None, None, None, None, None, None, None, None, None, None, None, None, None, None, None, None, None, None, None, None, None, None, None, None, None, None, None, None, None, None, None, None, None, None, None, None, None, None, None, None, None, None, None, None, None, None, None, None, None, None, None, None, None, None, None, None, None, None, None, None, None, None, None, None, None, None, None, None, None, None, None, None, None, None, None, None, None, None, None, None, None, None, None, None, None, None, None, None, None, None, None, None, None, None, None, None, None, None, None, None, None, None, None, None, None, None, None, None, None, None, None, None, None, None, None, None, None, None, None, None, None, None, None, None, None, None, None, None, None, None, None, None, None, None, None, None, None, None, None, None, None, None, None, None, None, None, None, None, None, None, None, None, None, None, None, None, None, None, None, None, None, None, None, None, None, None, None, None, None, None, None, None, None, None, None, None, None, None, None, None)\n",
      "('Hospital Procedure Code', 'HCPCS Code', 'Description', 'Code_Type', 'Package/Line_Level', 'Average Charge', 'Min_Allowable_835', 'Max_Allowable_835', 'Avg_Allowable_835', 'Self-Pay Charge - 10% Discount', 'AETNA ADV PLAN 250 NET 03404_Avg_Allowable', 'AETNA AETNA CHOICE POS II_Avg_Allowable', 'AETNA AETNA CHOICE POS II NET 00486_Avg_Allowable', 'AETNA AETNA HEALTH NETWORK ONLY 8480 (OPEN A NET 01984_Avg_Allowable', 'AETNA AETNA HEALTH NETWORK OPTION 8480 (OPEN NET 01984_Avg_Allowable', 'AETNA AETNA HEALTHFUND AETNA CHOICE POS II NET 00486_Avg_Allowable', 'AETNA AETNA HEALTHFUND AETNA OPEN ACCESS MAN NET 00486_Avg_Allowable', 'AETNA AETNA HEALTHFUND AETNA OPEN ACCESS MAN NET 09614_Avg_Allowable', 'AETNA AETNA HEALTHFUND OPEN ACCESS AETNA SELE NET 01669_Avg_Allowable', 'AETNA AETNA HEALTHFUND OPEN ACCESS AETNA SELECT 8480_Avg_Allowable', 'AETNA AETNA HEALTHFUND OPEN CHOICE PPO NET 00214_Avg_Allowable', 'AETNA AETNA OPEN ACCESS ELECT CHOICE NET 01669_Avg_Allowable', 'AETNA AETNA OPEN ACCESS MANAGED CHOICE NET 00486_Avg_Allowable', 'AETNA AETNA OPEN ACCESS MANAGED CHOICE NET 09614_Avg_Allowable', 'AETNA AETNA SELECT 8480 NET 01669_Avg_Allowable', 'AETNA AEXCEL PLUS AETNA CHOICE POS II NET 00486_Avg_Allowable', 'AETNA CONTEL ADV PLAN NET 03404_Avg_Allowable', 'AETNA DIRECT ACCESS HMO - MEDICARE - MA (AETNA)_Avg_Allowable', 'AETNA DIRECT ACCESS HMO - MEDICARE (AETNA)_Avg_Allowable', 'AETNA DSNP DIRECT ACCESS HMO - MEDICARE (AETNA)_Avg_Allowable', 'AETNA ELITE PPO NET 03404_Avg_Allowable', 'AETNA EXPLORER PREMIER PPO NET 03404_Avg_Allowable', 'AETNA GOLD PPO NET 03404_Avg_Allowable', 'AETNA GROUP MEDICARE STANDARD PLAN NET 03404_Avg_Allowable', 'AETNA HMO_Avg_Allowable', 'AETNA HMO - MEDICARE (AETNA)_Avg_Allowable', 'AETNA HMO NET 00214_Avg_Allowable', 'AETNA MA (P01) PPO NET 03404_Avg_Allowable', 'AETNA MAJOR ADV PLAN NET 03404_Avg_Allowable', 'AETNA MAPD ESA PPO PLAN NET 03404_Avg_Allowable', 'AETNA MAPD I ESA PPO PLAN NET 03404_Avg_Allowable', 'AETNA MEDICARE (C01) ESA PPO PLAN NET 03404_Avg_Allowable', 'AETNA MEDICARE (C02) ESA PPO PLAN NET 03404_Avg_Allowable', 'AETNA MEDICARE (C02) PPO PLAN NET 03404_Avg_Allowable', 'AETNA MEDICARE (C04) ESA PPO PLAN NET 03404_Avg_Allowable', 'AETNA MEDICARE (C04) PPO NET 03404_Avg_Allowable', 'AETNA MEDICARE (C05) ESA PPO PLAN NET 03404_Avg_Allowable', 'AETNA MEDICARE (P01) ESA PPO NET 03404_Avg_Allowable', 'AETNA MEDICARE (P01) ESA PPO PLAN NET 03404_Avg_Allowable', 'AETNA MEDICARE (P01) PPO NET 03404_Avg_Allowable', 'AETNA MEDICARE (P02) PPO NET 03404_Avg_Allowable', 'AETNA MEDICARE (S01) ESA PPO PLAN NET 03404_Avg_Allowable', 'AETNA MEDICARE (S01) PPO PLAN NET 03404_Avg_Allowable', 'AETNA MEDICARE (S02) ESA PPO PLAN NET 03404_Avg_Allowable', 'AETNA MEDICARE (S02) PPO PLAN NET 03404_Avg_Allowable', 'AETNA MEDICARE (V03) PPO PLAN NET 03404_Avg_Allowable', 'AETNA MEDICARE ADV ESA PPO PLAN NET 03404_Avg_Allowable', 'AETNA MEDICARE INTEGRATION_Avg_Allowable', 'AETNA MEDICARE OPEN ACCESS PPO NET 03404_Avg_Allowable', 'AETNA MEDICARE OPEN ACCESS PPO PLAN NET 00214_Avg_Allowable', 'AETNA MEDICARE OPEN ACCESS PPO PLAN NET 03404_Avg_Allowable', 'AETNA MEP SOUTH ADV PLAN NET 03404_Avg_Allowable', 'AETNA MPPR ADV PLAN NET 03404_Avg_Allowable', 'AETNA OA MANAGED CHOICE POS_Avg_Allowable', 'AETNA OPEN ACCESS AETNA SELECT 8480 NET 01669_Avg_Allowable', 'AETNA OPEN ACCESS HMO - MEDICARE - MA (AETNA)_Avg_Allowable', 'AETNA OPEN ACCESS POS II NET 00486_Avg_Allowable', 'AETNA OPEN CHOICE NET 00214_Avg_Allowable', 'AETNA OPEN CHOICE PPO_Avg_Allowable', 'AETNA OPEN POS II NET 00486_Avg_Allowable', 'AETNA PLUS MEDICAL PLAN NET 03404_Avg_Allowable', 'AETNA PPO - MEDICARE (AETNA)_Avg_Allowable', 'AETNA PPO-MEDICAL_Avg_Allowable', 'AETNA PPO-MEDICAL NET 00214_Avg_Allowable', 'AETNA PREM PLUS PPO NET 03404_Avg_Allowable', 'AETNA PREMIER MEDICAL PLAN NET 03404_Avg_Allowable', 'AETNA PREMIER PLUS PPO NET 03404_Avg_Allowable', 'AETNA PREMIER PPO NET 03404_Avg_Allowable', 'AETNA QUALITY POINT-OF-SERVICE NET 01984_Avg_Allowable', 'AETNA REF REQ SILVER HMO NET 02110_Avg_Allowable', 'AETNA REHP MEDICARE ESA PPO PLAN NET 03404_Avg_Allowable', 'AETNA SEHBP EDUCATORS MEDICARE PLAN NET 03404_Avg_Allowable', 'AETNA STRS PPO PLAN NET 03404_Avg_Allowable', 'AETNA TRADITIONAL CHOICE NET 00486_Avg_Allowable', 'AETNA UAW MACK TRUCK RETIREE PLAN NET 03404_Avg_Allowable', 'AETNA US SALARIED RETIREES PLAN NET 03404_Avg_Allowable', 'AETNA USS MEDICARE PPO PLAN NET 03404_Avg_Allowable', 'AETNA VALUE PPO NET 03404_Avg_Allowable', 'AETNA VBID DIRECT ACCESS HMO - MEDICARE (AETNA)_Avg_Allowable', 'AETNA VOLUNTARY OPEN CHOICE NET 00214_Avg_Allowable', 'AETNA WEST ADV PLAN 100 NET 03404_Avg_Allowable', 'AETNA WEST ADV PLAN 125 NET 03404_Avg_Allowable', 'AETNA WEST RP ADV PLAN NET 03404_Avg_Allowable', 'AMERIHEALTH CARITAS DC INC 11600161_Avg_Allowable', 'AMERIHEALTH CARITAS DELAWARE INC 15000161_Avg_Allowable', 'AMERIHEALTH CARITAS LOUISIANA 11400150_Avg_Allowable', 'AMERIHEALTH CARITAS NORTHEAST 11400267_Avg_Allowable', 'AMERIHEALTH CARITAS NORTHEAST 11400268_Avg_Allowable', 'AMERIHEALTH CARITAS NORTHEAST 11500139_Avg_Allowable', 'AMERIHEALTH CARITAS NORTHEAST 11600116_Avg_Allowable', 'AMERIHEALTH CARITAS NORTHEAST 11600117_Avg_Allowable', 'AMERIHEALTH CARITAS NORTHEAST 11800279_Avg_Allowable', 'AMERIHEALTH CARITAS NORTHEAST 11900369_Avg_Allowable', 'AMERIHEALTH CARITAS NORTHEAST 11900370_Avg_Allowable', 'AMERIHEALTH CARITAS NORTHEAST 12200095_Avg_Allowable', 'AMERIHEALTH CARITAS NORTHEAST 13000023_Avg_Allowable', 'AMERIHEALTH CARITAS NORTHEAST 13000167_Avg_Allowable', 'AMERIHEALTH CARITAS NORTHEAST 13100091_Avg_Allowable', 'AMERIHEALTH CARITAS NORTHEAST 13100145_Avg_Allowable', 'AMERIHEALTH CARITAS NORTHEAST 13100146_Avg_Allowable', 'AMERIHEALTH CARITAS NORTHEAST 13100408_Avg_Allowable', 'AMERIHEALTH CARITAS NORTHEAST 13300060_Avg_Allowable', 'AMERIHEALTH CARITAS NORTHEAST 13300061_Avg_Allowable', 'AMERIHEALTH CARITAS NORTHEAST 13600214_Avg_Allowable', 'AMERIHEALTH CARITAS NORTHEAST 14300162_Avg_Allowable', 'AMERIHEALTH CARITAS NORTHEAST 14300163_Avg_Allowable', 'AMERIHEALTH CARITAS NORTHEAST 14300411_Avg_Allowable', 'AMERIHEALTH CARITAS NORTHEAST 14300412_Avg_Allowable', 'AMERIHEALTH CARITAS NORTHEAST 14500268_Avg_Allowable', 'AMERIHEALTH CARITAS NORTHEAST 14600127_Avg_Allowable', 'AMERIHEALTH CARITAS PA COMMUNITY HEALTHCHOICES 10100110_Avg_Allowable', 'AMERIHEALTH CARITAS PA COMMUNITY HEALTHCHOICES 10100296_Avg_Allowable', 'AMERIHEALTH CARITAS PA COMMUNITY HEALTHCHOICES 10200251_Avg_Allowable', 'AMERIHEALTH CARITAS PA COMMUNITY HEALTHCHOICES 10300436_Avg_Allowable', 'AMERIHEALTH CARITAS PA COMMUNITY HEALTHCHOICES 10500245_Avg_Allowable', 'AMERIHEALTH CARITAS PA COMMUNITY HEALTHCHOICES 10600035_Avg_Allowable', 'AMERIHEALTH CARITAS PA COMMUNITY HEALTHCHOICES 10700355_Avg_Allowable', 'AMERIHEALTH CARITAS PA COMMUNITY HEALTHCHOICES 10800337_Avg_Allowable', 'AMERIHEALTH CARITAS PA COMMUNITY HEALTHCHOICES 10900135_Avg_Allowable', 'AMERIHEALTH CARITAS PA COMMUNITY HEALTHCHOICES 10900250_Avg_Allowable', 'AMERIHEALTH CARITAS PA COMMUNITY HEALTHCHOICES 11100275_Avg_Allowable', 'AMERIHEALTH CARITAS PA COMMUNITY HEALTHCHOICES 11200317_Avg_Allowable', 'AMERIHEALTH CARITAS PA COMMUNITY HEALTHCHOICES 11300186_Avg_Allowable', 'AMERIHEALTH CARITAS PA COMMUNITY HEALTHCHOICES 11400152_Avg_Allowable', 'AMERIHEALTH CARITAS PA COMMUNITY HEALTHCHOICES 11500337_Avg_Allowable', 'AMERIHEALTH CARITAS PA COMMUNITY HEALTHCHOICES 11600076_Avg_Allowable', 'AMERIHEALTH CARITAS PA COMMUNITY HEALTHCHOICES 11700097_Avg_Allowable', 'AMERIHEALTH CARITAS PA COMMUNITY HEALTHCHOICES 11700194_Avg_Allowable', 'AMERIHEALTH CARITAS PA COMMUNITY HEALTHCHOICES 11800050_Avg_Allowable', 'AMERIHEALTH CARITAS PA COMMUNITY HEALTHCHOICES 11800082_Avg_Allowable', 'AMERIHEALTH CARITAS PA COMMUNITY HEALTHCHOICES 12000148_Avg_Allowable', 'AMERIHEALTH CARITAS PA COMMUNITY HEALTHCHOICES 12000255_Avg_Allowable', 'AMERIHEALTH CARITAS PA COMMUNITY HEALTHCHOICES 12000298_Avg_Allowable', 'AMERIHEALTH CARITAS PA COMMUNITY HEALTHCHOICES 12000367_Avg_Allowable', 'AMERIHEALTH CARITAS PA COMMUNITY HEALTHCHOICES 12100052_Avg_Allowable', 'AMERIHEALTH CARITAS PA COMMUNITY HEALTHCHOICES 12100101_Avg_Allowable', 'AMERIHEALTH CARITAS PA COMMUNITY HEALTHCHOICES 12100210_Avg_Allowable', 'AMERIHEALTH CARITAS PA COMMUNITY HEALTHCHOICES 12100334_Avg_Allowable', 'AMERIHEALTH CARITAS PA COMMUNITY HEALTHCHOICES 12200274_Avg_Allowable', 'AMERIHEALTH CARITAS PA COMMUNITY HEALTHCHOICES 12300163_Avg_Allowable', 'AMERIHEALTH CARITAS PA COMMUNITY HEALTHCHOICES 12400099_Avg_Allowable', 'AMERIHEALTH CARITAS PA COMMUNITY HEALTHCHOICES 12400128_Avg_Allowable', 'AMERIHEALTH CARITAS PA COMMUNITY HEALTHCHOICES 12600213_Avg_Allowable', 'AMERIHEALTH CARITAS PA COMMUNITY HEALTHCHOICES 12600318_Avg_Allowable', 'AMERIHEALTH CARITAS PA COMMUNITY HEALTHCHOICES 12700073_Avg_Allowable', 'AMERIHEALTH CARITAS PA COMMUNITY HEALTHCHOICES 12700120_Avg_Allowable', 'AMERIHEALTH CARITAS PA COMMUNITY HEALTHCHOICES 12700173_Avg_Allowable', 'AMERIHEALTH CARITAS PA COMMUNITY HEALTHCHOICES 12700352_Avg_Allowable', 'AMERIHEALTH CARITAS PA COMMUNITY HEALTHCHOICES 12800138_Avg_Allowable', 'AMERIHEALTH CARITAS PA COMMUNITY HEALTHCHOICES 12900303_Avg_Allowable', 'AMERIHEALTH CARITAS PA COMMUNITY HEALTHCHOICES 13000043_Avg_Allowable', 'AMERIHEALTH CARITAS PA COMMUNITY HEALTHCHOICES 13000220_Avg_Allowable', 'AMERIHEALTH CARITAS PA COMMUNITY HEALTHCHOICES 13000221_Avg_Allowable', 'AMERIHEALTH CARITAS PA COMMUNITY HEALTHCHOICES 13100361_Avg_Allowable', 'AMERIHEALTH CARITAS PA COMMUNITY HEALTHCHOICES 13200070_Avg_Allowable', 'AMERIHEALTH CARITAS PA COMMUNITY HEALTHCHOICES 13200194_Avg_Allowable', 'AMERIHEALTH CARITAS PA COMMUNITY HEALTHCHOICES 13200242_Avg_Allowable', 'AMERIHEALTH CARITAS PA COMMUNITY HEALTHCHOICES 13300165_Avg_Allowable', 'AMERIHEALTH CARITAS PA COMMUNITY HEALTHCHOICES 13400073_Avg_Allowable', 'AMERIHEALTH CARITAS PA COMMUNITY HEALTHCHOICES 13400311_Avg_Allowable', 'AMERIHEALTH CARITAS PA COMMUNITY HEALTHCHOICES 13500315_Avg_Allowable', 'AMERIHEALTH CARITAS PA COMMUNITY HEALTHCHOICES 13600083_Avg_Allowable', 'AMERIHEALTH CARITAS PA COMMUNITY HEALTHCHOICES 13600104_Avg_Allowable', 'AMERIHEALTH CARITAS PA COMMUNITY HEALTHCHOICES 13600165_Avg_Allowable', 'AMERIHEALTH CARITAS PA COMMUNITY HEALTHCHOICES 13600229_Avg_Allowable', 'AMERIHEALTH CARITAS PA COMMUNITY HEALTHCHOICES 13700014_Avg_Allowable', 'AMERIHEALTH CARITAS PA COMMUNITY HEALTHCHOICES 13700079_Avg_Allowable', 'AMERIHEALTH CARITAS PA COMMUNITY HEALTHCHOICES 13700210_Avg_Allowable', 'AMERIHEALTH CARITAS PA COMMUNITY HEALTHCHOICES 13800234_Avg_Allowable', 'AMERIHEALTH CARITAS PA COMMUNITY HEALTHCHOICES 13900060_Avg_Allowable', 'AMERIHEALTH CARITAS PA COMMUNITY HEALTHCHOICES 13900087_Avg_Allowable', 'AMERIHEALTH CARITAS PA COMMUNITY HEALTHCHOICES 13900121_Avg_Allowable', 'AMERIHEALTH CARITAS PA COMMUNITY HEALTHCHOICES 13900319_Avg_Allowable', 'AMERIHEALTH CARITAS PA COMMUNITY HEALTHCHOICES 14000152_Avg_Allowable', 'AMERIHEALTH CARITAS PA COMMUNITY HEALTHCHOICES 14200071_Avg_Allowable', 'AMERIHEALTH CARITAS PA COMMUNITY HEALTHCHOICES 14300161_Avg_Allowable', 'AMERIHEALTH CARITAS PA COMMUNITY HEALTHCHOICES 14300191_Avg_Allowable', 'AMERIHEALTH CARITAS PA COMMUNITY HEALTHCHOICES 14300391_Avg_Allowable', 'AMERIHEALTH CARITAS PA COMMUNITY HEALTHCHOICES 14400232_Avg_Allowable', 'AMERIHEALTH CARITAS PA COMMUNITY HEALTHCHOICES 14600288_Avg_Allowable', 'AMERIHEALTH CARITAS PA COMMUNITY HEALTHCHOICES 14600293_Avg_Allowable', 'AMERIHEALTH CARITAS PA COMMUNITY HEALTHCHOICES 14700298_Avg_Allowable', 'AMERIHEALTH CARITAS PA COMMUNITY HEALTHCHOICES 14800171_Avg_Allowable', 'AMERIHEALTH CARITAS PA COMMUNITY HEALTHCHOICES 14800172_Avg_Allowable', 'AMERIHEALTH CARITAS PA COMMUNITY HEALTHCHOICES 15000279_Avg_Allowable', 'AMERIHEALTH CARITAS PA COMMUNITY HEALTHCHOICES 15100346_Avg_Allowable', 'AMERIHEALTH CARITAS PA COMMUNITY HEALTHCHOICES 15300281_Avg_Allowable', 'AMERIHEALTH CARITAS PA COMMUNITY HEALTHCHOICES 15400012_Avg_Allowable', 'AMERIHEALTH CARITAS PA COMMUNITY HEALTHCHOICES 15400177_Avg_Allowable', 'AMERIHEALTH CARITAS PA COMMUNITY HEALTHCHOICES 15600116_Avg_Allowable', 'AMERIHEALTH CARITAS PENNSYLVANIA 10100064_Avg_Allowable', 'AMERIHEALTH CARITAS PENNSYLVANIA 10200039_Avg_Allowable', 'AMERIHEALTH CARITAS PENNSYLVANIA 10200107_Avg_Allowable', 'AMERIHEALTH CARITAS PENNSYLVANIA 10200112_Avg_Allowable', 'AMERIHEALTH CARITAS PENNSYLVANIA 10200113_Avg_Allowable', 'AMERIHEALTH CARITAS PENNSYLVANIA 10200181_Avg_Allowable', 'AMERIHEALTH CARITAS PENNSYLVANIA 10200182_Avg_Allowable', 'AMERIHEALTH CARITAS PENNSYLVANIA 10200183_Avg_Allowable', 'AMERIHEALTH CARITAS PENNSYLVANIA 10200184_Avg_Allowable', 'AMERIHEALTH CARITAS PENNSYLVANIA 10200185_Avg_Allowable', 'AMERIHEALTH CARITAS PENNSYLVANIA 10200267_Avg_Allowable', 'AMERIHEALTH CARITAS PENNSYLVANIA 10200268_Avg_Allowable', 'AMERIHEALTH CARITAS PENNSYLVANIA 10300065_Avg_Allowable', 'AMERIHEALTH CARITAS PENNSYLVANIA 10300216_Avg_Allowable', 'AMERIHEALTH CARITAS PENNSYLVANIA 10300217_Avg_Allowable', 'AMERIHEALTH CARITAS PENNSYLVANIA 10300262_Avg_Allowable', 'AMERIHEALTH CARITAS PENNSYLVANIA 10300270_Avg_Allowable', 'AMERIHEALTH CARITAS PENNSYLVANIA 10500018_Avg_Allowable', 'AMERIHEALTH CARITAS PENNSYLVANIA 10500019_Avg_Allowable', 'AMERIHEALTH CARITAS PENNSYLVANIA 10500079_Avg_Allowable', 'AMERIHEALTH CARITAS PENNSYLVANIA 10500083_Avg_Allowable', 'AMERIHEALTH CARITAS PENNSYLVANIA 10500277_Avg_Allowable', 'AMERIHEALTH CARITAS PENNSYLVANIA 10600051_Avg_Allowable', 'AMERIHEALTH CARITAS PENNSYLVANIA 10600065_Avg_Allowable', 'AMERIHEALTH CARITAS PENNSYLVANIA 10600250_Avg_Allowable', 'AMERIHEALTH CARITAS PENNSYLVANIA 10600251_Avg_Allowable', 'AMERIHEALTH CARITAS PENNSYLVANIA 10600395_Avg_Allowable', 'AMERIHEALTH CARITAS PENNSYLVANIA 10700014_Avg_Allowable', 'AMERIHEALTH CARITAS PENNSYLVANIA 10700112_Avg_Allowable', 'AMERIHEALTH CARITAS PENNSYLVANIA 10700132_Avg_Allowable', 'AMERIHEALTH CARITAS PENNSYLVANIA 10700133_Avg_Allowable', 'AMERIHEALTH CARITAS PENNSYLVANIA 10700196_Avg_Allowable', 'AMERIHEALTH CARITAS PENNSYLVANIA 10700323_Avg_Allowable', 'AMERIHEALTH CARITAS PENNSYLVANIA 10800056_Avg_Allowable', 'AMERIHEALTH CARITAS PENNSYLVANIA 10800084_Avg_Allowable', 'AMERIHEALTH CARITAS PENNSYLVANIA 10800157_Avg_Allowable', 'AMERIHEALTH CARITAS PENNSYLVANIA 10800158_Avg_Allowable', 'AMERIHEALTH CARITAS PENNSYLVANIA 10800192_Avg_Allowable', 'AMERIHEALTH CARITAS PENNSYLVANIA 10800203_Avg_Allowable', 'AMERIHEALTH CARITAS PENNSYLVANIA 10800219_Avg_Allowable', 'AMERIHEALTH CARITAS PENNSYLVANIA 10800220_Avg_Allowable', 'AMERIHEALTH CARITAS PENNSYLVANIA 10900160_Avg_Allowable', 'AMERIHEALTH CARITAS PENNSYLVANIA 11000127_Avg_Allowable', 'AMERIHEALTH CARITAS PENNSYLVANIA 11000188_Avg_Allowable', 'AMERIHEALTH CARITAS PENNSYLVANIA 11000189_Avg_Allowable', 'AMERIHEALTH CARITAS PENNSYLVANIA 11000253_Avg_Allowable', 'AMERIHEALTH CARITAS PENNSYLVANIA 11000255_Avg_Allowable', 'AMERIHEALTH CARITAS PENNSYLVANIA 11100050_Avg_Allowable', 'AMERIHEALTH CARITAS PENNSYLVANIA 11100056_Avg_Allowable', 'AMERIHEALTH CARITAS PENNSYLVANIA 11100059_Avg_Allowable', 'AMERIHEALTH CARITAS PENNSYLVANIA 11100078_Avg_Allowable', 'AMERIHEALTH CARITAS PENNSYLVANIA 11100122_Avg_Allowable', 'AMERIHEALTH CARITAS PENNSYLVANIA 11100123_Avg_Allowable', 'AMERIHEALTH CARITAS PENNSYLVANIA 11100142_Avg_Allowable', 'AMERIHEALTH CARITAS PENNSYLVANIA 11100180_Avg_Allowable', 'AMERIHEALTH CARITAS PENNSYLVANIA 11100184_Avg_Allowable', 'AMERIHEALTH CARITAS PENNSYLVANIA 11100186_Avg_Allowable', 'AMERIHEALTH CARITAS PENNSYLVANIA 11100286_Avg_Allowable', 'AMERIHEALTH CARITAS PENNSYLVANIA 11100287_Avg_Allowable', 'AMERIHEALTH CARITAS PENNSYLVANIA 11200056_Avg_Allowable', 'AMERIHEALTH CARITAS PENNSYLVANIA 11200144_Avg_Allowable', 'AMERIHEALTH CARITAS PENNSYLVANIA 11200206_Avg_Allowable', 'AMERIHEALTH CARITAS PENNSYLVANIA 11200297_Avg_Allowable', 'AMERIHEALTH CARITAS PENNSYLVANIA 11200304_Avg_Allowable', 'AMERIHEALTH CARITAS PENNSYLVANIA 11300293_Avg_Allowable', 'AMERIHEALTH CARITAS PENNSYLVANIA 11500074_Avg_Allowable', 'AMERIHEALTH CARITAS PENNSYLVANIA 11500117_Avg_Allowable', 'AMERIHEALTH CARITAS PENNSYLVANIA 11500170_Avg_Allowable', 'AMERIHEALTH CARITAS PENNSYLVANIA 11500202_Avg_Allowable', 'AMERIHEALTH CARITAS PENNSYLVANIA 11500211_Avg_Allowable', 'AMERIHEALTH CARITAS PENNSYLVANIA 11500289_Avg_Allowable', 'AMERIHEALTH CARITAS PENNSYLVANIA 11500290_Avg_Allowable', 'AMERIHEALTH CARITAS PENNSYLVANIA 11500330_Avg_Allowable', 'AMERIHEALTH CARITAS PENNSYLVANIA 11600065_Avg_Allowable', 'AMERIHEALTH CARITAS PENNSYLVANIA 11600137_Avg_Allowable', 'AMERIHEALTH CARITAS PENNSYLVANIA 11600175_Avg_Allowable', 'AMERIHEALTH CARITAS PENNSYLVANIA 11600249_Avg_Allowable', 'AMERIHEALTH CARITAS PENNSYLVANIA 11600250_Avg_Allowable', 'AMERIHEALTH CARITAS PENNSYLVANIA 11600272_Avg_Allowable', 'AMERIHEALTH CARITAS PENNSYLVANIA 11700113_Avg_Allowable', 'AMERIHEALTH CARITAS PENNSYLVANIA 11700114_Avg_Allowable', 'AMERIHEALTH CARITAS PENNSYLVANIA 11700183_Avg_Allowable', 'AMERIHEALTH CARITAS PENNSYLVANIA 11700210_Avg_Allowable', 'AMERIHEALTH CARITAS PENNSYLVANIA 11700213_Avg_Allowable', 'AMERIHEALTH CARITAS PENNSYLVANIA 11700241_Avg_Allowable', 'AMERIHEALTH CARITAS PENNSYLVANIA 11700242_Avg_Allowable', 'AMERIHEALTH CARITAS PENNSYLVANIA 11700244_Avg_Allowable', 'AMERIHEALTH CARITAS PENNSYLVANIA 11700257_Avg_Allowable', 'AMERIHEALTH CARITAS PENNSYLVANIA 11800183_Avg_Allowable', 'AMERIHEALTH CARITAS PENNSYLVANIA 11800248_Avg_Allowable', 'AMERIHEALTH CARITAS PENNSYLVANIA 11900223_Avg_Allowable', 'AMERIHEALTH CARITAS PENNSYLVANIA 12100032_Avg_Allowable', 'AMERIHEALTH CARITAS PENNSYLVANIA 12100311_Avg_Allowable', 'AMERIHEALTH CARITAS PENNSYLVANIA 12100312_Avg_Allowable', 'AMERIHEALTH CARITAS PENNSYLVANIA 12100340_Avg_Allowable', 'AMERIHEALTH CARITAS PENNSYLVANIA 12200187_Avg_Allowable', 'AMERIHEALTH CARITAS PENNSYLVANIA 12200188_Avg_Allowable', 'AMERIHEALTH CARITAS PENNSYLVANIA 12200414_Avg_Allowable', 'AMERIHEALTH CARITAS PENNSYLVANIA 12300002_Avg_Allowable', 'AMERIHEALTH CARITAS PENNSYLVANIA 12400092_Avg_Allowable', 'AMERIHEALTH CARITAS PENNSYLVANIA 12400093_Avg_Allowable', 'AMERIHEALTH CARITAS PENNSYLVANIA 12400099_Avg_Allowable', 'AMERIHEALTH CARITAS PENNSYLVANIA 12500142_Avg_Allowable', 'AMERIHEALTH CARITAS PENNSYLVANIA 12500173_Avg_Allowable', 'AMERIHEALTH CARITAS PENNSYLVANIA 12500203_Avg_Allowable', 'AMERIHEALTH CARITAS PENNSYLVANIA 12500335_Avg_Allowable', 'AMERIHEALTH CARITAS PENNSYLVANIA 12600069_Avg_Allowable', 'AMERIHEALTH CARITAS PENNSYLVANIA 12600247_Avg_Allowable', 'AMERIHEALTH CARITAS PENNSYLVANIA 12700013_Avg_Allowable', 'AMERIHEALTH CARITAS PENNSYLVANIA 12700014_Avg_Allowable', 'AMERIHEALTH CARITAS PENNSYLVANIA 12700150_Avg_Allowable', 'AMERIHEALTH CARITAS PENNSYLVANIA 12700151_Avg_Allowable', 'AMERIHEALTH CARITAS PENNSYLVANIA 12700271_Avg_Allowable', 'AMERIHEALTH CARITAS PENNSYLVANIA 12700355_Avg_Allowable', 'AMERIHEALTH CARITAS PENNSYLVANIA 12800091_Avg_Allowable', 'AMERIHEALTH CARITAS PENNSYLVANIA 12900125_Avg_Allowable', 'AMERIHEALTH CARITAS PENNSYLVANIA 12900229_Avg_Allowable', 'AMERIHEALTH CARITAS PENNSYLVANIA 12900252_Avg_Allowable', 'AMERIHEALTH CARITAS PENNSYLVANIA 13000134_Avg_Allowable', 'AMERIHEALTH CARITAS PENNSYLVANIA 13000135_Avg_Allowable', 'AMERIHEALTH CARITAS PENNSYLVANIA 13000274_Avg_Allowable', 'AMERIHEALTH CARITAS PENNSYLVANIA 13000275_Avg_Allowable', 'AMERIHEALTH CARITAS PENNSYLVANIA 13100126_Avg_Allowable', 'AMERIHEALTH CARITAS PENNSYLVANIA 13100158_Avg_Allowable', 'AMERIHEALTH CARITAS PENNSYLVANIA 13100159_Avg_Allowable', 'AMERIHEALTH CARITAS PENNSYLVANIA 13100163_Avg_Allowable', 'AMERIHEALTH CARITAS PENNSYLVANIA 13100301_Avg_Allowable', 'AMERIHEALTH CARITAS PENNSYLVANIA 13100302_Avg_Allowable', 'AMERIHEALTH CARITAS PENNSYLVANIA 13200103_Avg_Allowable', 'AMERIHEALTH CARITAS PENNSYLVANIA 13200141_Avg_Allowable', 'AMERIHEALTH CARITAS PENNSYLVANIA 13200330_Avg_Allowable', 'AMERIHEALTH CARITAS PENNSYLVANIA 13200331_Avg_Allowable', 'AMERIHEALTH CARITAS PENNSYLVANIA 13300088_Avg_Allowable', 'AMERIHEALTH CARITAS PENNSYLVANIA 13300178_Avg_Allowable', 'AMERIHEALTH CARITAS PENNSYLVANIA 13300187_Avg_Allowable', 'AMERIHEALTH CARITAS PENNSYLVANIA 13300188_Avg_Allowable', 'AMERIHEALTH CARITAS PENNSYLVANIA 13300236_Avg_Allowable', 'AMERIHEALTH CARITAS PENNSYLVANIA 13300237_Avg_Allowable', 'AMERIHEALTH CARITAS PENNSYLVANIA 13400039_Avg_Allowable', 'AMERIHEALTH CARITAS PENNSYLVANIA 13400076_Avg_Allowable', 'AMERIHEALTH CARITAS PENNSYLVANIA 13400077_Avg_Allowable', 'AMERIHEALTH CARITAS PENNSYLVANIA 13400099_Avg_Allowable', 'AMERIHEALTH CARITAS PENNSYLVANIA 13400100_Avg_Allowable', 'AMERIHEALTH CARITAS PENNSYLVANIA 13400227_Avg_Allowable', 'AMERIHEALTH CARITAS PENNSYLVANIA 13500153_Avg_Allowable', 'AMERIHEALTH CARITAS PENNSYLVANIA 13500154_Avg_Allowable', 'AMERIHEALTH CARITAS PENNSYLVANIA 13500176_Avg_Allowable', 'AMERIHEALTH CARITAS PENNSYLVANIA 13600112_Avg_Allowable', 'AMERIHEALTH CARITAS PENNSYLVANIA 13600276_Avg_Allowable', 'AMERIHEALTH CARITAS PENNSYLVANIA 13700058_Avg_Allowable', 'AMERIHEALTH CARITAS PENNSYLVANIA 13700256_Avg_Allowable', 'AMERIHEALTH CARITAS PENNSYLVANIA 13800146_Avg_Allowable', 'AMERIHEALTH CARITAS PENNSYLVANIA 13800245_Avg_Allowable', 'AMERIHEALTH CARITAS PENNSYLVANIA 13800246_Avg_Allowable', 'AMERIHEALTH CARITAS PENNSYLVANIA 13900030_Avg_Allowable', 'AMERIHEALTH CARITAS PENNSYLVANIA 13900033_Avg_Allowable', 'AMERIHEALTH CARITAS PENNSYLVANIA 13900113_Avg_Allowable', 'AMERIHEALTH CARITAS PENNSYLVANIA 13900114_Avg_Allowable', 'AMERIHEALTH CARITAS PENNSYLVANIA 14000180_Avg_Allowable', 'AMERIHEALTH CARITAS PENNSYLVANIA 14000205_Avg_Allowable', 'AMERIHEALTH CARITAS PENNSYLVANIA 14000206_Avg_Allowable', 'AMERIHEALTH CARITAS PENNSYLVANIA 14000221_Avg_Allowable', 'AMERIHEALTH CARITAS PENNSYLVANIA 14000237_Avg_Allowable', 'AMERIHEALTH CARITAS PENNSYLVANIA 14100127_Avg_Allowable', 'AMERIHEALTH CARITAS PENNSYLVANIA 14100128_Avg_Allowable', 'AMERIHEALTH CARITAS PENNSYLVANIA 14100255_Avg_Allowable', 'AMERIHEALTH CARITAS PENNSYLVANIA 14100271_Avg_Allowable', 'AMERIHEALTH CARITAS PENNSYLVANIA 14200032_Avg_Allowable', 'AMERIHEALTH CARITAS PENNSYLVANIA 14200153_Avg_Allowable', 'AMERIHEALTH CARITAS PENNSYLVANIA 14200427_Avg_Allowable', 'AMERIHEALTH CARITAS PENNSYLVANIA 14400061_Avg_Allowable', 'AMERIHEALTH CARITAS PENNSYLVANIA 14400062_Avg_Allowable', 'AMERIHEALTH CARITAS PENNSYLVANIA 14500057_Avg_Allowable', 'AMERIHEALTH CARITAS PENNSYLVANIA 14500180_Avg_Allowable', 'AMERIHEALTH CARITAS PENNSYLVANIA 14500190_Avg_Allowable', 'AMERIHEALTH CARITAS PENNSYLVANIA 14500279_Avg_Allowable', 'AMERIHEALTH CARITAS PENNSYLVANIA 14500280_Avg_Allowable', 'AMERIHEALTH CARITAS PENNSYLVANIA 14600155_Avg_Allowable', 'AMERIHEALTH CARITAS PENNSYLVANIA 14600189_Avg_Allowable', 'AMERIHEALTH CARITAS PENNSYLVANIA 14600275_Avg_Allowable', 'AMERIHEALTH CARITAS PENNSYLVANIA 14600276_Avg_Allowable', 'AMERIHEALTH CARITAS PENNSYLVANIA 14700083_Avg_Allowable', 'AMERIHEALTH CARITAS PENNSYLVANIA 14700084_Avg_Allowable', 'AMERIHEALTH CARITAS PENNSYLVANIA 14800011_Avg_Allowable', 'AMERIHEALTH CARITAS PENNSYLVANIA 14800033_Avg_Allowable', 'AMERIHEALTH CARITAS PENNSYLVANIA 14800111_Avg_Allowable', 'AMERIHEALTH CARITAS PENNSYLVANIA 14800112_Avg_Allowable', 'AMERIHEALTH CARITAS PENNSYLVANIA 14800148_Avg_Allowable', 'AMERIHEALTH CARITAS PENNSYLVANIA 14800232_Avg_Allowable', 'AMERIHEALTH CARITAS PENNSYLVANIA 14800233_Avg_Allowable', 'AMERIHEALTH CARITAS PENNSYLVANIA 14800247_Avg_Allowable', 'AMERIHEALTH CARITAS PENNSYLVANIA 14900029_Avg_Allowable', 'AMERIHEALTH CARITAS PENNSYLVANIA 14900089_Avg_Allowable', 'AMERIHEALTH CARITAS PENNSYLVANIA 14900090_Avg_Allowable', 'AMERIHEALTH CARITAS PENNSYLVANIA 14900096_Avg_Allowable', 'AMERIHEALTH CARITAS PENNSYLVANIA 14900097_Avg_Allowable', 'AMERIHEALTH CARITAS PENNSYLVANIA 15000020_Avg_Allowable', 'AMERIHEALTH CARITAS PENNSYLVANIA 15000021_Avg_Allowable', 'AMERIHEALTH CARITAS PENNSYLVANIA 15000111_Avg_Allowable', 'AMERIHEALTH CARITAS PENNSYLVANIA 15100080_Avg_Allowable', 'AMERIHEALTH CARITAS PENNSYLVANIA 15100158_Avg_Allowable', 'AMERIHEALTH CARITAS PENNSYLVANIA 15100240_Avg_Allowable', 'AMERIHEALTH CARITAS PENNSYLVANIA 15200040_Avg_Allowable', 'AMERIHEALTH CARITAS PENNSYLVANIA 15200143_Avg_Allowable', 'AMERIHEALTH CARITAS PENNSYLVANIA 15200144_Avg_Allowable', 'AMERIHEALTH CARITAS PENNSYLVANIA 15200181_Avg_Allowable', 'AMERIHEALTH CARITAS PENNSYLVANIA 15200192_Avg_Allowable', 'AMERIHEALTH CARITAS PENNSYLVANIA 15300011_Avg_Allowable', 'AMERIHEALTH CARITAS PENNSYLVANIA 15300237_Avg_Allowable', 'AMERIHEALTH CARITAS PENNSYLVANIA 15300298_Avg_Allowable', 'AMERIHEALTH CARITAS PENNSYLVANIA 15300299_Avg_Allowable', 'AMERIHEALTH CARITAS PENNSYLVANIA 15400079_Avg_Allowable', 'AMERIHEALTH CARITAS PENNSYLVANIA 15400087_Avg_Allowable', 'AMERIHEALTH CARITAS PENNSYLVANIA 15400147_Avg_Allowable', 'AMERIHEALTH CARITAS PENNSYLVANIA 15500062_Avg_Allowable', 'AMERIHEALTH CARITAS PENNSYLVANIA 15500063_Avg_Allowable', 'AMERIHEALTH CARITAS PENNSYLVANIA 15600002_Avg_Allowable', 'AMERIHEALTH CARITAS VIP PA COMMUNITY HEALTHCHOICES 11500219_Avg_Allowable', 'AMERIHEALTH CARITAS VIP PA COMMUNITY HEALTHCHOICES 12400034_Avg_Allowable', 'AMERIHEALTH CARITAS VIP PA COMMUNITY HEALTHCHOICES 13100347_Avg_Allowable', 'AMERIHEALTH INC_Avg_Allowable', 'BAC INTERNATIONAL HEALTH FUND_Avg_Allowable', 'BLAISE ALEXANDER FAMILY DLRSHP_Avg_Allowable', 'BUCKNELL UNIVERSITY_Avg_Allowable', 'CAPITAL BLUE CROSS_Avg_Allowable', 'CAPITAL BLUECROSS_Avg_Allowable', 'CAREGIVERS AMERICA_Avg_Allowable', 'CIGNA HEALTH AND LIFE INSURANCE COMPANY DPP (POS)_Avg_Allowable', 'CIGNA HEALTH AND LIFE INSURANCE COMPANY OPEN ACCESS PLUS_Avg_Allowable', 'CIGNA HEALTH AND LIFE INSURANCE COMPANY OPEN ACCESS PLUS IN-NETWORK_Avg_Allowable', 'CIGNA HEALTH AND LIFE INSURANCE COMPANY PPO_Avg_Allowable', 'CIGNA HLTH LIFE OPEN ACCESS PLUS_Avg_Allowable', 'CONAGRA FOODS INC_Avg_Allowable', 'COUNTRY CUPBOARD INC_Avg_Allowable', 'DEER PARK LUMBER INC_Avg_Allowable', 'DEPARTMENT OF HUMAN SERVICES_Avg_Allowable', 'DEPARTMENT OF PUBLIC WELFARE_Avg_Allowable', 'EVANGELICAL COMMUNITY HOSPITAL_Avg_Allowable', 'GEISINGER HEALTH PLAN_Avg_Allowable', 'GEISINGER HEALTH SYSTEM_Avg_Allowable', 'GEISINGER INDEMNITY INS CO_Avg_Allowable', 'GEISINGER QUALITY OPTIONS INC_Avg_Allowable', 'GREATWESTHEALTHCARE-CIGNA EPO CONNECT_Avg_Allowable', 'GREATWESTHEALTHCARE-CIGNA HMO CONNECT_Avg_Allowable', 'GREATWESTHEALTHCARE-CIGNA OPEN ACCESS PLUS_Avg_Allowable', 'HIGHMARK BLUE SHIELD 41_Avg_Allowable', 'HIGHMARK BLUE SHIELD 45_Avg_Allowable', 'HIGHMARK BLUE SHIELD 72_Avg_Allowable', 'HIGHMARK BLUE SHIELD A1_Avg_Allowable', 'HIGHMARK BLUE SHIELD M7_Avg_Allowable', 'HIGHMARK HEALTH CARE ACCOUNT 41_Avg_Allowable', 'HIGHMARK SENIOR HEALTH COMPANY 45_Avg_Allowable', 'HIGHMARK SENIOR HEALTH COMPANY 72_Avg_Allowable', 'HIGHMARK SENIOR HEALTH COMPANY A1_Avg_Allowable', 'HIGHMARK SENIOR HEALTH COMPANY M1_Avg_Allowable', 'HIGHMARK SENIOR HEALTH COMPANY M7_Avg_Allowable', 'HUMANA INC MEDICAL HEALTH MAINTENANCE ORG_Avg_Allowable', 'HUMANA INC MEDICARE ADVANTAGE HMO_Avg_Allowable', 'HUMANA INC MEDICARE ADVANTAGE HMO FLORIDA_Avg_Allowable', 'HUMANA INC MEDICARE ADVANTAGE PFFS_Avg_Allowable', 'HUMANA INC MEDICARE ADVANTAGE PPO_Avg_Allowable', 'HUMANA INC NATIONAL POINT OF SERVICE_Avg_Allowable', 'JDK MANAGEMENT_Avg_Allowable', 'KANE WAREHOUSING LLC_Avg_Allowable', 'LIFE GEISINGER_Avg_Allowable', 'MEDICO CONSTRUCTION_Avg_Allowable', 'NOVITAS SOLUTIONS_Avg_Allowable', 'PA EMP BEN TRUST FUND - PEBTF_Avg_Allowable', 'PA TRUST_Avg_Allowable', 'PMF INDUSTRIES_Avg_Allowable', 'PRESS ENTERPRISE_Avg_Allowable', 'SIGNATURE BUILDING SYSTEMS_Avg_Allowable', 'SMALL GROUP TPA-SPEC AND AGG_Avg_Allowable', 'STEVE SHANNON TIRE_Avg_Allowable', 'SUSQUEHANNA UNIVERSITY_Avg_Allowable', 'UNION COUNTY_Avg_Allowable', 'VERIZON_Avg_Allowable', 'WISE FOODS_Avg_Allowable', None, None, None, None, None, None, None, None, None, None, None, None, None, None, None, None, None, None, None, None, None, None, None, None, None, None, None, None, None, None, None, None, None, None, None, None, None, None, None, None, None, None, None, None, None, None, None, None, None, None, None, None, None, None, None, None, None, None, None, None, None, None, None, None, None)\n",
      "CPU times: user 83 ms, sys: 3.54 ms, total: 86.6 ms\n",
      "Wall time: 85 ms\n"
     ]
    }
   ],
   "source": []
  },
  {
   "cell_type": "code",
   "execution_count": 34,
   "metadata": {},
   "outputs": [],
   "source": []
  },
  {
   "cell_type": "code",
   "execution_count": 52,
   "metadata": {},
   "outputs": [],
   "source": []
  },
  {
   "cell_type": "code",
   "execution_count": 59,
   "metadata": {},
   "outputs": [],
   "source": [
    "with requests.get('https://www.rwjbh.org/documents/billing/charge%20master/RWJ-New-Brunswick.xlsx', stream = True) as r:\n",
    "    data = BytesIO(r.content)\n",
    "    book = openpyxl.load_workbook(filename=data, read_only = True, data_only=True)"
   ]
  },
  {
   "cell_type": "code",
   "execution_count": 60,
   "metadata": {},
   "outputs": [
    {
     "data": {
      "text/plain": [
       "<openpyxl.workbook.workbook.Workbook at 0x15f612cd0>"
      ]
     },
     "execution_count": 60,
     "metadata": {},
     "output_type": "execute_result"
    }
   ],
   "source": [
    "book"
   ]
  },
  {
   "cell_type": "code",
   "execution_count": null,
   "metadata": {},
   "outputs": [],
   "source": []
  }
 ],
 "metadata": {
  "colab": {
   "provenance": []
  },
  "kernelspec": {
   "display_name": "Python 3 (ipykernel)",
   "language": "python",
   "name": "python3"
  },
  "language_info": {
   "codemirror_mode": {
    "name": "ipython",
    "version": 3
   },
   "file_extension": ".py",
   "mimetype": "text/x-python",
   "name": "python",
   "nbconvert_exporter": "python",
   "pygments_lexer": "ipython3",
   "version": "3.9.10"
  }
 },
 "nbformat": 4,
 "nbformat_minor": 4
}
